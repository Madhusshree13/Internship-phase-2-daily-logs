{
 "cells": [
  {
   "cell_type": "code",
   "execution_count": 4,
   "metadata": {},
   "outputs": [
    {
     "name": "stdout",
     "output_type": "stream",
     "text": [
      "       Validation                                            Details\n",
      "0  Missing Values             0 missing values (0.00% of total data)\n",
      "1      Duplicates                                   0 duplicate rows\n",
      "2        Outliers  {'Played_Id': 0, 'Age': 0, 'Assists': 0, 'Yell...\n",
      "3    Column Types  {'Played_Id': int64, 'Player': object, 'Team':...\n",
      "4       Age Range   Yes, the age column values lie between 0 and 120\n",
      "5   Unique Values  {'Played_Id': 5000, 'Player': 4, 'Team': 3, 'A...\n"
     ]
    }
   ],
   "source": [
    "import pandas as pd\n",
    "df=pd.read_csv(\"C:\\\\Users\\\\madhu\\\\OneDrive\\\\Desktop\\\\Sports_analysis_capstone\\\\new_dataset.csv\")\n",
    "\n",
    "def data_validation(df):\n",
    "    validation_results = []\n",
    "\n",
    "    # Check for missing values\n",
    "    missing_values = df.isnull().sum()\n",
    "    missing_values_percentage = (missing_values / len(df)) * 100\n",
    "    validation_results.append({\n",
    "        'Validation': 'Missing Values',\n",
    "        'Details': f'{missing_values.sum()} missing values ({missing_values_percentage.sum():.2f}% of total data)'\n",
    "    })\n",
    "    \n",
    "    # Check for duplicates\n",
    "    duplicates = df.duplicated().sum()\n",
    "    validation_results.append({\n",
    "        'Validation': 'Duplicates',\n",
    "        'Details': f'{duplicates} duplicate rows'\n",
    "    })\n",
    "\n",
    "    # Check for outliers using IQR method\n",
    "    outlier_results = {}\n",
    "    for column in df.select_dtypes(include=['float64', 'int64']).columns:\n",
    "        Q1 = df[column].quantile(0.25)\n",
    "        Q3 = df[column].quantile(0.75)\n",
    "        IQR = Q3 - Q1\n",
    "        outliers = ((df[column] < (Q1 - 1.5 * IQR)) | (df[column] > (Q3 + 1.5 * IQR))).sum()\n",
    "        outlier_results[column] = outliers\n",
    "\n",
    "    validation_results.append({\n",
    "        'Validation': 'Outliers',\n",
    "        'Details': outlier_results\n",
    "    })\n",
    "\n",
    "    # Check column types\n",
    "    column_types = df.dtypes.to_dict()\n",
    "    validation_results.append({\n",
    "        'Validation': 'Column Types',\n",
    "        'Details': column_types\n",
    "    })\n",
    "\n",
    "    # Check age range\n",
    "    if 'Age' in df.columns:\n",
    "        age_check = df['Age'].between(0, 120).all()\n",
    "        age_check_result = \"Yes, the age column values lie between 0 and 120\" if age_check else \"No, some age column values do not lie between 0 and 120\"\n",
    "    else:\n",
    "        age_check_result = \"Age column is not present in the DataFrame\"\n",
    "\n",
    "    validation_results.append({\n",
    "        'Validation': 'Age Range',\n",
    "        'Details': age_check_result\n",
    "    })\n",
    "\n",
    "    # Check for unique values in each column\n",
    "    unique_values = {column: df[column].nunique() for column in df.columns}\n",
    "    validation_results.append({\n",
    "        'Validation': 'Unique Values',\n",
    "        'Details': unique_values\n",
    "    })\n",
    "\n",
    "    # Save validation results to a CSV file\n",
    "    validation_df = pd.DataFrame(validation_results)\n",
    "    validation_df.to_csv(\"DataValidated_dataset.csv\", index=False)\n",
    "    \n",
    "    return validation_df\n",
    "\n",
    "\n",
    "\n",
    "# Perform data validation\n",
    "validation_results = data_validation(df)\n",
    "print(validation_results)\n"
   ]
  },
  {
   "cell_type": "code",
   "execution_count": null,
   "metadata": {},
   "outputs": [],
   "source": []
  },
  {
   "cell_type": "code",
   "execution_count": null,
   "metadata": {},
   "outputs": [],
   "source": []
  }
 ],
 "metadata": {
  "kernelspec": {
   "display_name": "Python 3",
   "language": "python",
   "name": "python3"
  },
  "language_info": {
   "codemirror_mode": {
    "name": "ipython",
    "version": 3
   },
   "file_extension": ".py",
   "mimetype": "text/x-python",
   "name": "python",
   "nbconvert_exporter": "python",
   "pygments_lexer": "ipython3",
   "version": "3.10.7"
  }
 },
 "nbformat": 4,
 "nbformat_minor": 2
}

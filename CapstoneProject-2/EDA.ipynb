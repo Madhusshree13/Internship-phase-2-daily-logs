{
 "cells": [
  {
   "cell_type": "markdown",
   "metadata": {},
   "source": [
    "# Code Structure"
   ]
  },
  {
   "cell_type": "markdown",
   "metadata": {},
   "source": [
    "## The Analysis of the dataset is organised as follows"
   ]
  },
  {
   "cell_type": "markdown",
   "metadata": {},
   "source": [
    "###     *The Analysis code will be organized into the following sections:*\n",
    "####    1.) *Introduction*\n",
    "####    2.) *Data Loading and Preprocessing  : Loading the Sports dataset and preparing it for analysis.*\n",
    "####    3.) *Exploratory Data Analysis: Conducting exploratory analysis to gain insights into the dataset's characteristics.*\n",
    "####    4.) *Predictive analysis: Conducting predictive analysis to predict certain outcomes based on historical data*\n",
    "####    5.) *Conclusion*"
   ]
  },
  {
   "cell_type": "markdown",
   "metadata": {},
   "source": [
    "# Introduction"
   ]
  },
  {
   "cell_type": "markdown",
   "metadata": {},
   "source": []
  },
  {
   "cell_type": "markdown",
   "metadata": {},
   "source": [
    "# Data Loading and Preprocessing"
   ]
  },
  {
   "cell_type": "markdown",
   "metadata": {},
   "source": [
    "#### Original dataset : https://github.com/Madhusshree13/Internship-phase-2-daily-logs/blob/main/CapstoneProject-2/Sports%20dataset.csv\n",
    "#### Preprocessing data file : \n",
    "#### Preprocessed dataset :"
   ]
  },
  {
   "cell_type": "markdown",
   "metadata": {},
   "source": [
    "# Explorartory Data Analysis"
   ]
  },
  {
   "cell_type": "markdown",
   "metadata": {},
   "source": [
    "\n",
    "- Exploratory Data Analysis (EDA) is a crucial initial step in the data analysis process, involving the systematic exploration and visualization of a dataset to uncover patterns, trends, and insights. \n",
    "- Through descriptive statistics, data visualization, and hypothesis generation, EDA provides a comprehensive understanding of the dataset's structure and relationships, guiding subsequent analyses and informing decision-making processes.\n",
    "#### Steps in EDA include:\n",
    "\n",
    "- Descriptive Analysis: Summarizing main data characteristics.\n",
    "- Univariate Analysis: Examining individual variable distributions.\n",
    "- Bivariate Analysis: Exploring relationships between pairs of variables.\n",
    "- Demographic analysis: Examining population characteristics like age, gender, etc to understand trends, distributions, within a group or region.\n",
    "- Temporal Analysis: Analyzing data trends over time.\n"
   ]
  },
  {
   "cell_type": "markdown",
   "metadata": {},
   "source": [
    "## Descriptive Statistics"
   ]
  },
  {
   "cell_type": "markdown",
   "metadata": {},
   "source": [
    "### Importing Necessary libraries"
   ]
  },
  {
   "cell_type": "code",
   "execution_count": 61,
   "metadata": {},
   "outputs": [],
   "source": [
    "import pandas as pd\n",
    "import numpy as np\n",
    "import seaborn as sns\n",
    "import matplotlib.pyplot as plt\n",
    "import scipy as scipy\n",
    "from sklearn.preprocessing import MinMaxScaler"
   ]
  },
  {
   "cell_type": "markdown",
   "metadata": {},
   "source": [
    "### Reading CSV"
   ]
  },
  {
   "cell_type": "code",
   "execution_count": 62,
   "metadata": {},
   "outputs": [
    {
     "name": "stdout",
     "output_type": "stream",
     "text": [
      "   Played_Id    Player    Team  Age  Position  Assists  YellowCards  RedCards  \\\n",
      "0          0  player c  team c   31  defender        2            4         3   \n",
      "1          1  player d  team c   22  defender       16            8         2   \n",
      "2          2  player a  team c   27  defender       13            8         0   \n",
      "3          3  player c  team c   29   forward        1            3         3   \n",
      "4          4  player c  team c   27  defender        8            1         2   \n",
      "\n",
      "   PassCompletionRate  DistanceCovered  ...  InjuryHistory  TrainingHours  \\\n",
      "0           81.644912        10.883001  ...              0             18   \n",
      "1           76.288018         5.650024  ...              8             15   \n",
      "2           78.247265         9.236842  ...              8             17   \n",
      "3           99.742740         8.523576  ...              4             19   \n",
      "4           51.430636         7.239479  ...              1              6   \n",
      "\n",
      "   Season  Goals_winsorized  Height_winsorized  Weight_winsorized  \\\n",
      "0    2022                11         164.238236          64.899554   \n",
      "1    2019                 2         164.489643          55.636159   \n",
      "2    2022                19         221.507242          89.325850   \n",
      "3    2020                13         184.567349          50.952308   \n",
      "4    2022                 6         192.172813          78.832881   \n",
      "\n",
      "   FatigueInjuryCorrelation_winsorized  PressurePerformanceImpact_winsorized  \\\n",
      "0                             1.864902                              1.416667   \n",
      "1                             0.222857                              6.666667   \n",
      "2                             0.000000                              8.000000   \n",
      "3                             0.077487                              2.142857   \n",
      "4                             1.029822                              9.857143   \n",
      "\n",
      "   EffectiveTraining_winsorized  Goals  \n",
      "0                    247.074763   11.0  \n",
      "1                    216.066045    2.0  \n",
      "2                    359.936777   13.0  \n",
      "3                    271.347911    6.0  \n",
      "4                    112.185952    6.0  \n",
      "\n",
      "[5 rows x 26 columns]\n"
     ]
    }
   ],
   "source": [
    "df=pd.read_csv(\"C:\\\\Users\\\\madhu\\\\OneDrive\\\\Desktop\\\\Sports_analysis_capstone\\\\new_dataset.csv\")\n",
    "print(df.head(5))"
   ]
  },
  {
   "cell_type": "markdown",
   "metadata": {},
   "source": [
    "### Displaying total number of rows and columns"
   ]
  },
  {
   "cell_type": "code",
   "execution_count": 63,
   "metadata": {},
   "outputs": [
    {
     "name": "stdout",
     "output_type": "stream",
     "text": [
      "The total number of rows is 16628 and the total number of columns is 26\n"
     ]
    }
   ],
   "source": [
    "rows,columns=df.shape\n",
    "print(\"The total number of rows is\",df.shape[0],\"and the total number of columns is\",df.shape[1])\n"
   ]
  },
  {
   "cell_type": "markdown",
   "metadata": {},
   "source": [
    "### Displaying the columns "
   ]
  },
  {
   "cell_type": "code",
   "execution_count": 64,
   "metadata": {},
   "outputs": [
    {
     "name": "stdout",
     "output_type": "stream",
     "text": [
      "Index(['Played_Id', 'Player', 'Team', 'Age', 'Position', 'Assists',\n",
      "       'YellowCards', 'RedCards', 'PassCompletionRate', 'DistanceCovered',\n",
      "       'Sprints', 'ShotsOnTarget', 'TacklesWon', 'CleanSheets',\n",
      "       'PlayerFatigue', 'MatchPressure', 'InjuryHistory', 'TrainingHours',\n",
      "       'Season', 'Goals_winsorized', 'Height_winsorized', 'Weight_winsorized',\n",
      "       'FatigueInjuryCorrelation_winsorized',\n",
      "       'PressurePerformanceImpact_winsorized', 'EffectiveTraining_winsorized',\n",
      "       'Goals'],\n",
      "      dtype='object')\n",
      "The total number of columns is 26\n"
     ]
    }
   ],
   "source": [
    "print(df.columns)\n",
    "print(\"The total number of columns is\",df.shape[1])\n"
   ]
  },
  {
   "cell_type": "markdown",
   "metadata": {},
   "source": [
    "### Displaying the data types of columns"
   ]
  },
  {
   "cell_type": "code",
   "execution_count": 65,
   "metadata": {},
   "outputs": [
    {
     "name": "stdout",
     "output_type": "stream",
     "text": [
      "The datatypes of the columns are: \n",
      "Played_Id                                 int64\n",
      "Player                                   object\n",
      "Team                                     object\n",
      "Age                                       int64\n",
      "Position                                 object\n",
      "Assists                                   int64\n",
      "YellowCards                               int64\n",
      "RedCards                                  int64\n",
      "PassCompletionRate                      float64\n",
      "DistanceCovered                         float64\n",
      "Sprints                                   int64\n",
      "ShotsOnTarget                             int64\n",
      "TacklesWon                                int64\n",
      "CleanSheets                               int64\n",
      "PlayerFatigue                           float64\n",
      "MatchPressure                             int64\n",
      "InjuryHistory                             int64\n",
      "TrainingHours                             int64\n",
      "Season                                    int64\n",
      "Goals_winsorized                          int64\n",
      "Height_winsorized                       float64\n",
      "Weight_winsorized                       float64\n",
      "FatigueInjuryCorrelation_winsorized     float64\n",
      "PressurePerformanceImpact_winsorized    float64\n",
      "EffectiveTraining_winsorized            float64\n",
      "Goals                                   float64\n",
      "dtype: object\n"
     ]
    }
   ],
   "source": [
    "print(\"The datatypes of the columns are: \")\n",
    "print(df.dtypes)"
   ]
  },
  {
   "cell_type": "markdown",
   "metadata": {},
   "source": [
    "### Column of int datatype"
   ]
  },
  {
   "cell_type": "code",
   "execution_count": 66,
   "metadata": {},
   "outputs": [
    {
     "name": "stdout",
     "output_type": "stream",
     "text": [
      "Columns with integer data type:\n",
      "Played_Id\n",
      "Age\n",
      "Assists\n",
      "YellowCards\n",
      "RedCards\n",
      "Sprints\n",
      "ShotsOnTarget\n",
      "TacklesWon\n",
      "CleanSheets\n",
      "MatchPressure\n",
      "InjuryHistory\n",
      "TrainingHours\n",
      "Season\n",
      "Goals_winsorized\n"
     ]
    }
   ],
   "source": [
    "int_columns = df.select_dtypes(include='int').columns\n",
    "print(\"Columns with integer data type:\")\n",
    "for col in int_columns:\n",
    "    print(col)"
   ]
  },
  {
   "cell_type": "markdown",
   "metadata": {},
   "source": [
    "### Columns of float datatype"
   ]
  },
  {
   "cell_type": "code",
   "execution_count": 67,
   "metadata": {},
   "outputs": [
    {
     "name": "stdout",
     "output_type": "stream",
     "text": [
      "Columns with float data type:\n",
      "PassCompletionRate\n",
      "DistanceCovered\n",
      "PlayerFatigue\n",
      "Height_winsorized\n",
      "Weight_winsorized\n",
      "FatigueInjuryCorrelation_winsorized\n",
      "PressurePerformanceImpact_winsorized\n",
      "EffectiveTraining_winsorized\n",
      "Goals\n"
     ]
    }
   ],
   "source": [
    "float_columns = df.select_dtypes(include='float').columns\n",
    "print(\"Columns with float data type:\")\n",
    "for col in float_columns:\n",
    "    print(col)"
   ]
  },
  {
   "cell_type": "markdown",
   "metadata": {},
   "source": [
    "### Columns of object datatype"
   ]
  },
  {
   "cell_type": "code",
   "execution_count": 68,
   "metadata": {},
   "outputs": [
    {
     "name": "stdout",
     "output_type": "stream",
     "text": [
      "Columns with obj data type:\n",
      "Player\n",
      "Team\n",
      "Position\n"
     ]
    }
   ],
   "source": [
    "obj_columns = df.select_dtypes(include='object').columns\n",
    "print(\"Columns with obj data type:\")\n",
    "for col in obj_columns:\n",
    "    print(col)"
   ]
  },
  {
   "cell_type": "markdown",
   "metadata": {},
   "source": [
    "### Desccribing the columns using statistics"
   ]
  },
  {
   "cell_type": "code",
   "execution_count": 69,
   "metadata": {},
   "outputs": [
    {
     "name": "stdout",
     "output_type": "stream",
     "text": [
      "           Played_Id    Player    Team           Age    Position  \\\n",
      "count   16628.000000     16628   16628  16628.000000       16628   \n",
      "unique           NaN         4       3           NaN           4   \n",
      "top              NaN  player a  team c           NaN  goalkeeper   \n",
      "freq             NaN      4392    5600           NaN        4398   \n",
      "mean     2504.895117       NaN     NaN     28.580888         NaN   \n",
      "std      1438.938794       NaN     NaN      6.313201         NaN   \n",
      "min         0.000000       NaN     NaN     18.000000         NaN   \n",
      "25%      1257.000000       NaN     NaN     23.000000         NaN   \n",
      "50%      2508.500000       NaN     NaN     29.000000         NaN   \n",
      "75%      3754.000000       NaN     NaN     34.000000         NaN   \n",
      "max      4999.000000       NaN     NaN     39.000000         NaN   \n",
      "\n",
      "             Assists   YellowCards      RedCards  PassCompletionRate  \\\n",
      "count   16628.000000  16628.000000  16628.000000        16628.000000   \n",
      "unique           NaN           NaN           NaN                 NaN   \n",
      "top              NaN           NaN           NaN                 NaN   \n",
      "freq             NaN           NaN           NaN                 NaN   \n",
      "mean        9.550878      4.551119      1.997294           76.913748   \n",
      "std         5.346276      2.846545      1.400343           15.715596   \n",
      "min         0.000000      0.000000      0.000000           50.010158   \n",
      "25%         5.000000      2.000000      1.000000           64.269260   \n",
      "50%        10.000000      5.000000      2.000000           75.856009   \n",
      "75%        14.000000      7.000000      3.000000           88.862162   \n",
      "max        19.000000      9.000000      4.000000          119.988897   \n",
      "\n",
      "        DistanceCovered  ...  InjuryHistory  TrainingHours        Season  \\\n",
      "count      16628.000000  ...   16628.000000   16628.000000  16628.000000   \n",
      "unique              NaN  ...            NaN            NaN           NaN   \n",
      "top                 NaN  ...            NaN            NaN           NaN   \n",
      "freq                NaN  ...            NaN            NaN           NaN   \n",
      "mean          10.009564  ...       4.480094      11.928975   2020.501443   \n",
      "std            2.894875  ...       2.853665       4.297187      1.120914   \n",
      "min            5.000933  ...       0.000000       5.000000   2019.000000   \n",
      "25%            7.501221  ...       2.000000       8.000000   2020.000000   \n",
      "50%            9.989489  ...       4.000000      12.000000   2020.000000   \n",
      "75%           12.525031  ...       7.000000      16.000000   2022.000000   \n",
      "max           14.997971  ...       9.000000      19.000000   2022.000000   \n",
      "\n",
      "        Goals_winsorized  Height_winsorized  Weight_winsorized  \\\n",
      "count       16628.000000       16628.000000       16628.000000   \n",
      "unique               NaN                NaN                NaN   \n",
      "top                  NaN                NaN                NaN   \n",
      "freq                 NaN                NaN                NaN   \n",
      "mean           19.488934         181.931407          88.834355   \n",
      "std            13.403300          13.236704          21.593643   \n",
      "min             0.000000         160.009635          50.017672   \n",
      "25%            10.000000         172.006412          73.176822   \n",
      "50%            18.000000         181.193032          88.228607   \n",
      "75%            26.000000         190.357278         103.452687   \n",
      "max            49.000000         221.507242         154.331549   \n",
      "\n",
      "        FatigueInjuryCorrelation_winsorized  \\\n",
      "count                          16628.000000   \n",
      "unique                                  NaN   \n",
      "top                                     NaN   \n",
      "freq                                    NaN   \n",
      "mean                               2.239917   \n",
      "std                                2.083507   \n",
      "min                                0.000000   \n",
      "25%                                0.531720   \n",
      "50%                                1.659992   \n",
      "75%                                3.460363   \n",
      "max                                7.853327   \n",
      "\n",
      "        PressurePerformanceImpact_winsorized  EffectiveTraining_winsorized  \\\n",
      "count                           16628.000000                  16628.000000   \n",
      "unique                                   NaN                           NaN   \n",
      "top                                      NaN                           NaN   \n",
      "freq                                     NaN                           NaN   \n",
      "mean                                4.318157                    325.435033   \n",
      "std                                 3.808385                    190.863516   \n",
      "min                                 0.007380                      0.000000   \n",
      "25%                                 1.500000                    181.393161   \n",
      "50%                                 3.117647                    291.058533   \n",
      "75%                                 5.714286                    431.634647   \n",
      "max                                12.938095                    837.248219   \n",
      "\n",
      "               Goals  \n",
      "count   13731.000000  \n",
      "unique           NaN  \n",
      "top              NaN  \n",
      "freq             NaN  \n",
      "mean       16.364212  \n",
      "std        12.873720  \n",
      "min         0.000000  \n",
      "25%         8.000000  \n",
      "50%        15.000000  \n",
      "75%        23.000000  \n",
      "max        90.000000  \n",
      "\n",
      "[11 rows x 26 columns]\n"
     ]
    }
   ],
   "source": [
    "print(df.describe(include='all'))"
   ]
  },
  {
   "cell_type": "markdown",
   "metadata": {},
   "source": [
    "### Number of Participants"
   ]
  },
  {
   "cell_type": "code",
   "execution_count": 70,
   "metadata": {},
   "outputs": [
    {
     "name": "stdout",
     "output_type": "stream",
     "text": [
      "Unique number of participants:\n",
      "5000\n"
     ]
    }
   ],
   "source": [
    "unique_participants = df['Played_Id'].nunique()\n",
    "print(\"Unique number of participants:\")\n",
    "print(unique_participants)"
   ]
  },
  {
   "cell_type": "markdown",
   "metadata": {},
   "source": [
    "### Number of participants by team"
   ]
  },
  {
   "cell_type": "code",
   "execution_count": 71,
   "metadata": {},
   "outputs": [
    {
     "name": "stdout",
     "output_type": "stream",
     "text": [
      "Number of participants by team:\n",
      "team c    5600\n",
      "team b    5577\n",
      "team a    5451\n",
      "Name: Team, dtype: int64\n"
     ]
    }
   ],
   "source": [
    "print(\"Number of participants by team:\")\n",
    "team_counts=df['Team'].value_counts()\n",
    "print(team_counts)"
   ]
  },
  {
   "cell_type": "code",
   "execution_count": 72,
   "metadata": {},
   "outputs": [
    {
     "name": "stderr",
     "output_type": "stream",
     "text": [
      "C:\\Users\\madhu\\AppData\\Local\\Temp\\ipykernel_20596\\2493044535.py:2: FutureWarning:\n",
      "\n",
      "\n",
      "\n",
      "Passing `palette` without assigning `hue` is deprecated and will be removed in v0.14.0. Assign the `x` variable to `hue` and set `legend=False` for the same effect.\n",
      "\n",
      "\n"
     ]
    },
    {
     "data": {
      "image/png": "[encoded data removed]",
      "text/plain": [
       "<Figure size 1000x600 with 1 Axes>"
      ]
     },
     "metadata": {},
     "output_type": "display_data"
    }
   ],
   "source": [
    "plt.figure(figsize=(10, 6))\n",
    "sns.barplot(x=df['Team'].value_counts().index, y=df['Team'].value_counts().values, palette='viridis')\n",
    "plt.title('Number of Participants by Team')\n",
    "plt.xlabel('Team')\n",
    "plt.ylabel('Number of Participants')\n",
    "plt.show()"
   ]
  },
  {
   "cell_type": "markdown",
   "metadata": {},
   "source": [
    "### Number of participants by Season"
   ]
  },
  {
   "cell_type": "code",
   "execution_count": 73,
   "metadata": {},
   "outputs": [
    {
     "name": "stdout",
     "output_type": "stream",
     "text": [
      "Number of participants by Season:\n",
      "2022    4211\n",
      "2020    4189\n",
      "2019    4156\n",
      "2021    4072\n",
      "Name: Season, dtype: int64\n"
     ]
    }
   ],
   "source": [
    "print(\"Number of participants by Season:\")\n",
    "print(df['Season'].value_counts())"
   ]
  },
  {
   "cell_type": "code",
   "execution_count": 74,
   "metadata": {},
   "outputs": [
    {
     "data": {
      "image/png": "[encoded data removed]",
      "text/plain": [
       "<Figure size 800x800 with 1 Axes>"
      ]
     },
     "metadata": {},
     "output_type": "display_data"
    }
   ],
   "source": [
    "plt.figure(figsize=(8, 8))\n",
    "df['Season'].value_counts().plot(kind='pie', autopct='%1.1f%%', colors=['lightgreen', 'lightcoral']) #Colour reference from online\n",
    "plt.title('Percentage of Participants by Season')\n",
    "plt.ylabel('')\n",
    "plt.show()"
   ]
  },
  {
   "cell_type": "markdown",
   "metadata": {},
   "source": [
    "## Univariate Analysis\n"
   ]
  },
  {
   "cell_type": "markdown",
   "metadata": {},
   "source": [
    "- Univariate analysis involves examining a single variable at a time to understand its distribution, central tendency, and variability. \n",
    "- It provides insights into the characteristics of individual variables, such as counts, frequencies, and summary statistics, without considering relationships with other variables"
   ]
  },
  {
   "cell_type": "markdown",
   "metadata": {},
   "source": [
    "### Subplots for each column against their frequency"
   ]
  },
  {
   "cell_type": "code",
   "execution_count": 75,
   "metadata": {},
   "outputs": [
    {
     "data": {
      "text/plain": [
       "Text(0, 0.5, 'Frequency')"
      ]
     },
     "execution_count": 75,
     "metadata": {},
     "output_type": "execute_result"
    },
    {
     "data": {
      "image/png": "[encoded data removed]",
      "text/plain": [
       "<Figure size 1600x1000 with 4 Axes>"
      ]
     },
     "metadata": {},
     "output_type": "display_data"
    }
   ],
   "source": [
    "\n",
    "sns.set(style=\"whitegrid\")\n",
    "# Create subplots\n",
    "fig, axes = plt.subplots(2, 2, figsize=(16, 10))\n",
    "\n",
    "# Player Distribution Across Positions\n",
    "sns.countplot(data=df, x='Position', order=df['Position'].value_counts().index, ax=axes[0, 0])\n",
    "axes[0, 0].set_title('Player Distribution Across Positions')\n",
    "axes[0, 0].set_xlabel('Position')\n",
    "axes[0, 0].set_ylabel('Number of Players')\n",
    "\n",
    "# Assists Distribution\n",
    "sns.histplot(df['Assists'], kde=True, ax=axes[0, 1])\n",
    "axes[0, 1].set_title('Assists Distribution')\n",
    "axes[0, 1].set_xlabel('Assists')\n",
    "axes[0, 1].set_ylabel('Frequency')\n",
    "\n",
    "# Pass Completion Rate Distribution\n",
    "sns.histplot(df['PassCompletionRate'], kde=True, ax=axes[1, 0])\n",
    "axes[1, 0].set_title('Pass Completion Rate Distribution')\n",
    "axes[1, 0].set_xlabel('Pass Completion Rate')\n",
    "axes[1, 0].set_ylabel('Frequency')\n",
    "\n",
    "# Shots on Target Distribution\n",
    "sns.histplot(df['ShotsOnTarget'], kde=True, ax=axes[1, 1])\n",
    "axes[1, 1].set_title('Shots on Target Distribution')\n",
    "axes[1, 1].set_xlabel('Shots On Target')\n",
    "axes[1, 1].set_ylabel('Frequency')"
   ]
  },
  {
   "cell_type": "code",
   "execution_count": 76,
   "metadata": {},
   "outputs": [
    {
     "data": {
      "text/plain": [
       "Text(0, 0.5, 'Frequency')"
      ]
     },
     "execution_count": 76,
     "metadata": {},
     "output_type": "execute_result"
    },
    {
     "data": {
      "image/png": "[encoded data removed]",
      "text/plain": [
       "<Figure size 1400x500 with 2 Axes>"
      ]
     },
     "metadata": {},
     "output_type": "display_data"
    }
   ],
   "source": [
    "\n",
    "sns.set(style=\"whitegrid\")\n",
    "# Create subplots\n",
    "fig, axes = plt.subplots(1, 2, figsize=(14, 5))\n",
    "\n",
    "# Tackles Won Distribution\n",
    "sns.histplot(df['TacklesWon'], kde=True, ax=axes[0])\n",
    "axes[0].set_title('Tackles Won Distribution')\n",
    "axes[0].set_xlabel('Tackles Won')\n",
    "axes[0].set_ylabel('Frequency')\n",
    "\n",
    "# Clean Sheets Distribution\n",
    "sns.histplot(df['CleanSheets'], kde=True, ax=axes[1])\n",
    "axes[1].set_title('Clean Sheets Distribution')\n",
    "axes[1].set_xlabel('Clean Sheets')\n",
    "axes[1].set_ylabel('Frequency')\n",
    "\n"
   ]
  },
  {
   "cell_type": "markdown",
   "metadata": {},
   "source": [
    "## Business Analytics"
   ]
  },
  {
   "cell_type": "markdown",
   "metadata": {},
   "source": [
    "#### KPI's \n",
    "- KPI- Key Performance Indicator\n",
    "- In our context, we choose KPI's for each player position and analyze accordingly\n",
    "- The Player position are : Goalkeeper, Midfielder, Forward, Defender.\n",
    "\n",
    "- Goalkeeper KPI : CleanSheets, PassCompletionRate, ShotsOnTarget, PressurePerformanceImpact\n",
    "- Midfielder KPI : Assists, PassCompletionRate, DistanceCovered, Sprints\n",
    "- Defender KPI   : TacklesWon, Assists, YellowCards, RedCards\n",
    "- Forward KPI   : Assists, Goals, ShotsOnTarget, PressurePerformanceImpact, EffectiveTraining,PlayerFatigue"
   ]
  },
  {
   "cell_type": "markdown",
   "metadata": {},
   "source": [
    "## Goalkeeper focused"
   ]
  },
  {
   "cell_type": "code",
   "execution_count": 77,
   "metadata": {},
   "outputs": [
    {
     "name": "stdout",
     "output_type": "stream",
     "text": [
      "The Number of players labeled as goalkeepers: 4398\n"
     ]
    }
   ],
   "source": [
    "goalkeeper_count = df[df['Position'] == 'goalkeeper'].shape[0]\n",
    "print(\"The Number of players labeled as goalkeepers:\", goalkeeper_count)"
   ]
  },
  {
   "cell_type": "markdown",
   "metadata": {},
   "source": [
    "#### Target : High CleanSheet, High PassCompletionRate, High ShotsOnTarget, High PressureperformanceImpact to select the top players"
   ]
  },
  {
   "cell_type": "markdown",
   "metadata": {},
   "source": [
    "## CleanSheet Analysis"
   ]
  },
  {
   "cell_type": "markdown",
   "metadata": {},
   "source": [
    "#### High CleanSheet Player_Id's"
   ]
  },
  {
   "cell_type": "code",
   "execution_count": 78,
   "metadata": {},
   "outputs": [
    {
     "name": "stdout",
     "output_type": "stream",
     "text": [
      "Unique Played_Id values of players with high CleanSheet values in the goalkeeper position:\n",
      "Played_Id: 11, CleanSheets: 9\n",
      "Played_Id: 19, CleanSheets: 9\n",
      "Played_Id: 74, CleanSheets: 9\n",
      "Played_Id: 79, CleanSheets: 9\n",
      "Played_Id: 110, CleanSheets: 9\n",
      "Played_Id: 123, CleanSheets: 9\n",
      "Played_Id: 185, CleanSheets: 9\n",
      "Played_Id: 214, CleanSheets: 9\n",
      "Played_Id: 215, CleanSheets: 9\n",
      "Played_Id: 245, CleanSheets: 9\n",
      "Played_Id: 250, CleanSheets: 9\n",
      "Played_Id: 258, CleanSheets: 9\n",
      "Played_Id: 369, CleanSheets: 9\n",
      "Played_Id: 402, CleanSheets: 9\n",
      "Played_Id: 434, CleanSheets: 9\n",
      "Played_Id: 487, CleanSheets: 9\n",
      "Played_Id: 546, CleanSheets: 9\n",
      "Played_Id: 572, CleanSheets: 9\n",
      "Played_Id: 576, CleanSheets: 9\n",
      "Played_Id: 582, CleanSheets: 9\n",
      "Played_Id: 643, CleanSheets: 9\n",
      "Played_Id: 680, CleanSheets: 9\n",
      "Played_Id: 765, CleanSheets: 9\n",
      "Played_Id: 801, CleanSheets: 9\n",
      "Played_Id: 1024, CleanSheets: 9\n",
      "Played_Id: 1122, CleanSheets: 9\n",
      "Played_Id: 1175, CleanSheets: 9\n",
      "Played_Id: 1186, CleanSheets: 9\n",
      "Played_Id: 1223, CleanSheets: 9\n",
      "Played_Id: 1397, CleanSheets: 9\n",
      "Played_Id: 1547, CleanSheets: 9\n",
      "Played_Id: 1628, CleanSheets: 9\n",
      "Played_Id: 1647, CleanSheets: 9\n",
      "Played_Id: 1660, CleanSheets: 9\n",
      "Played_Id: 1709, CleanSheets: 9\n",
      "Played_Id: 1778, CleanSheets: 9\n",
      "Played_Id: 1841, CleanSheets: 9\n",
      "Played_Id: 1856, CleanSheets: 9\n",
      "Played_Id: 1868, CleanSheets: 9\n",
      "Played_Id: 1882, CleanSheets: 9\n",
      "Played_Id: 1890, CleanSheets: 9\n",
      "Played_Id: 1924, CleanSheets: 9\n",
      "Played_Id: 1931, CleanSheets: 9\n",
      "Played_Id: 1934, CleanSheets: 9\n",
      "Played_Id: 1937, CleanSheets: 9\n",
      "Played_Id: 2022, CleanSheets: 9\n",
      "Played_Id: 2094, CleanSheets: 9\n",
      "Played_Id: 2117, CleanSheets: 9\n",
      "Played_Id: 2167, CleanSheets: 9\n",
      "Played_Id: 2181, CleanSheets: 9\n",
      "Played_Id: 2226, CleanSheets: 9\n",
      "Played_Id: 2275, CleanSheets: 9\n",
      "Played_Id: 2294, CleanSheets: 9\n",
      "Played_Id: 2319, CleanSheets: 9\n",
      "Played_Id: 2382, CleanSheets: 9\n",
      "Played_Id: 2412, CleanSheets: 9\n",
      "Played_Id: 2427, CleanSheets: 9\n",
      "Played_Id: 2434, CleanSheets: 9\n",
      "Played_Id: 2448, CleanSheets: 9\n",
      "Played_Id: 2484, CleanSheets: 9\n",
      "Played_Id: 2492, CleanSheets: 9\n",
      "Played_Id: 2584, CleanSheets: 9\n",
      "Played_Id: 2590, CleanSheets: 9\n",
      "Played_Id: 2616, CleanSheets: 9\n",
      "Played_Id: 2638, CleanSheets: 9\n",
      "Played_Id: 2644, CleanSheets: 9\n",
      "Played_Id: 2743, CleanSheets: 9\n",
      "Played_Id: 2745, CleanSheets: 9\n",
      "Played_Id: 2764, CleanSheets: 9\n",
      "Played_Id: 2841, CleanSheets: 9\n",
      "Played_Id: 2950, CleanSheets: 9\n",
      "Played_Id: 2964, CleanSheets: 9\n",
      "Played_Id: 3015, CleanSheets: 9\n",
      "Played_Id: 3035, CleanSheets: 9\n",
      "Played_Id: 3168, CleanSheets: 9\n",
      "Played_Id: 3186, CleanSheets: 9\n",
      "Played_Id: 3188, CleanSheets: 9\n",
      "Played_Id: 3225, CleanSheets: 9\n",
      "Played_Id: 3265, CleanSheets: 9\n",
      "Played_Id: 3274, CleanSheets: 9\n",
      "Played_Id: 3363, CleanSheets: 9\n",
      "Played_Id: 3394, CleanSheets: 9\n",
      "Played_Id: 3399, CleanSheets: 9\n",
      "Played_Id: 3465, CleanSheets: 9\n",
      "Played_Id: 3526, CleanSheets: 9\n",
      "Played_Id: 3539, CleanSheets: 9\n",
      "Played_Id: 3541, CleanSheets: 9\n",
      "Played_Id: 3645, CleanSheets: 9\n",
      "Played_Id: 3674, CleanSheets: 9\n",
      "Played_Id: 3727, CleanSheets: 9\n",
      "Played_Id: 3744, CleanSheets: 9\n",
      "Played_Id: 3767, CleanSheets: 9\n",
      "Played_Id: 3797, CleanSheets: 9\n",
      "Played_Id: 3844, CleanSheets: 9\n",
      "Played_Id: 3893, CleanSheets: 9\n",
      "Played_Id: 3950, CleanSheets: 9\n",
      "Played_Id: 3979, CleanSheets: 9\n",
      "Played_Id: 4002, CleanSheets: 9\n",
      "Played_Id: 4028, CleanSheets: 9\n",
      "Played_Id: 4087, CleanSheets: 9\n",
      "Played_Id: 4088, CleanSheets: 9\n",
      "Played_Id: 4118, CleanSheets: 9\n",
      "Played_Id: 4137, CleanSheets: 9\n",
      "Played_Id: 4153, CleanSheets: 9\n",
      "Played_Id: 4210, CleanSheets: 9\n",
      "Played_Id: 4318, CleanSheets: 9\n",
      "Played_Id: 4320, CleanSheets: 9\n",
      "Played_Id: 4362, CleanSheets: 9\n",
      "Played_Id: 4374, CleanSheets: 9\n",
      "Played_Id: 4379, CleanSheets: 9\n",
      "Played_Id: 4428, CleanSheets: 9\n",
      "Played_Id: 4457, CleanSheets: 9\n",
      "Played_Id: 4459, CleanSheets: 9\n",
      "Played_Id: 4462, CleanSheets: 9\n",
      "Played_Id: 4484, CleanSheets: 9\n",
      "Played_Id: 4542, CleanSheets: 9\n",
      "Played_Id: 4572, CleanSheets: 9\n",
      "Played_Id: 4598, CleanSheets: 9\n",
      "Played_Id: 4606, CleanSheets: 9\n",
      "Played_Id: 4646, CleanSheets: 9\n",
      "Played_Id: 4678, CleanSheets: 9\n",
      "Played_Id: 4679, CleanSheets: 9\n",
      "Played_Id: 4713, CleanSheets: 9\n",
      "Played_Id: 4740, CleanSheets: 9\n",
      "Played_Id: 4763, CleanSheets: 9\n",
      "Played_Id: 4777, CleanSheets: 9\n",
      "Played_Id: 4800, CleanSheets: 9\n",
      "Played_Id: 4835, CleanSheets: 9\n",
      "Played_Id: 4859, CleanSheets: 9\n",
      "Played_Id: 4920, CleanSheets: 9\n",
      "Played_Id: 4931, CleanSheets: 9\n",
      "Played_Id: 4981, CleanSheets: 9\n"
     ]
    }
   ],
   "source": [
    "goalkeeper_data = df[df['Position'] == 'goalkeeper']\n",
    "high_clean_sheet_players = goalkeeper_data[goalkeeper_data['CleanSheets'] > 8]\n",
    "unique_played_ids = high_clean_sheet_players['Played_Id'].unique()\n",
    "print(\"Unique Played_Id values of players with high CleanSheet values in the goalkeeper position:\")\n",
    "for played_id in unique_played_ids:\n",
    "    clean_sheet_value = high_clean_sheet_players.loc[high_clean_sheet_players['Played_Id'] == played_id, 'CleanSheets'].iloc[0]\n",
    "    print(f\"Played_Id: {played_id}, CleanSheets: {clean_sheet_value}\")"
   ]
  },
  {
   "cell_type": "markdown",
   "metadata": {},
   "source": [
    "#### Low CleanSheet Played_id's"
   ]
  },
  {
   "cell_type": "code",
   "execution_count": 79,
   "metadata": {},
   "outputs": [
    {
     "name": "stdout",
     "output_type": "stream",
     "text": [
      "Unique Played_Id values of players with low CleanSheet values in the goalkeeper position:\n",
      "Played_Id: 8, CleanSheets: 1\n",
      "Played_Id: 9, CleanSheets: 2\n",
      "Played_Id: 28, CleanSheets: 0\n",
      "Played_Id: 51, CleanSheets: 2\n",
      "Played_Id: 92, CleanSheets: 1\n",
      "Played_Id: 104, CleanSheets: 2\n",
      "Played_Id: 122, CleanSheets: 0\n",
      "Played_Id: 130, CleanSheets: 0\n",
      "Played_Id: 149, CleanSheets: 1\n",
      "Played_Id: 153, CleanSheets: 0\n",
      "Played_Id: 159, CleanSheets: 2\n",
      "Played_Id: 167, CleanSheets: 2\n",
      "Played_Id: 191, CleanSheets: 0\n",
      "Played_Id: 195, CleanSheets: 2\n",
      "Played_Id: 202, CleanSheets: 0\n",
      "Played_Id: 224, CleanSheets: 0\n",
      "Played_Id: 233, CleanSheets: 0\n",
      "Played_Id: 240, CleanSheets: 1\n",
      "Played_Id: 247, CleanSheets: 1\n",
      "Played_Id: 248, CleanSheets: 0\n",
      "Played_Id: 249, CleanSheets: 1\n",
      "Played_Id: 270, CleanSheets: 1\n",
      "Played_Id: 281, CleanSheets: 2\n",
      "Played_Id: 282, CleanSheets: 0\n",
      "Played_Id: 298, CleanSheets: 1\n",
      "Played_Id: 335, CleanSheets: 0\n",
      "Played_Id: 337, CleanSheets: 2\n",
      "Played_Id: 359, CleanSheets: 2\n",
      "Played_Id: 361, CleanSheets: 1\n",
      "Played_Id: 370, CleanSheets: 0\n",
      "Played_Id: 385, CleanSheets: 2\n",
      "Played_Id: 391, CleanSheets: 0\n",
      "Played_Id: 399, CleanSheets: 0\n",
      "Played_Id: 407, CleanSheets: 1\n",
      "Played_Id: 451, CleanSheets: 1\n",
      "Played_Id: 458, CleanSheets: 2\n",
      "Played_Id: 463, CleanSheets: 0\n",
      "Played_Id: 525, CleanSheets: 1\n",
      "Played_Id: 531, CleanSheets: 1\n",
      "Played_Id: 542, CleanSheets: 0\n",
      "Played_Id: 550, CleanSheets: 0\n",
      "Played_Id: 556, CleanSheets: 0\n",
      "Played_Id: 584, CleanSheets: 0\n",
      "Played_Id: 590, CleanSheets: 1\n",
      "Played_Id: 604, CleanSheets: 2\n",
      "Played_Id: 615, CleanSheets: 2\n",
      "Played_Id: 625, CleanSheets: 1\n",
      "Played_Id: 628, CleanSheets: 0\n",
      "Played_Id: 642, CleanSheets: 2\n",
      "Played_Id: 654, CleanSheets: 2\n",
      "Played_Id: 663, CleanSheets: 0\n",
      "Played_Id: 671, CleanSheets: 1\n",
      "Played_Id: 686, CleanSheets: 1\n",
      "Played_Id: 692, CleanSheets: 0\n",
      "Played_Id: 699, CleanSheets: 1\n",
      "Played_Id: 713, CleanSheets: 0\n",
      "Played_Id: 729, CleanSheets: 1\n",
      "Played_Id: 730, CleanSheets: 1\n",
      "Played_Id: 759, CleanSheets: 0\n",
      "Played_Id: 787, CleanSheets: 2\n",
      "Played_Id: 826, CleanSheets: 0\n",
      "Played_Id: 855, CleanSheets: 0\n",
      "Played_Id: 875, CleanSheets: 1\n",
      "Played_Id: 882, CleanSheets: 1\n",
      "Played_Id: 883, CleanSheets: 0\n",
      "Played_Id: 895, CleanSheets: 0\n",
      "Played_Id: 921, CleanSheets: 2\n",
      "Played_Id: 928, CleanSheets: 2\n",
      "Played_Id: 936, CleanSheets: 2\n",
      "Played_Id: 937, CleanSheets: 1\n",
      "Played_Id: 954, CleanSheets: 1\n",
      "Played_Id: 958, CleanSheets: 2\n",
      "Played_Id: 1000, CleanSheets: 0\n",
      "Played_Id: 1010, CleanSheets: 0\n",
      "Played_Id: 1020, CleanSheets: 1\n",
      "Played_Id: 1038, CleanSheets: 1\n",
      "Played_Id: 1041, CleanSheets: 2\n",
      "Played_Id: 1044, CleanSheets: 1\n",
      "Played_Id: 1065, CleanSheets: 0\n",
      "Played_Id: 1091, CleanSheets: 1\n",
      "Played_Id: 1094, CleanSheets: 0\n",
      "Played_Id: 1096, CleanSheets: 2\n",
      "Played_Id: 1101, CleanSheets: 1\n",
      "Played_Id: 1104, CleanSheets: 2\n",
      "Played_Id: 1114, CleanSheets: 2\n",
      "Played_Id: 1117, CleanSheets: 0\n",
      "Played_Id: 1121, CleanSheets: 2\n",
      "Played_Id: 1163, CleanSheets: 0\n",
      "Played_Id: 1168, CleanSheets: 2\n",
      "Played_Id: 1169, CleanSheets: 0\n",
      "Played_Id: 1176, CleanSheets: 1\n",
      "Played_Id: 1179, CleanSheets: 2\n",
      "Played_Id: 1192, CleanSheets: 0\n",
      "Played_Id: 1247, CleanSheets: 1\n",
      "Played_Id: 1275, CleanSheets: 0\n",
      "Played_Id: 1278, CleanSheets: 2\n",
      "Played_Id: 1291, CleanSheets: 0\n",
      "Played_Id: 1300, CleanSheets: 0\n",
      "Played_Id: 1314, CleanSheets: 2\n",
      "Played_Id: 1315, CleanSheets: 0\n",
      "Played_Id: 1322, CleanSheets: 1\n",
      "Played_Id: 1323, CleanSheets: 2\n",
      "Played_Id: 1328, CleanSheets: 1\n",
      "Played_Id: 1330, CleanSheets: 1\n",
      "Played_Id: 1351, CleanSheets: 2\n",
      "Played_Id: 1407, CleanSheets: 2\n",
      "Played_Id: 1408, CleanSheets: 2\n",
      "Played_Id: 1411, CleanSheets: 1\n",
      "Played_Id: 1416, CleanSheets: 1\n",
      "Played_Id: 1435, CleanSheets: 2\n",
      "Played_Id: 1444, CleanSheets: 1\n",
      "Played_Id: 1447, CleanSheets: 1\n",
      "Played_Id: 1450, CleanSheets: 0\n",
      "Played_Id: 1451, CleanSheets: 0\n",
      "Played_Id: 1458, CleanSheets: 2\n",
      "Played_Id: 1464, CleanSheets: 2\n",
      "Played_Id: 1470, CleanSheets: 1\n",
      "Played_Id: 1471, CleanSheets: 2\n",
      "Played_Id: 1479, CleanSheets: 2\n",
      "Played_Id: 1490, CleanSheets: 0\n",
      "Played_Id: 1502, CleanSheets: 0\n",
      "Played_Id: 1519, CleanSheets: 1\n",
      "Played_Id: 1523, CleanSheets: 2\n",
      "Played_Id: 1528, CleanSheets: 2\n",
      "Played_Id: 1540, CleanSheets: 2\n",
      "Played_Id: 1591, CleanSheets: 0\n",
      "Played_Id: 1592, CleanSheets: 2\n",
      "Played_Id: 1601, CleanSheets: 0\n",
      "Played_Id: 1626, CleanSheets: 2\n",
      "Played_Id: 1638, CleanSheets: 0\n",
      "Played_Id: 1661, CleanSheets: 2\n",
      "Played_Id: 1667, CleanSheets: 1\n",
      "Played_Id: 1672, CleanSheets: 1\n",
      "Played_Id: 1684, CleanSheets: 2\n",
      "Played_Id: 1694, CleanSheets: 1\n",
      "Played_Id: 1717, CleanSheets: 0\n",
      "Played_Id: 1743, CleanSheets: 1\n",
      "Played_Id: 1757, CleanSheets: 2\n",
      "Played_Id: 1769, CleanSheets: 2\n",
      "Played_Id: 1792, CleanSheets: 2\n",
      "Played_Id: 1804, CleanSheets: 1\n",
      "Played_Id: 1816, CleanSheets: 1\n",
      "Played_Id: 1826, CleanSheets: 2\n",
      "Played_Id: 1849, CleanSheets: 1\n",
      "Played_Id: 1858, CleanSheets: 2\n",
      "Played_Id: 1875, CleanSheets: 1\n",
      "Played_Id: 1907, CleanSheets: 2\n",
      "Played_Id: 1911, CleanSheets: 0\n",
      "Played_Id: 1925, CleanSheets: 1\n",
      "Played_Id: 1944, CleanSheets: 2\n",
      "Played_Id: 1956, CleanSheets: 1\n",
      "Played_Id: 1960, CleanSheets: 0\n",
      "Played_Id: 1963, CleanSheets: 0\n",
      "Played_Id: 1970, CleanSheets: 0\n",
      "Played_Id: 1972, CleanSheets: 2\n",
      "Played_Id: 1976, CleanSheets: 2\n",
      "Played_Id: 1981, CleanSheets: 1\n",
      "Played_Id: 1986, CleanSheets: 1\n",
      "Played_Id: 2006, CleanSheets: 2\n",
      "Played_Id: 2008, CleanSheets: 0\n",
      "Played_Id: 2012, CleanSheets: 2\n",
      "Played_Id: 2013, CleanSheets: 1\n",
      "Played_Id: 2016, CleanSheets: 2\n",
      "Played_Id: 2018, CleanSheets: 1\n",
      "Played_Id: 2019, CleanSheets: 0\n",
      "Played_Id: 2035, CleanSheets: 2\n",
      "Played_Id: 2052, CleanSheets: 0\n",
      "Played_Id: 2059, CleanSheets: 1\n",
      "Played_Id: 2067, CleanSheets: 0\n",
      "Played_Id: 2072, CleanSheets: 0\n",
      "Played_Id: 2077, CleanSheets: 1\n",
      "Played_Id: 2083, CleanSheets: 2\n",
      "Played_Id: 2123, CleanSheets: 2\n",
      "Played_Id: 2137, CleanSheets: 1\n",
      "Played_Id: 2147, CleanSheets: 0\n",
      "Played_Id: 2155, CleanSheets: 1\n",
      "Played_Id: 2171, CleanSheets: 2\n",
      "Played_Id: 2179, CleanSheets: 1\n",
      "Played_Id: 2239, CleanSheets: 0\n",
      "Played_Id: 2242, CleanSheets: 0\n",
      "Played_Id: 2254, CleanSheets: 1\n",
      "Played_Id: 2258, CleanSheets: 2\n",
      "Played_Id: 2269, CleanSheets: 2\n",
      "Played_Id: 2299, CleanSheets: 1\n",
      "Played_Id: 2313, CleanSheets: 2\n",
      "Played_Id: 2368, CleanSheets: 1\n",
      "Played_Id: 2391, CleanSheets: 1\n",
      "Played_Id: 2392, CleanSheets: 2\n",
      "Played_Id: 2431, CleanSheets: 2\n",
      "Played_Id: 2471, CleanSheets: 2\n",
      "Played_Id: 2505, CleanSheets: 2\n",
      "Played_Id: 2510, CleanSheets: 2\n",
      "Played_Id: 2527, CleanSheets: 0\n",
      "Played_Id: 2550, CleanSheets: 2\n",
      "Played_Id: 2552, CleanSheets: 2\n",
      "Played_Id: 2559, CleanSheets: 0\n",
      "Played_Id: 2592, CleanSheets: 1\n",
      "Played_Id: 2624, CleanSheets: 1\n",
      "Played_Id: 2632, CleanSheets: 1\n",
      "Played_Id: 2668, CleanSheets: 2\n",
      "Played_Id: 2669, CleanSheets: 2\n",
      "Played_Id: 2676, CleanSheets: 0\n",
      "Played_Id: 2695, CleanSheets: 0\n",
      "Played_Id: 2701, CleanSheets: 0\n",
      "Played_Id: 2723, CleanSheets: 2\n",
      "Played_Id: 2753, CleanSheets: 0\n",
      "Played_Id: 2757, CleanSheets: 0\n",
      "Played_Id: 2759, CleanSheets: 1\n",
      "Played_Id: 2787, CleanSheets: 2\n",
      "Played_Id: 2801, CleanSheets: 1\n",
      "Played_Id: 2810, CleanSheets: 1\n",
      "Played_Id: 2817, CleanSheets: 1\n",
      "Played_Id: 2857, CleanSheets: 1\n",
      "Played_Id: 2859, CleanSheets: 0\n",
      "Played_Id: 2868, CleanSheets: 2\n",
      "Played_Id: 2888, CleanSheets: 1\n",
      "Played_Id: 2891, CleanSheets: 2\n",
      "Played_Id: 2900, CleanSheets: 0\n",
      "Played_Id: 2937, CleanSheets: 1\n",
      "Played_Id: 2946, CleanSheets: 2\n",
      "Played_Id: 2952, CleanSheets: 0\n",
      "Played_Id: 2960, CleanSheets: 1\n",
      "Played_Id: 2980, CleanSheets: 0\n",
      "Played_Id: 2986, CleanSheets: 2\n",
      "Played_Id: 2992, CleanSheets: 0\n",
      "Played_Id: 2994, CleanSheets: 1\n",
      "Played_Id: 2995, CleanSheets: 0\n",
      "Played_Id: 3006, CleanSheets: 1\n",
      "Played_Id: 3037, CleanSheets: 1\n",
      "Played_Id: 3045, CleanSheets: 0\n",
      "Played_Id: 3046, CleanSheets: 0\n",
      "Played_Id: 3058, CleanSheets: 1\n",
      "Played_Id: 3079, CleanSheets: 2\n",
      "Played_Id: 3114, CleanSheets: 1\n",
      "Played_Id: 3133, CleanSheets: 2\n",
      "Played_Id: 3146, CleanSheets: 1\n",
      "Played_Id: 3152, CleanSheets: 2\n",
      "Played_Id: 3153, CleanSheets: 1\n",
      "Played_Id: 3154, CleanSheets: 2\n",
      "Played_Id: 3174, CleanSheets: 1\n",
      "Played_Id: 3190, CleanSheets: 2\n",
      "Played_Id: 3214, CleanSheets: 1\n",
      "Played_Id: 3217, CleanSheets: 2\n",
      "Played_Id: 3218, CleanSheets: 2\n",
      "Played_Id: 3228, CleanSheets: 2\n",
      "Played_Id: 3240, CleanSheets: 1\n",
      "Played_Id: 3271, CleanSheets: 1\n",
      "Played_Id: 3278, CleanSheets: 1\n",
      "Played_Id: 3299, CleanSheets: 1\n",
      "Played_Id: 3335, CleanSheets: 2\n",
      "Played_Id: 3345, CleanSheets: 1\n",
      "Played_Id: 3358, CleanSheets: 1\n",
      "Played_Id: 3388, CleanSheets: 2\n",
      "Played_Id: 3392, CleanSheets: 1\n",
      "Played_Id: 3423, CleanSheets: 0\n",
      "Played_Id: 3430, CleanSheets: 1\n",
      "Played_Id: 3436, CleanSheets: 2\n",
      "Played_Id: 3439, CleanSheets: 2\n",
      "Played_Id: 3458, CleanSheets: 2\n",
      "Played_Id: 3484, CleanSheets: 2\n",
      "Played_Id: 3487, CleanSheets: 2\n",
      "Played_Id: 3491, CleanSheets: 0\n",
      "Played_Id: 3509, CleanSheets: 1\n",
      "Played_Id: 3519, CleanSheets: 0\n",
      "Played_Id: 3538, CleanSheets: 0\n",
      "Played_Id: 3561, CleanSheets: 1\n",
      "Played_Id: 3574, CleanSheets: 0\n",
      "Played_Id: 3579, CleanSheets: 0\n",
      "Played_Id: 3585, CleanSheets: 1\n",
      "Played_Id: 3604, CleanSheets: 0\n",
      "Played_Id: 3612, CleanSheets: 0\n",
      "Played_Id: 3616, CleanSheets: 2\n",
      "Played_Id: 3628, CleanSheets: 2\n",
      "Played_Id: 3633, CleanSheets: 2\n",
      "Played_Id: 3648, CleanSheets: 1\n",
      "Played_Id: 3649, CleanSheets: 1\n",
      "Played_Id: 3676, CleanSheets: 1\n",
      "Played_Id: 3687, CleanSheets: 0\n",
      "Played_Id: 3690, CleanSheets: 0\n",
      "Played_Id: 3721, CleanSheets: 0\n",
      "Played_Id: 3722, CleanSheets: 0\n",
      "Played_Id: 3752, CleanSheets: 1\n",
      "Played_Id: 3840, CleanSheets: 1\n",
      "Played_Id: 3848, CleanSheets: 0\n",
      "Played_Id: 3858, CleanSheets: 2\n",
      "Played_Id: 3951, CleanSheets: 2\n",
      "Played_Id: 3974, CleanSheets: 1\n",
      "Played_Id: 3983, CleanSheets: 0\n",
      "Played_Id: 3985, CleanSheets: 2\n",
      "Played_Id: 4005, CleanSheets: 1\n",
      "Played_Id: 4033, CleanSheets: 2\n",
      "Played_Id: 4051, CleanSheets: 2\n",
      "Played_Id: 4083, CleanSheets: 0\n",
      "Played_Id: 4103, CleanSheets: 0\n",
      "Played_Id: 4104, CleanSheets: 0\n",
      "Played_Id: 4110, CleanSheets: 1\n",
      "Played_Id: 4122, CleanSheets: 1\n",
      "Played_Id: 4128, CleanSheets: 1\n",
      "Played_Id: 4131, CleanSheets: 0\n",
      "Played_Id: 4145, CleanSheets: 0\n",
      "Played_Id: 4162, CleanSheets: 2\n",
      "Played_Id: 4164, CleanSheets: 1\n",
      "Played_Id: 4167, CleanSheets: 2\n",
      "Played_Id: 4168, CleanSheets: 1\n",
      "Played_Id: 4169, CleanSheets: 0\n",
      "Played_Id: 4199, CleanSheets: 0\n",
      "Played_Id: 4222, CleanSheets: 0\n",
      "Played_Id: 4223, CleanSheets: 2\n",
      "Played_Id: 4230, CleanSheets: 2\n",
      "Played_Id: 4240, CleanSheets: 2\n",
      "Played_Id: 4251, CleanSheets: 2\n",
      "Played_Id: 4254, CleanSheets: 1\n",
      "Played_Id: 4257, CleanSheets: 1\n",
      "Played_Id: 4289, CleanSheets: 2\n",
      "Played_Id: 4301, CleanSheets: 0\n",
      "Played_Id: 4321, CleanSheets: 2\n",
      "Played_Id: 4346, CleanSheets: 2\n",
      "Played_Id: 4354, CleanSheets: 1\n",
      "Played_Id: 4375, CleanSheets: 2\n",
      "Played_Id: 4376, CleanSheets: 0\n",
      "Played_Id: 4389, CleanSheets: 2\n",
      "Played_Id: 4390, CleanSheets: 2\n",
      "Played_Id: 4400, CleanSheets: 1\n",
      "Played_Id: 4402, CleanSheets: 2\n",
      "Played_Id: 4416, CleanSheets: 2\n",
      "Played_Id: 4425, CleanSheets: 1\n",
      "Played_Id: 4426, CleanSheets: 0\n",
      "Played_Id: 4427, CleanSheets: 2\n",
      "Played_Id: 4449, CleanSheets: 0\n",
      "Played_Id: 4456, CleanSheets: 2\n",
      "Played_Id: 4481, CleanSheets: 1\n",
      "Played_Id: 4487, CleanSheets: 1\n",
      "Played_Id: 4495, CleanSheets: 2\n",
      "Played_Id: 4497, CleanSheets: 1\n",
      "Played_Id: 4506, CleanSheets: 0\n",
      "Played_Id: 4511, CleanSheets: 1\n",
      "Played_Id: 4569, CleanSheets: 1\n",
      "Played_Id: 4577, CleanSheets: 1\n",
      "Played_Id: 4579, CleanSheets: 2\n",
      "Played_Id: 4597, CleanSheets: 1\n",
      "Played_Id: 4613, CleanSheets: 1\n",
      "Played_Id: 4629, CleanSheets: 1\n",
      "Played_Id: 4638, CleanSheets: 1\n",
      "Played_Id: 4647, CleanSheets: 1\n",
      "Played_Id: 4663, CleanSheets: 1\n",
      "Played_Id: 4664, CleanSheets: 1\n",
      "Played_Id: 4670, CleanSheets: 2\n",
      "Played_Id: 4680, CleanSheets: 1\n",
      "Played_Id: 4691, CleanSheets: 1\n",
      "Played_Id: 4700, CleanSheets: 0\n",
      "Played_Id: 4714, CleanSheets: 1\n",
      "Played_Id: 4716, CleanSheets: 0\n",
      "Played_Id: 4725, CleanSheets: 0\n",
      "Played_Id: 4730, CleanSheets: 1\n",
      "Played_Id: 4735, CleanSheets: 0\n",
      "Played_Id: 4741, CleanSheets: 1\n",
      "Played_Id: 4746, CleanSheets: 1\n",
      "Played_Id: 4753, CleanSheets: 2\n",
      "Played_Id: 4757, CleanSheets: 0\n",
      "Played_Id: 4780, CleanSheets: 0\n",
      "Played_Id: 4785, CleanSheets: 2\n",
      "Played_Id: 4794, CleanSheets: 1\n",
      "Played_Id: 4806, CleanSheets: 2\n",
      "Played_Id: 4813, CleanSheets: 0\n",
      "Played_Id: 4824, CleanSheets: 1\n",
      "Played_Id: 4829, CleanSheets: 0\n",
      "Played_Id: 4843, CleanSheets: 0\n",
      "Played_Id: 4853, CleanSheets: 1\n",
      "Played_Id: 4870, CleanSheets: 0\n",
      "Played_Id: 4874, CleanSheets: 1\n",
      "Played_Id: 4889, CleanSheets: 2\n",
      "Played_Id: 4901, CleanSheets: 1\n",
      "Played_Id: 4917, CleanSheets: 0\n",
      "Played_Id: 4939, CleanSheets: 0\n",
      "Played_Id: 4964, CleanSheets: 1\n",
      "Played_Id: 4974, CleanSheets: 0\n",
      "Played_Id: 4999, CleanSheets: 2\n"
     ]
    }
   ],
   "source": [
    "goalkeeper_data = df[df['Position'] == 'goalkeeper']\n",
    "low_clean_sheet_players = goalkeeper_data[goalkeeper_data['CleanSheets'] < 3]\n",
    "unique_played_ids = low_clean_sheet_players['Played_Id'].unique()\n",
    "print(\"Unique Played_Id values of players with low CleanSheet values in the goalkeeper position:\")\n",
    "for played_id in unique_played_ids:\n",
    "    clean_sheet_value = low_clean_sheet_players.loc[low_clean_sheet_players['Played_Id'] == played_id, 'CleanSheets'].iloc[0]\n",
    "    print(f\"Played_Id: {played_id}, CleanSheets: {clean_sheet_value}\")"
   ]
  },
  {
   "cell_type": "markdown",
   "metadata": {},
   "source": [
    "## PassCompletionrate Analysis"
   ]
  },
  {
   "cell_type": "markdown",
   "metadata": {},
   "source": [
    "#### Highest PassCompletionrate Played_Id's"
   ]
  },
  {
   "cell_type": "code",
   "execution_count": 80,
   "metadata": {},
   "outputs": [
    {
     "name": "stdout",
     "output_type": "stream",
     "text": [
      "Top 10 goalkeepers with the highest PassCompletionRate:\n",
      "    Played_Id  PassCompletionRate\n",
      "0        3541          119.988897\n",
      "1         228          119.867121\n",
      "2        1638          119.855933\n",
      "3        1282          119.637788\n",
      "4        4174          119.526223\n",
      "5        1970          119.380316\n",
      "6        4632          119.095494\n",
      "7        1622          118.793800\n",
      "8        3258          118.752281\n",
      "9         334          118.741545\n",
      "10       1900          118.644086\n"
     ]
    }
   ],
   "source": [
    "goalkeeper_data = df[df['Position'] == 'goalkeeper']\n",
    "sorted_goalkeeper_data = goalkeeper_data.sort_values(by='PassCompletionRate', ascending=False)\n",
    "top_10_goalkeepers = sorted_goalkeeper_data.head(25)\n",
    "if not top_10_goalkeepers.empty:\n",
    "    print(\"Top 10 goalkeepers with the highest PassCompletionRate:\")\n",
    "    print(top_10_goalkeepers[['Played_Id', 'PassCompletionRate']].drop_duplicates().reset_index(drop=True))\n",
    "else:\n",
    "    print(\"No goalkeepers found in the dataset.\")\n"
   ]
  },
  {
   "cell_type": "markdown",
   "metadata": {},
   "source": [
    "#### Low PassCompletionrate Played_Id's"
   ]
  },
  {
   "cell_type": "code",
   "execution_count": 81,
   "metadata": {},
   "outputs": [
    {
     "name": "stdout",
     "output_type": "stream",
     "text": [
      "Top 10 goalkeepers with the lowest PassCompletionRate:\n",
      "   Played_Id  PassCompletionRate\n",
      "0       2630           50.010158\n",
      "1       1493           50.041818\n",
      "2       3574           50.050350\n",
      "3       4837           50.168166\n",
      "4       1159           50.308841\n",
      "5       4320           50.333377\n",
      "6        202           50.366876\n",
      "7       1550           50.392610\n",
      "8       1770           50.492857\n",
      "9       2116           50.555209\n"
     ]
    }
   ],
   "source": [
    "goalkeeper_data = df[df['Position'] == 'goalkeeper']\n",
    "sorted_goalkeeper_data = goalkeeper_data.sort_values(by='PassCompletionRate')\n",
    "top_10_goalkeepers = sorted_goalkeeper_data.head(25)\n",
    "if not top_10_goalkeepers.empty:\n",
    "    print(\"Top 10 goalkeepers with the lowest PassCompletionRate:\")\n",
    "    print(top_10_goalkeepers[['Played_Id', 'PassCompletionRate']].drop_duplicates().reset_index(drop=True))\n",
    "else:\n",
    "    print(\"No goalkeepers found in the dataset.\")\n"
   ]
  },
  {
   "cell_type": "code",
   "execution_count": 82,
   "metadata": {},
   "outputs": [
    {
     "name": "stderr",
     "output_type": "stream",
     "text": [
      "C:\\Users\\madhu\\AppData\\Local\\Temp\\ipykernel_20596\\3073024358.py:10: SettingWithCopyWarning:\n",
      "\n",
      "\n",
      "A value is trying to be set on a copy of a slice from a DataFrame.\n",
      "Try using .loc[row_indexer,col_indexer] = value instead\n",
      "\n",
      "See the caveats in the documentation: https://pandas.pydata.org/pandas-docs/stable/user_guide/indexing.html#returning-a-view-versus-a-copy\n",
      "\n"
     ]
    },
    {
     "data": {
      "application/vnd.plotly.v1+json": {
       "config": {
        "plotlyServerURL": "https://plot.ly"
       },
       "data": [
        {
         "domain": {
          "x": [
           0,
           1
          ],
          "y": [
           0,
           1
          ]
         },
         "hovertemplate": "label=%{label}<br>value=%{value}<extra></extra>",
         "labels": [
          "51-75",
          "76-100",
          "101-125",
          "0-25",
          "26-50"
         ],
         "legendgroup": "",
         "name": "",
         "showlegend": true,
         "type": "pie",
         "values": [
          2177,
          2037,
          184,
          0,
          0
         ]
        }
       ],
       "layout": {
        "legend": {
         "tracegroupgap": 0
        },
        "template": {
         "data": {
          "bar": [
           {
            "error_x": {
             "color": "#2a3f5f"
            },
            "error_y": {
             "color": "#2a3f5f"
            },
            "marker": {
             "line": {
              "color": "#E5ECF6",
              "width": 0.5
             },
             "pattern": {
              "fillmode": "overlay",
              "size": 10,
              "solidity": 0.2
             }
            },
            "type": "bar"
           }
          ],
          "barpolar": [
           {
            "marker": {
             "line": {
              "color": "#E5ECF6",
              "width": 0.5
             },
             "pattern": {
              "fillmode": "overlay",
              "size": 10,
              "solidity": 0.2
             }
            },
            "type": "barpolar"
           }
          ],
          "carpet": [
           {
            "aaxis": {
             "endlinecolor": "#2a3f5f",
             "gridcolor": "white",
             "linecolor": "white",
             "minorgridcolor": "white",
             "startlinecolor": "#2a3f5f"
            },
            "baxis": {
             "endlinecolor": "#2a3f5f",
             "gridcolor": "white",
             "linecolor": "white",
             "minorgridcolor": "white",
             "startlinecolor": "#2a3f5f"
            },
            "type": "carpet"
           }
          ],
          "choropleth": [
           {
            "colorbar": {
             "outlinewidth": 0,
             "ticks": ""
            },
            "type": "choropleth"
           }
          ],
          "contour": [
           {
            "colorbar": {
             "outlinewidth": 0,
             "ticks": ""
            },
            "colorscale": [
             [
              0,
              "#0d0887"
             ],
             [
              0.1111111111111111,
              "#46039f"
             ],
             [
              0.2222222222222222,
              "#7201a8"
             ],
             [
              0.3333333333333333,
              "#9c179e"
             ],
             [
              0.4444444444444444,
              "#bd3786"
             ],
             [
              0.5555555555555556,
              "#d8576b"
             ],
             [
              0.6666666666666666,
              "#ed7953"
             ],
             [
              0.7777777777777778,
              "#fb9f3a"
             ],
             [
              0.8888888888888888,
              "#fdca26"
             ],
             [
              1,
              "#f0f921"
             ]
            ],
            "type": "contour"
           }
          ],
          "contourcarpet": [
           {
            "colorbar": {
             "outlinewidth": 0,
             "ticks": ""
            },
            "type": "contourcarpet"
           }
          ],
          "heatmap": [
           {
            "colorbar": {
             "outlinewidth": 0,
             "ticks": ""
            },
            "colorscale": [
             [
              0,
              "#0d0887"
             ],
             [
              0.1111111111111111,
              "#46039f"
             ],
             [
              0.2222222222222222,
              "#7201a8"
             ],
             [
              0.3333333333333333,
              "#9c179e"
             ],
             [
              0.4444444444444444,
              "#bd3786"
             ],
             [
              0.5555555555555556,
              "#d8576b"
             ],
             [
              0.6666666666666666,
              "#ed7953"
             ],
             [
              0.7777777777777778,
              "#fb9f3a"
             ],
             [
              0.8888888888888888,
              "#fdca26"
             ],
             [
              1,
              "#f0f921"
             ]
            ],
            "type": "heatmap"
           }
          ],
          "heatmapgl": [
           {
            "colorbar": {
             "outlinewidth": 0,
             "ticks": ""
            },
            "colorscale": [
             [
              0,
              "#0d0887"
             ],
             [
              0.1111111111111111,
              "#46039f"
             ],
             [
              0.2222222222222222,
              "#7201a8"
             ],
             [
              0.3333333333333333,
              "#9c179e"
             ],
             [
              0.4444444444444444,
              "#bd3786"
             ],
             [
              0.5555555555555556,
              "#d8576b"
             ],
             [
              0.6666666666666666,
              "#ed7953"
             ],
             [
              0.7777777777777778,
              "#fb9f3a"
             ],
             [
              0.8888888888888888,
              "#fdca26"
             ],
             [
              1,
              "#f0f921"
             ]
            ],
            "type": "heatmapgl"
           }
          ],
          "histogram": [
           {
            "marker": {
             "pattern": {
              "fillmode": "overlay",
              "size": 10,
              "solidity": 0.2
             }
            },
            "type": "histogram"
           }
          ],
          "histogram2d": [
           {
            "colorbar": {
             "outlinewidth": 0,
             "ticks": ""
            },
            "colorscale": [
             [
              0,
              "#0d0887"
             ],
             [
              0.1111111111111111,
              "#46039f"
             ],
             [
              0.2222222222222222,
              "#7201a8"
             ],
             [
              0.3333333333333333,
              "#9c179e"
             ],
             [
              0.4444444444444444,
              "#bd3786"
             ],
             [
              0.5555555555555556,
              "#d8576b"
             ],
             [
              0.6666666666666666,
              "#ed7953"
             ],
             [
              0.7777777777777778,
              "#fb9f3a"
             ],
             [
              0.8888888888888888,
              "#fdca26"
             ],
             [
              1,
              "#f0f921"
             ]
            ],
            "type": "histogram2d"
           }
          ],
          "histogram2dcontour": [
           {
            "colorbar": {
             "outlinewidth": 0,
             "ticks": ""
            },
            "colorscale": [
             [
              0,
              "#0d0887"
             ],
             [
              0.1111111111111111,
              "#46039f"
             ],
             [
              0.2222222222222222,
              "#7201a8"
             ],
             [
              0.3333333333333333,
              "#9c179e"
             ],
             [
              0.4444444444444444,
              "#bd3786"
             ],
             [
              0.5555555555555556,
              "#d8576b"
             ],
             [
              0.6666666666666666,
              "#ed7953"
             ],
             [
              0.7777777777777778,
              "#fb9f3a"
             ],
             [
              0.8888888888888888,
              "#fdca26"
             ],
             [
              1,
              "#f0f921"
             ]
            ],
            "type": "histogram2dcontour"
           }
          ],
          "mesh3d": [
           {
            "colorbar": {
             "outlinewidth": 0,
             "ticks": ""
            },
            "type": "mesh3d"
           }
          ],
          "parcoords": [
           {
            "line": {
             "colorbar": {
              "outlinewidth": 0,
              "ticks": ""
             }
            },
            "type": "parcoords"
           }
          ],
          "pie": [
           {
            "automargin": true,
            "type": "pie"
           }
          ],
          "scatter": [
           {
            "fillpattern": {
             "fillmode": "overlay",
             "size": 10,
             "solidity": 0.2
            },
            "type": "scatter"
           }
          ],
          "scatter3d": [
           {
            "line": {
             "colorbar": {
              "outlinewidth": 0,
              "ticks": ""
             }
            },
            "marker": {
             "colorbar": {
              "outlinewidth": 0,
              "ticks": ""
             }
            },
            "type": "scatter3d"
           }
          ],
          "scattercarpet": [
           {
            "marker": {
             "colorbar": {
              "outlinewidth": 0,
              "ticks": ""
             }
            },
            "type": "scattercarpet"
           }
          ],
          "scattergeo": [
           {
            "marker": {
             "colorbar": {
              "outlinewidth": 0,
              "ticks": ""
             }
            },
            "type": "scattergeo"
           }
          ],
          "scattergl": [
           {
            "marker": {
             "colorbar": {
              "outlinewidth": 0,
              "ticks": ""
             }
            },
            "type": "scattergl"
           }
          ],
          "scattermapbox": [
           {
            "marker": {
             "colorbar": {
              "outlinewidth": 0,
              "ticks": ""
             }
            },
            "type": "scattermapbox"
           }
          ],
          "scatterpolar": [
           {
            "marker": {
             "colorbar": {
              "outlinewidth": 0,
              "ticks": ""
             }
            },
            "type": "scatterpolar"
           }
          ],
          "scatterpolargl": [
           {
            "marker": {
             "colorbar": {
              "outlinewidth": 0,
              "ticks": ""
             }
            },
            "type": "scatterpolargl"
           }
          ],
          "scatterternary": [
           {
            "marker": {
             "colorbar": {
              "outlinewidth": 0,
              "ticks": ""
             }
            },
            "type": "scatterternary"
           }
          ],
          "surface": [
           {
            "colorbar": {
             "outlinewidth": 0,
             "ticks": ""
            },
            "colorscale": [
             [
              0,
              "#0d0887"
             ],
             [
              0.1111111111111111,
              "#46039f"
             ],
             [
              0.2222222222222222,
              "#7201a8"
             ],
             [
              0.3333333333333333,
              "#9c179e"
             ],
             [
              0.4444444444444444,
              "#bd3786"
             ],
             [
              0.5555555555555556,
              "#d8576b"
             ],
             [
              0.6666666666666666,
              "#ed7953"
             ],
             [
              0.7777777777777778,
              "#fb9f3a"
             ],
             [
              0.8888888888888888,
              "#fdca26"
             ],
             [
              1,
              "#f0f921"
             ]
            ],
            "type": "surface"
           }
          ],
          "table": [
           {
            "cells": {
             "fill": {
              "color": "#EBF0F8"
             },
             "line": {
              "color": "white"
             }
            },
            "header": {
             "fill": {
              "color": "#C8D4E3"
             },
             "line": {
              "color": "white"
             }
            },
            "type": "table"
           }
          ]
         },
         "layout": {
          "annotationdefaults": {
           "arrowcolor": "#2a3f5f",
           "arrowhead": 0,
           "arrowwidth": 1
          },
          "autotypenumbers": "strict",
          "coloraxis": {
           "colorbar": {
            "outlinewidth": 0,
            "ticks": ""
           }
          },
          "colorscale": {
           "diverging": [
            [
             0,
             "#8e0152"
            ],
            [
             0.1,
             "#c51b7d"
            ],
            [
             0.2,
             "#de77ae"
            ],
            [
             0.3,
             "#f1b6da"
            ],
            [
             0.4,
             "#fde0ef"
            ],
            [
             0.5,
             "#f7f7f7"
            ],
            [
             0.6,
             "#e6f5d0"
            ],
            [
             0.7,
             "#b8e186"
            ],
            [
             0.8,
             "#7fbc41"
            ],
            [
             0.9,
             "#4d9221"
            ],
            [
             1,
             "#276419"
            ]
           ],
           "sequential": [
            [
             0,
             "#0d0887"
            ],
            [
             0.1111111111111111,
             "#46039f"
            ],
            [
             0.2222222222222222,
             "#7201a8"
            ],
            [
             0.3333333333333333,
             "#9c179e"
            ],
            [
             0.4444444444444444,
             "#bd3786"
            ],
            [
             0.5555555555555556,
             "#d8576b"
            ],
            [
             0.6666666666666666,
             "#ed7953"
            ],
            [
             0.7777777777777778,
             "#fb9f3a"
            ],
            [
             0.8888888888888888,
             "#fdca26"
            ],
            [
             1,
             "#f0f921"
            ]
           ],
           "sequentialminus": [
            [
             0,
             "#0d0887"
            ],
            [
             0.1111111111111111,
             "#46039f"
            ],
            [
             0.2222222222222222,
             "#7201a8"
            ],
            [
             0.3333333333333333,
             "#9c179e"
            ],
            [
             0.4444444444444444,
             "#bd3786"
            ],
            [
             0.5555555555555556,
             "#d8576b"
            ],
            [
             0.6666666666666666,
             "#ed7953"
            ],
            [
             0.7777777777777778,
             "#fb9f3a"
            ],
            [
             0.8888888888888888,
             "#fdca26"
            ],
            [
             1,
             "#f0f921"
            ]
           ]
          },
          "colorway": [
           "#636efa",
           "#EF553B",
           "#00cc96",
           "#ab63fa",
           "#FFA15A",
           "#19d3f3",
           "#FF6692",
           "#B6E880",
           "#FF97FF",
           "#FECB52"
          ],
          "font": {
           "color": "#2a3f5f"
          },
          "geo": {
           "bgcolor": "white",
           "lakecolor": "white",
           "landcolor": "#E5ECF6",
           "showlakes": true,
           "showland": true,
           "subunitcolor": "white"
          },
          "hoverlabel": {
           "align": "left"
          },
          "hovermode": "closest",
          "mapbox": {
           "style": "light"
          },
          "paper_bgcolor": "white",
          "plot_bgcolor": "#E5ECF6",
          "polar": {
           "angularaxis": {
            "gridcolor": "white",
            "linecolor": "white",
            "ticks": ""
           },
           "bgcolor": "#E5ECF6",
           "radialaxis": {
            "gridcolor": "white",
            "linecolor": "white",
            "ticks": ""
           }
          },
          "scene": {
           "xaxis": {
            "backgroundcolor": "#E5ECF6",
            "gridcolor": "white",
            "gridwidth": 2,
            "linecolor": "white",
            "showbackground": true,
            "ticks": "",
            "zerolinecolor": "white"
           },
           "yaxis": {
            "backgroundcolor": "#E5ECF6",
            "gridcolor": "white",
            "gridwidth": 2,
            "linecolor": "white",
            "showbackground": true,
            "ticks": "",
            "zerolinecolor": "white"
           },
           "zaxis": {
            "backgroundcolor": "#E5ECF6",
            "gridcolor": "white",
            "gridwidth": 2,
            "linecolor": "white",
            "showbackground": true,
            "ticks": "",
            "zerolinecolor": "white"
           }
          },
          "shapedefaults": {
           "line": {
            "color": "#2a3f5f"
           }
          },
          "ternary": {
           "aaxis": {
            "gridcolor": "white",
            "linecolor": "white",
            "ticks": ""
           },
           "baxis": {
            "gridcolor": "white",
            "linecolor": "white",
            "ticks": ""
           },
           "bgcolor": "#E5ECF6",
           "caxis": {
            "gridcolor": "white",
            "linecolor": "white",
            "ticks": ""
           }
          },
          "title": {
           "x": 0.05
          },
          "xaxis": {
           "automargin": true,
           "gridcolor": "white",
           "linecolor": "white",
           "ticks": "",
           "title": {
            "standoff": 15
           },
           "zerolinecolor": "white",
           "zerolinewidth": 2
          },
          "yaxis": {
           "automargin": true,
           "gridcolor": "white",
           "linecolor": "white",
           "ticks": "",
           "title": {
            "standoff": 15
           },
           "zerolinecolor": "white",
           "zerolinewidth": 2
          }
         }
        },
        "title": {
         "text": "Pass Completion Rate Distribution"
        }
       }
      }
     },
     "metadata": {},
     "output_type": "display_data"
    }
   ],
   "source": [
    "import plotly.express as px\n",
    "\n",
    "# Define the intervals for Pass Completion Rate\n",
    "intervals = [0, 25, 50, 75, 100, 125]\n",
    "\n",
    "# Create labels for the intervals\n",
    "labels = ['0-25', '26-50', '51-75', '76-100', '101-125']\n",
    "\n",
    "# Split PassCompletionRate values into intervals\n",
    "goalkeeper_data['PassCompletionRateInterval'] = pd.cut(goalkeeper_data['PassCompletionRate'], bins=intervals, labels=labels, include_lowest=True)\n",
    "\n",
    "# Count the occurrences within each interval\n",
    "pass_completion_rate_counts = goalkeeper_data['PassCompletionRateInterval'].value_counts()\n",
    "\n",
    "# Create a Pie chart using Plotly\n",
    "fig = px.pie(names=pass_completion_rate_counts.index, values=pass_completion_rate_counts.values, title='Pass Completion Rate Distribution')\n",
    "fig.show()\n"
   ]
  },
  {
   "cell_type": "markdown",
   "metadata": {},
   "source": [
    "#### Highest ShotsOnTarget"
   ]
  },
  {
   "cell_type": "code",
   "execution_count": 83,
   "metadata": {},
   "outputs": [
    {
     "name": "stdout",
     "output_type": "stream",
     "text": [
      "Top 11 goalkeepers with the highest ShotsOnTarget:\n",
      "    Played_Id  ShotsOnTarget\n",
      "0        4678             14\n",
      "1        2420             14\n",
      "2        4145             14\n",
      "3        3519             14\n",
      "4         385             14\n",
      "5        3175             14\n",
      "6         483             14\n",
      "7        2559             14\n",
      "8        2558             14\n",
      "9        2542             14\n",
      "10       2527             14\n",
      "11       4137             14\n",
      "12       1223             14\n",
      "13        625             14\n",
      "14       4680             14\n",
      "15       2392             14\n",
      "16       2364             14\n",
      "17       2153             14\n",
      "18       2035             14\n",
      "19       1328             14\n",
      "20       4934             14\n",
      "21       2181             14\n"
     ]
    }
   ],
   "source": [
    "# Filter the DataFrame for players with Position as 'goalkeeper'\n",
    "goalkeeper_data = df[df['Position'] == 'goalkeeper']\n",
    "\n",
    "# Sort the DataFrame based on ShotsOnTarget in descending order\n",
    "sorted_goalkeeper_data = goalkeeper_data.sort_values(by='ShotsOnTarget', ascending=False)\n",
    "\n",
    "# Select the top 11 goalkeepers after sorting\n",
    "top_11_goalkeepers = sorted_goalkeeper_data.head(25)\n",
    "\n",
    "# Print the top 11 goalkeepers with their Played_Id and ShotsOnTarget values\n",
    "if not top_11_goalkeepers.empty:\n",
    "    print(\"Top 11 goalkeepers with the highest ShotsOnTarget:\")\n",
    "    print(top_11_goalkeepers[['Played_Id', 'ShotsOnTarget']].drop_duplicates().reset_index(drop=True))\n",
    "else:\n",
    "    print(\"No goalkeepers found in the dataset.\")\n"
   ]
  },
  {
   "cell_type": "markdown",
   "metadata": {},
   "source": [
    "#### Lowest ShotsOnTarget Played_Id's"
   ]
  },
  {
   "cell_type": "code",
   "execution_count": 84,
   "metadata": {},
   "outputs": [
    {
     "name": "stdout",
     "output_type": "stream",
     "text": [
      "Bottom 11 goalkeepers with the lowest ShotsOnTarget:\n",
      "   Played_Id  ShotsOnTarget\n",
      "0        191              0\n",
      "1       2982              0\n",
      "2       2680              0\n",
      "3       1501              0\n",
      "4       3615              0\n",
      "5       4663              0\n",
      "6       1924              0\n",
      "7       3265              0\n",
      "8       1834              0\n",
      "9       1685              0\n"
     ]
    }
   ],
   "source": [
    "# Filter the DataFrame for players with Position as 'goalkeeper'\n",
    "goalkeeper_data = df[df['Position'] == 'goalkeeper']\n",
    "\n",
    "# Sort the DataFrame based on ShotsOnTarget in ascending order\n",
    "sorted_goalkeeper_data = goalkeeper_data.sort_values(by='ShotsOnTarget', ascending=True)\n",
    "\n",
    "# Select the first 11 goalkeepers after sorting\n",
    "bottom_11_goalkeepers = sorted_goalkeeper_data.head(11)\n",
    "\n",
    "# Print the bottom 11 goalkeepers with their Played_Id and ShotsOnTarget values\n",
    "if not bottom_11_goalkeepers.empty:\n",
    "    print(\"Bottom 11 goalkeepers with the lowest ShotsOnTarget:\")\n",
    "    print(bottom_11_goalkeepers[['Played_Id', 'ShotsOnTarget']].drop_duplicates().reset_index(drop=True))\n",
    "else:\n",
    "    print(\"No goalkeepers found in the dataset.\")\n",
    "    \n"
   ]
  },
  {
   "cell_type": "code",
   "execution_count": 85,
   "metadata": {},
   "outputs": [
    {
     "data": {
      "application/vnd.plotly.v1+json": {
       "config": {
        "plotlyServerURL": "https://plot.ly"
       },
       "data": [
        {
         "domain": {
          "x": [
           0,
           1
          ],
          "y": [
           0,
           1
          ]
         },
         "hovertemplate": "label=%{label}<br>value=%{value}<extra></extra>",
         "labels": [
          3,
          12,
          4,
          8,
          5,
          0,
          14,
          2,
          6,
          7,
          11,
          1,
          13,
          9,
          10
         ],
         "legendgroup": "",
         "name": "",
         "showlegend": true,
         "type": "pie",
         "values": [
          9.072305593451569,
          7.435197817189632,
          7.253296953160528,
          7.025920873124147,
          7.025920873124147,
          7.0031832651205095,
          6.844020009095043,
          6.775807185084129,
          6.616643929058663,
          6.616643929058663,
          6.593906321055025,
          6.343792633015006,
          5.889040472942247,
          4.911323328785812,
          4.59299681673488
         ]
        }
       ],
       "layout": {
        "legend": {
         "tracegroupgap": 0
        },
        "template": {
         "data": {
          "bar": [
           {
            "error_x": {
             "color": "#2a3f5f"
            },
            "error_y": {
             "color": "#2a3f5f"
            },
            "marker": {
             "line": {
              "color": "#E5ECF6",
              "width": 0.5
             },
             "pattern": {
              "fillmode": "overlay",
              "size": 10,
              "solidity": 0.2
             }
            },
            "type": "bar"
           }
          ],
          "barpolar": [
           {
            "marker": {
             "line": {
              "color": "#E5ECF6",
              "width": 0.5
             },
             "pattern": {
              "fillmode": "overlay",
              "size": 10,
              "solidity": 0.2
             }
            },
            "type": "barpolar"
           }
          ],
          "carpet": [
           {
            "aaxis": {
             "endlinecolor": "#2a3f5f",
             "gridcolor": "white",
             "linecolor": "white",
             "minorgridcolor": "white",
             "startlinecolor": "#2a3f5f"
            },
            "baxis": {
             "endlinecolor": "#2a3f5f",
             "gridcolor": "white",
             "linecolor": "white",
             "minorgridcolor": "white",
             "startlinecolor": "#2a3f5f"
            },
            "type": "carpet"
           }
          ],
          "choropleth": [
           {
            "colorbar": {
             "outlinewidth": 0,
             "ticks": ""
            },
            "type": "choropleth"
           }
          ],
          "contour": [
           {
            "colorbar": {
             "outlinewidth": 0,
             "ticks": ""
            },
            "colorscale": [
             [
              0,
              "#0d0887"
             ],
             [
              0.1111111111111111,
              "#46039f"
             ],
             [
              0.2222222222222222,
              "#7201a8"
             ],
             [
              0.3333333333333333,
              "#9c179e"
             ],
             [
              0.4444444444444444,
              "#bd3786"
             ],
             [
              0.5555555555555556,
              "#d8576b"
             ],
             [
              0.6666666666666666,
              "#ed7953"
             ],
             [
              0.7777777777777778,
              "#fb9f3a"
             ],
             [
              0.8888888888888888,
              "#fdca26"
             ],
             [
              1,
              "#f0f921"
             ]
            ],
            "type": "contour"
           }
          ],
          "contourcarpet": [
           {
            "colorbar": {
             "outlinewidth": 0,
             "ticks": ""
            },
            "type": "contourcarpet"
           }
          ],
          "heatmap": [
           {
            "colorbar": {
             "outlinewidth": 0,
             "ticks": ""
            },
            "colorscale": [
             [
              0,
              "#0d0887"
             ],
             [
              0.1111111111111111,
              "#46039f"
             ],
             [
              0.2222222222222222,
              "#7201a8"
             ],
             [
              0.3333333333333333,
              "#9c179e"
             ],
             [
              0.4444444444444444,
              "#bd3786"
             ],
             [
              0.5555555555555556,
              "#d8576b"
             ],
             [
              0.6666666666666666,
              "#ed7953"
             ],
             [
              0.7777777777777778,
              "#fb9f3a"
             ],
             [
              0.8888888888888888,
              "#fdca26"
             ],
             [
              1,
              "#f0f921"
             ]
            ],
            "type": "heatmap"
           }
          ],
          "heatmapgl": [
           {
            "colorbar": {
             "outlinewidth": 0,
             "ticks": ""
            },
            "colorscale": [
             [
              0,
              "#0d0887"
             ],
             [
              0.1111111111111111,
              "#46039f"
             ],
             [
              0.2222222222222222,
              "#7201a8"
             ],
             [
              0.3333333333333333,
              "#9c179e"
             ],
             [
              0.4444444444444444,
              "#bd3786"
             ],
             [
              0.5555555555555556,
              "#d8576b"
             ],
             [
              0.6666666666666666,
              "#ed7953"
             ],
             [
              0.7777777777777778,
              "#fb9f3a"
             ],
             [
              0.8888888888888888,
              "#fdca26"
             ],
             [
              1,
              "#f0f921"
             ]
            ],
            "type": "heatmapgl"
           }
          ],
          "histogram": [
           {
            "marker": {
             "pattern": {
              "fillmode": "overlay",
              "size": 10,
              "solidity": 0.2
             }
            },
            "type": "histogram"
           }
          ],
          "histogram2d": [
           {
            "colorbar": {
             "outlinewidth": 0,
             "ticks": ""
            },
            "colorscale": [
             [
              0,
              "#0d0887"
             ],
             [
              0.1111111111111111,
              "#46039f"
             ],
             [
              0.2222222222222222,
              "#7201a8"
             ],
             [
              0.3333333333333333,
              "#9c179e"
             ],
             [
              0.4444444444444444,
              "#bd3786"
             ],
             [
              0.5555555555555556,
              "#d8576b"
             ],
             [
              0.6666666666666666,
              "#ed7953"
             ],
             [
              0.7777777777777778,
              "#fb9f3a"
             ],
             [
              0.8888888888888888,
              "#fdca26"
             ],
             [
              1,
              "#f0f921"
             ]
            ],
            "type": "histogram2d"
           }
          ],
          "histogram2dcontour": [
           {
            "colorbar": {
             "outlinewidth": 0,
             "ticks": ""
            },
            "colorscale": [
             [
              0,
              "#0d0887"
             ],
             [
              0.1111111111111111,
              "#46039f"
             ],
             [
              0.2222222222222222,
              "#7201a8"
             ],
             [
              0.3333333333333333,
              "#9c179e"
             ],
             [
              0.4444444444444444,
              "#bd3786"
             ],
             [
              0.5555555555555556,
              "#d8576b"
             ],
             [
              0.6666666666666666,
              "#ed7953"
             ],
             [
              0.7777777777777778,
              "#fb9f3a"
             ],
             [
              0.8888888888888888,
              "#fdca26"
             ],
             [
              1,
              "#f0f921"
             ]
            ],
            "type": "histogram2dcontour"
           }
          ],
          "mesh3d": [
           {
            "colorbar": {
             "outlinewidth": 0,
             "ticks": ""
            },
            "type": "mesh3d"
           }
          ],
          "parcoords": [
           {
            "line": {
             "colorbar": {
              "outlinewidth": 0,
              "ticks": ""
             }
            },
            "type": "parcoords"
           }
          ],
          "pie": [
           {
            "automargin": true,
            "type": "pie"
           }
          ],
          "scatter": [
           {
            "fillpattern": {
             "fillmode": "overlay",
             "size": 10,
             "solidity": 0.2
            },
            "type": "scatter"
           }
          ],
          "scatter3d": [
           {
            "line": {
             "colorbar": {
              "outlinewidth": 0,
              "ticks": ""
             }
            },
            "marker": {
             "colorbar": {
              "outlinewidth": 0,
              "ticks": ""
             }
            },
            "type": "scatter3d"
           }
          ],
          "scattercarpet": [
           {
            "marker": {
             "colorbar": {
              "outlinewidth": 0,
              "ticks": ""
             }
            },
            "type": "scattercarpet"
           }
          ],
          "scattergeo": [
           {
            "marker": {
             "colorbar": {
              "outlinewidth": 0,
              "ticks": ""
             }
            },
            "type": "scattergeo"
           }
          ],
          "scattergl": [
           {
            "marker": {
             "colorbar": {
              "outlinewidth": 0,
              "ticks": ""
             }
            },
            "type": "scattergl"
           }
          ],
          "scattermapbox": [
           {
            "marker": {
             "colorbar": {
              "outlinewidth": 0,
              "ticks": ""
             }
            },
            "type": "scattermapbox"
           }
          ],
          "scatterpolar": [
           {
            "marker": {
             "colorbar": {
              "outlinewidth": 0,
              "ticks": ""
             }
            },
            "type": "scatterpolar"
           }
          ],
          "scatterpolargl": [
           {
            "marker": {
             "colorbar": {
              "outlinewidth": 0,
              "ticks": ""
             }
            },
            "type": "scatterpolargl"
           }
          ],
          "scatterternary": [
           {
            "marker": {
             "colorbar": {
              "outlinewidth": 0,
              "ticks": ""
             }
            },
            "type": "scatterternary"
           }
          ],
          "surface": [
           {
            "colorbar": {
             "outlinewidth": 0,
             "ticks": ""
            },
            "colorscale": [
             [
              0,
              "#0d0887"
             ],
             [
              0.1111111111111111,
              "#46039f"
             ],
             [
              0.2222222222222222,
              "#7201a8"
             ],
             [
              0.3333333333333333,
              "#9c179e"
             ],
             [
              0.4444444444444444,
              "#bd3786"
             ],
             [
              0.5555555555555556,
              "#d8576b"
             ],
             [
              0.6666666666666666,
              "#ed7953"
             ],
             [
              0.7777777777777778,
              "#fb9f3a"
             ],
             [
              0.8888888888888888,
              "#fdca26"
             ],
             [
              1,
              "#f0f921"
             ]
            ],
            "type": "surface"
           }
          ],
          "table": [
           {
            "cells": {
             "fill": {
              "color": "#EBF0F8"
             },
             "line": {
              "color": "white"
             }
            },
            "header": {
             "fill": {
              "color": "#C8D4E3"
             },
             "line": {
              "color": "white"
             }
            },
            "type": "table"
           }
          ]
         },
         "layout": {
          "annotationdefaults": {
           "arrowcolor": "#2a3f5f",
           "arrowhead": 0,
           "arrowwidth": 1
          },
          "autotypenumbers": "strict",
          "coloraxis": {
           "colorbar": {
            "outlinewidth": 0,
            "ticks": ""
           }
          },
          "colorscale": {
           "diverging": [
            [
             0,
             "#8e0152"
            ],
            [
             0.1,
             "#c51b7d"
            ],
            [
             0.2,
             "#de77ae"
            ],
            [
             0.3,
             "#f1b6da"
            ],
            [
             0.4,
             "#fde0ef"
            ],
            [
             0.5,
             "#f7f7f7"
            ],
            [
             0.6,
             "#e6f5d0"
            ],
            [
             0.7,
             "#b8e186"
            ],
            [
             0.8,
             "#7fbc41"
            ],
            [
             0.9,
             "#4d9221"
            ],
            [
             1,
             "#276419"
            ]
           ],
           "sequential": [
            [
             0,
             "#0d0887"
            ],
            [
             0.1111111111111111,
             "#46039f"
            ],
            [
             0.2222222222222222,
             "#7201a8"
            ],
            [
             0.3333333333333333,
             "#9c179e"
            ],
            [
             0.4444444444444444,
             "#bd3786"
            ],
            [
             0.5555555555555556,
             "#d8576b"
            ],
            [
             0.6666666666666666,
             "#ed7953"
            ],
            [
             0.7777777777777778,
             "#fb9f3a"
            ],
            [
             0.8888888888888888,
             "#fdca26"
            ],
            [
             1,
             "#f0f921"
            ]
           ],
           "sequentialminus": [
            [
             0,
             "#0d0887"
            ],
            [
             0.1111111111111111,
             "#46039f"
            ],
            [
             0.2222222222222222,
             "#7201a8"
            ],
            [
             0.3333333333333333,
             "#9c179e"
            ],
            [
             0.4444444444444444,
             "#bd3786"
            ],
            [
             0.5555555555555556,
             "#d8576b"
            ],
            [
             0.6666666666666666,
             "#ed7953"
            ],
            [
             0.7777777777777778,
             "#fb9f3a"
            ],
            [
             0.8888888888888888,
             "#fdca26"
            ],
            [
             1,
             "#f0f921"
            ]
           ]
          },
          "colorway": [
           "#636efa",
           "#EF553B",
           "#00cc96",
           "#ab63fa",
           "#FFA15A",
           "#19d3f3",
           "#FF6692",
           "#B6E880",
           "#FF97FF",
           "#FECB52"
          ],
          "font": {
           "color": "#2a3f5f"
          },
          "geo": {
           "bgcolor": "white",
           "lakecolor": "white",
           "landcolor": "#E5ECF6",
           "showlakes": true,
           "showland": true,
           "subunitcolor": "white"
          },
          "hoverlabel": {
           "align": "left"
          },
          "hovermode": "closest",
          "mapbox": {
           "style": "light"
          },
          "paper_bgcolor": "white",
          "plot_bgcolor": "#E5ECF6",
          "polar": {
           "angularaxis": {
            "gridcolor": "white",
            "linecolor": "white",
            "ticks": ""
           },
           "bgcolor": "#E5ECF6",
           "radialaxis": {
            "gridcolor": "white",
            "linecolor": "white",
            "ticks": ""
           }
          },
          "scene": {
           "xaxis": {
            "backgroundcolor": "#E5ECF6",
            "gridcolor": "white",
            "gridwidth": 2,
            "linecolor": "white",
            "showbackground": true,
            "ticks": "",
            "zerolinecolor": "white"
           },
           "yaxis": {
            "backgroundcolor": "#E5ECF6",
            "gridcolor": "white",
            "gridwidth": 2,
            "linecolor": "white",
            "showbackground": true,
            "ticks": "",
            "zerolinecolor": "white"
           },
           "zaxis": {
            "backgroundcolor": "#E5ECF6",
            "gridcolor": "white",
            "gridwidth": 2,
            "linecolor": "white",
            "showbackground": true,
            "ticks": "",
            "zerolinecolor": "white"
           }
          },
          "shapedefaults": {
           "line": {
            "color": "#2a3f5f"
           }
          },
          "ternary": {
           "aaxis": {
            "gridcolor": "white",
            "linecolor": "white",
            "ticks": ""
           },
           "baxis": {
            "gridcolor": "white",
            "linecolor": "white",
            "ticks": ""
           },
           "bgcolor": "#E5ECF6",
           "caxis": {
            "gridcolor": "white",
            "linecolor": "white",
            "ticks": ""
           }
          },
          "title": {
           "x": 0.05
          },
          "xaxis": {
           "automargin": true,
           "gridcolor": "white",
           "linecolor": "white",
           "ticks": "",
           "title": {
            "standoff": 15
           },
           "zerolinecolor": "white",
           "zerolinewidth": 2
          },
          "yaxis": {
           "automargin": true,
           "gridcolor": "white",
           "linecolor": "white",
           "ticks": "",
           "title": {
            "standoff": 15
           },
           "zerolinecolor": "white",
           "zerolinewidth": 2
          }
         }
        },
        "title": {
         "text": "Shots on Target Distribution for Goalkeepers"
        }
       }
      }
     },
     "metadata": {},
     "output_type": "display_data"
    }
   ],
   "source": [
    "import plotly.express as px\n",
    "\n",
    "# Count the occurrences of Shots on Target values\n",
    "shots_on_target_counts = goalkeeper_data['ShotsOnTarget'].value_counts()\n",
    "\n",
    "# Calculate the percentage of Shots on Target values\n",
    "shots_on_target_percentages = (shots_on_target_counts / shots_on_target_counts.sum()) * 100\n",
    "\n",
    "# Create a Pie chart using Plotly\n",
    "fig = px.pie(names=shots_on_target_percentages.index, values=shots_on_target_percentages.values, title='Shots on Target Distribution for Goalkeepers')\n",
    "fig.show()\n",
    "\n"
   ]
  },
  {
   "cell_type": "markdown",
   "metadata": {},
   "source": [
    "### PressurePerformanceImpact Analysis for Goalkeepers"
   ]
  },
  {
   "cell_type": "code",
   "execution_count": 86,
   "metadata": {},
   "outputs": [
    {
     "name": "stdout",
     "output_type": "stream",
     "text": [
      "Top 15 Goalkeepers with Pressure Performance Impact <= 10:\n",
      "       Played_Id  PressurePerformanceImpact_winsorized\n",
      "12766       2041                             10.000000\n",
      "2041        2041                             10.000000\n",
      "14093       2041                             10.000000\n",
      "4194        4194                              9.833333\n",
      "16189       1323                              9.833333\n",
      "6185        1323                              9.833333\n",
      "1323        1323                              9.833333\n",
      "8124        1323                              9.833333\n",
      "10204       4512                              9.800000\n",
      "12165       4512                              9.800000\n",
      "4512        4512                              9.800000\n",
      "6904        4512                              9.800000\n",
      "4572        4572                              9.750000\n",
      "9285        4572                              9.750000\n",
      "3084        3084                              9.714286\n"
     ]
    }
   ],
   "source": [
    "goalkeeper_data = df[(df['Position'] == 'goalkeeper') & (df['PressurePerformanceImpact_winsorized'] <= 10)]\n",
    "sorted_goalkeeper_data = goalkeeper_data.sort_values(by='PressurePerformanceImpact_winsorized', ascending=False)\n",
    "top_15_goalkeepers = sorted_goalkeeper_data.head(15)[['Played_Id', 'PressurePerformanceImpact_winsorized']]\n",
    "print(\"Top 15 Goalkeepers with Pressure Performance Impact <= 10:\")\n",
    "print(top_15_goalkeepers)\n"
   ]
  },
  {
   "cell_type": "code",
   "execution_count": 87,
   "metadata": {},
   "outputs": [
    {
     "name": "stdout",
     "output_type": "stream",
     "text": [
      "Bottom 15 Goalkeepers with lowest Pressure Performance Impact:\n",
      "       Played_Id  PressurePerformanceImpact_winsorized\n",
      "9561        3122                              0.007380\n",
      "3122        3122                              0.007380\n",
      "13986       3122                              0.007380\n",
      "6805        2552                              0.007663\n",
      "2552        2552                              0.007663\n",
      "4068        4068                              0.007968\n",
      "10396       4068                              0.007968\n",
      "5647        4068                              0.007968\n",
      "11305       4346                              0.011494\n",
      "7630        4346                              0.011494\n",
      "4346        4346                              0.011494\n",
      "13945       4606                              0.027491\n",
      "10494       4606                              0.027491\n",
      "15778       4606                              0.027491\n",
      "4606        4606                              0.027491\n",
      "6368        4606                              0.027491\n",
      "9966        4606                              0.027491\n",
      "10957        424                              0.033333\n",
      "424          424                              0.033333\n",
      "5011         424                              0.033333\n",
      "12649       3391                              0.034483\n",
      "3391        3391                              0.034483\n",
      "10180       3391                              0.034483\n",
      "9800        3391                              0.034483\n",
      "15102       3391                              0.034483\n",
      "5119        3391                              0.034483\n",
      "10391       3391                              0.034483\n",
      "29            29                              0.038462\n",
      "9337        4312                              0.040000\n",
      "4312        4312                              0.040000\n"
     ]
    }
   ],
   "source": [
    "goalkeeper_data = df[df['Position'] == 'goalkeeper']\n",
    "sorted_goalkeeper_data = goalkeeper_data.sort_values(by='PressurePerformanceImpact_winsorized')\n",
    "Bottom_15_goalkeepers = sorted_goalkeeper_data.head(30)[['Played_Id', 'PressurePerformanceImpact_winsorized']]\n",
    "print(\"Bottom 15 Goalkeepers with lowest Pressure Performance Impact:\")\n",
    "print(Bottom_15_goalkeepers)"
   ]
  },
  {
   "cell_type": "code",
   "execution_count": 88,
   "metadata": {},
   "outputs": [
    {
     "name": "stderr",
     "output_type": "stream",
     "text": [
      "C:\\Users\\madhu\\AppData\\Local\\Temp\\ipykernel_20596\\3123271463.py:7: SettingWithCopyWarning:\n",
      "\n",
      "\n",
      "A value is trying to be set on a copy of a slice from a DataFrame.\n",
      "Try using .loc[row_indexer,col_indexer] = value instead\n",
      "\n",
      "See the caveats in the documentation: https://pandas.pydata.org/pandas-docs/stable/user_guide/indexing.html#returning-a-view-versus-a-copy\n",
      "\n"
     ]
    },
    {
     "data": {
      "application/vnd.plotly.v1+json": {
       "config": {
        "plotlyServerURL": "https://plot.ly"
       },
       "data": [
        {
         "alignmentgroup": "True",
         "hovertemplate": "Rounded Pressure Performance Impact=%{x}<br>Percentage=%{y}<br>text=%{text}<br>color=%{marker.color}<extra></extra>",
         "legendgroup": "",
         "marker": {
          "color": [
           2,
           3,
           1,
           4,
           0,
           13,
           5,
           6,
           7,
           8,
           10,
           9,
           11,
           12
          ],
          "coloraxis": "coloraxis",
          "line": {
           "color": "rgb(8,48,107)",
           "width": 1.5
          },
          "pattern": {
           "shape": ""
          }
         },
         "name": "",
         "offsetgroup": "",
         "opacity": 0.6,
         "orientation": "v",
         "showlegend": false,
         "text": [
          15.82537517053206,
          14.870395634379264,
          13.415188722146429,
          11.68713051386994,
          11.23237835379718,
          10.095497953615281,
          7.207821737153251,
          4.93406093678945,
          3.1150522964984084,
          2.2737608003638017,
          1.6598453842655754,
          1.6371077762619373,
          1.0914051841746248,
          0.9549795361527967
         ],
         "textposition": "auto",
         "type": "bar",
         "x": [
          2,
          3,
          1,
          4,
          0,
          13,
          5,
          6,
          7,
          8,
          10,
          9,
          11,
          12
         ],
         "xaxis": "x",
         "y": [
          15.82537517053206,
          14.870395634379264,
          13.415188722146429,
          11.68713051386994,
          11.23237835379718,
          10.095497953615281,
          7.207821737153251,
          4.93406093678945,
          3.1150522964984084,
          2.2737608003638017,
          1.6598453842655754,
          1.6371077762619373,
          1.0914051841746248,
          0.9549795361527967
         ],
         "yaxis": "y"
        }
       ],
       "layout": {
        "barmode": "relative",
        "coloraxis": {
         "colorbar": {
          "title": {
           "text": "color"
          }
         },
         "colorscale": [
          [
           0,
           "rgb(247,251,255)"
          ],
          [
           0.125,
           "rgb(222,235,247)"
          ],
          [
           0.25,
           "rgb(198,219,239)"
          ],
          [
           0.375,
           "rgb(158,202,225)"
          ],
          [
           0.5,
           "rgb(107,174,214)"
          ],
          [
           0.625,
           "rgb(66,146,198)"
          ],
          [
           0.75,
           "rgb(33,113,181)"
          ],
          [
           0.875,
           "rgb(8,81,156)"
          ],
          [
           1,
           "rgb(8,48,107)"
          ]
         ]
        },
        "legend": {
         "tracegroupgap": 0
        },
        "template": {
         "data": {
          "bar": [
           {
            "error_x": {
             "color": "#2a3f5f"
            },
            "error_y": {
             "color": "#2a3f5f"
            },
            "marker": {
             "line": {
              "color": "#E5ECF6",
              "width": 0.5
             },
             "pattern": {
              "fillmode": "overlay",
              "size": 10,
              "solidity": 0.2
             }
            },
            "type": "bar"
           }
          ],
          "barpolar": [
           {
            "marker": {
             "line": {
              "color": "#E5ECF6",
              "width": 0.5
             },
             "pattern": {
              "fillmode": "overlay",
              "size": 10,
              "solidity": 0.2
             }
            },
            "type": "barpolar"
           }
          ],
          "carpet": [
           {
            "aaxis": {
             "endlinecolor": "#2a3f5f",
             "gridcolor": "white",
             "linecolor": "white",
             "minorgridcolor": "white",
             "startlinecolor": "#2a3f5f"
            },
            "baxis": {
             "endlinecolor": "#2a3f5f",
             "gridcolor": "white",
             "linecolor": "white",
             "minorgridcolor": "white",
             "startlinecolor": "#2a3f5f"
            },
            "type": "carpet"
           }
          ],
          "choropleth": [
           {
            "colorbar": {
             "outlinewidth": 0,
             "ticks": ""
            },
            "type": "choropleth"
           }
          ],
          "contour": [
           {
            "colorbar": {
             "outlinewidth": 0,
             "ticks": ""
            },
            "colorscale": [
             [
              0,
              "#0d0887"
             ],
             [
              0.1111111111111111,
              "#46039f"
             ],
             [
              0.2222222222222222,
              "#7201a8"
             ],
             [
              0.3333333333333333,
              "#9c179e"
             ],
             [
              0.4444444444444444,
              "#bd3786"
             ],
             [
              0.5555555555555556,
              "#d8576b"
             ],
             [
              0.6666666666666666,
              "#ed7953"
             ],
             [
              0.7777777777777778,
              "#fb9f3a"
             ],
             [
              0.8888888888888888,
              "#fdca26"
             ],
             [
              1,
              "#f0f921"
             ]
            ],
            "type": "contour"
           }
          ],
          "contourcarpet": [
           {
            "colorbar": {
             "outlinewidth": 0,
             "ticks": ""
            },
            "type": "contourcarpet"
           }
          ],
          "heatmap": [
           {
            "colorbar": {
             "outlinewidth": 0,
             "ticks": ""
            },
            "colorscale": [
             [
              0,
              "#0d0887"
             ],
             [
              0.1111111111111111,
              "#46039f"
             ],
             [
              0.2222222222222222,
              "#7201a8"
             ],
             [
              0.3333333333333333,
              "#9c179e"
             ],
             [
              0.4444444444444444,
              "#bd3786"
             ],
             [
              0.5555555555555556,
              "#d8576b"
             ],
             [
              0.6666666666666666,
              "#ed7953"
             ],
             [
              0.7777777777777778,
              "#fb9f3a"
             ],
             [
              0.8888888888888888,
              "#fdca26"
             ],
             [
              1,
              "#f0f921"
             ]
            ],
            "type": "heatmap"
           }
          ],
          "heatmapgl": [
           {
            "colorbar": {
             "outlinewidth": 0,
             "ticks": ""
            },
            "colorscale": [
             [
              0,
              "#0d0887"
             ],
             [
              0.1111111111111111,
              "#46039f"
             ],
             [
              0.2222222222222222,
              "#7201a8"
             ],
             [
              0.3333333333333333,
              "#9c179e"
             ],
             [
              0.4444444444444444,
              "#bd3786"
             ],
             [
              0.5555555555555556,
              "#d8576b"
             ],
             [
              0.6666666666666666,
              "#ed7953"
             ],
             [
              0.7777777777777778,
              "#fb9f3a"
             ],
             [
              0.8888888888888888,
              "#fdca26"
             ],
             [
              1,
              "#f0f921"
             ]
            ],
            "type": "heatmapgl"
           }
          ],
          "histogram": [
           {
            "marker": {
             "pattern": {
              "fillmode": "overlay",
              "size": 10,
              "solidity": 0.2
             }
            },
            "type": "histogram"
           }
          ],
          "histogram2d": [
           {
            "colorbar": {
             "outlinewidth": 0,
             "ticks": ""
            },
            "colorscale": [
             [
              0,
              "#0d0887"
             ],
             [
              0.1111111111111111,
              "#46039f"
             ],
             [
              0.2222222222222222,
              "#7201a8"
             ],
             [
              0.3333333333333333,
              "#9c179e"
             ],
             [
              0.4444444444444444,
              "#bd3786"
             ],
             [
              0.5555555555555556,
              "#d8576b"
             ],
             [
              0.6666666666666666,
              "#ed7953"
             ],
             [
              0.7777777777777778,
              "#fb9f3a"
             ],
             [
              0.8888888888888888,
              "#fdca26"
             ],
             [
              1,
              "#f0f921"
             ]
            ],
            "type": "histogram2d"
           }
          ],
          "histogram2dcontour": [
           {
            "colorbar": {
             "outlinewidth": 0,
             "ticks": ""
            },
            "colorscale": [
             [
              0,
              "#0d0887"
             ],
             [
              0.1111111111111111,
              "#46039f"
             ],
             [
              0.2222222222222222,
              "#7201a8"
             ],
             [
              0.3333333333333333,
              "#9c179e"
             ],
             [
              0.4444444444444444,
              "#bd3786"
             ],
             [
              0.5555555555555556,
              "#d8576b"
             ],
             [
              0.6666666666666666,
              "#ed7953"
             ],
             [
              0.7777777777777778,
              "#fb9f3a"
             ],
             [
              0.8888888888888888,
              "#fdca26"
             ],
             [
              1,
              "#f0f921"
             ]
            ],
            "type": "histogram2dcontour"
           }
          ],
          "mesh3d": [
           {
            "colorbar": {
             "outlinewidth": 0,
             "ticks": ""
            },
            "type": "mesh3d"
           }
          ],
          "parcoords": [
           {
            "line": {
             "colorbar": {
              "outlinewidth": 0,
              "ticks": ""
             }
            },
            "type": "parcoords"
           }
          ],
          "pie": [
           {
            "automargin": true,
            "type": "pie"
           }
          ],
          "scatter": [
           {
            "fillpattern": {
             "fillmode": "overlay",
             "size": 10,
             "solidity": 0.2
            },
            "type": "scatter"
           }
          ],
          "scatter3d": [
           {
            "line": {
             "colorbar": {
              "outlinewidth": 0,
              "ticks": ""
             }
            },
            "marker": {
             "colorbar": {
              "outlinewidth": 0,
              "ticks": ""
             }
            },
            "type": "scatter3d"
           }
          ],
          "scattercarpet": [
           {
            "marker": {
             "colorbar": {
              "outlinewidth": 0,
              "ticks": ""
             }
            },
            "type": "scattercarpet"
           }
          ],
          "scattergeo": [
           {
            "marker": {
             "colorbar": {
              "outlinewidth": 0,
              "ticks": ""
             }
            },
            "type": "scattergeo"
           }
          ],
          "scattergl": [
           {
            "marker": {
             "colorbar": {
              "outlinewidth": 0,
              "ticks": ""
             }
            },
            "type": "scattergl"
           }
          ],
          "scattermapbox": [
           {
            "marker": {
             "colorbar": {
              "outlinewidth": 0,
              "ticks": ""
             }
            },
            "type": "scattermapbox"
           }
          ],
          "scatterpolar": [
           {
            "marker": {
             "colorbar": {
              "outlinewidth": 0,
              "ticks": ""
             }
            },
            "type": "scatterpolar"
           }
          ],
          "scatterpolargl": [
           {
            "marker": {
             "colorbar": {
              "outlinewidth": 0,
              "ticks": ""
             }
            },
            "type": "scatterpolargl"
           }
          ],
          "scatterternary": [
           {
            "marker": {
             "colorbar": {
              "outlinewidth": 0,
              "ticks": ""
             }
            },
            "type": "scatterternary"
           }
          ],
          "surface": [
           {
            "colorbar": {
             "outlinewidth": 0,
             "ticks": ""
            },
            "colorscale": [
             [
              0,
              "#0d0887"
             ],
             [
              0.1111111111111111,
              "#46039f"
             ],
             [
              0.2222222222222222,
              "#7201a8"
             ],
             [
              0.3333333333333333,
              "#9c179e"
             ],
             [
              0.4444444444444444,
              "#bd3786"
             ],
             [
              0.5555555555555556,
              "#d8576b"
             ],
             [
              0.6666666666666666,
              "#ed7953"
             ],
             [
              0.7777777777777778,
              "#fb9f3a"
             ],
             [
              0.8888888888888888,
              "#fdca26"
             ],
             [
              1,
              "#f0f921"
             ]
            ],
            "type": "surface"
           }
          ],
          "table": [
           {
            "cells": {
             "fill": {
              "color": "#EBF0F8"
             },
             "line": {
              "color": "white"
             }
            },
            "header": {
             "fill": {
              "color": "#C8D4E3"
             },
             "line": {
              "color": "white"
             }
            },
            "type": "table"
           }
          ]
         },
         "layout": {
          "annotationdefaults": {
           "arrowcolor": "#2a3f5f",
           "arrowhead": 0,
           "arrowwidth": 1
          },
          "autotypenumbers": "strict",
          "coloraxis": {
           "colorbar": {
            "outlinewidth": 0,
            "ticks": ""
           }
          },
          "colorscale": {
           "diverging": [
            [
             0,
             "#8e0152"
            ],
            [
             0.1,
             "#c51b7d"
            ],
            [
             0.2,
             "#de77ae"
            ],
            [
             0.3,
             "#f1b6da"
            ],
            [
             0.4,
             "#fde0ef"
            ],
            [
             0.5,
             "#f7f7f7"
            ],
            [
             0.6,
             "#e6f5d0"
            ],
            [
             0.7,
             "#b8e186"
            ],
            [
             0.8,
             "#7fbc41"
            ],
            [
             0.9,
             "#4d9221"
            ],
            [
             1,
             "#276419"
            ]
           ],
           "sequential": [
            [
             0,
             "#0d0887"
            ],
            [
             0.1111111111111111,
             "#46039f"
            ],
            [
             0.2222222222222222,
             "#7201a8"
            ],
            [
             0.3333333333333333,
             "#9c179e"
            ],
            [
             0.4444444444444444,
             "#bd3786"
            ],
            [
             0.5555555555555556,
             "#d8576b"
            ],
            [
             0.6666666666666666,
             "#ed7953"
            ],
            [
             0.7777777777777778,
             "#fb9f3a"
            ],
            [
             0.8888888888888888,
             "#fdca26"
            ],
            [
             1,
             "#f0f921"
            ]
           ],
           "sequentialminus": [
            [
             0,
             "#0d0887"
            ],
            [
             0.1111111111111111,
             "#46039f"
            ],
            [
             0.2222222222222222,
             "#7201a8"
            ],
            [
             0.3333333333333333,
             "#9c179e"
            ],
            [
             0.4444444444444444,
             "#bd3786"
            ],
            [
             0.5555555555555556,
             "#d8576b"
            ],
            [
             0.6666666666666666,
             "#ed7953"
            ],
            [
             0.7777777777777778,
             "#fb9f3a"
            ],
            [
             0.8888888888888888,
             "#fdca26"
            ],
            [
             1,
             "#f0f921"
            ]
           ]
          },
          "colorway": [
           "#636efa",
           "#EF553B",
           "#00cc96",
           "#ab63fa",
           "#FFA15A",
           "#19d3f3",
           "#FF6692",
           "#B6E880",
           "#FF97FF",
           "#FECB52"
          ],
          "font": {
           "color": "#2a3f5f"
          },
          "geo": {
           "bgcolor": "white",
           "lakecolor": "white",
           "landcolor": "#E5ECF6",
           "showlakes": true,
           "showland": true,
           "subunitcolor": "white"
          },
          "hoverlabel": {
           "align": "left"
          },
          "hovermode": "closest",
          "mapbox": {
           "style": "light"
          },
          "paper_bgcolor": "white",
          "plot_bgcolor": "#E5ECF6",
          "polar": {
           "angularaxis": {
            "gridcolor": "white",
            "linecolor": "white",
            "ticks": ""
           },
           "bgcolor": "#E5ECF6",
           "radialaxis": {
            "gridcolor": "white",
            "linecolor": "white",
            "ticks": ""
           }
          },
          "scene": {
           "xaxis": {
            "backgroundcolor": "#E5ECF6",
            "gridcolor": "white",
            "gridwidth": 2,
            "linecolor": "white",
            "showbackground": true,
            "ticks": "",
            "zerolinecolor": "white"
           },
           "yaxis": {
            "backgroundcolor": "#E5ECF6",
            "gridcolor": "white",
            "gridwidth": 2,
            "linecolor": "white",
            "showbackground": true,
            "ticks": "",
            "zerolinecolor": "white"
           },
           "zaxis": {
            "backgroundcolor": "#E5ECF6",
            "gridcolor": "white",
            "gridwidth": 2,
            "linecolor": "white",
            "showbackground": true,
            "ticks": "",
            "zerolinecolor": "white"
           }
          },
          "shapedefaults": {
           "line": {
            "color": "#2a3f5f"
           }
          },
          "ternary": {
           "aaxis": {
            "gridcolor": "white",
            "linecolor": "white",
            "ticks": ""
           },
           "baxis": {
            "gridcolor": "white",
            "linecolor": "white",
            "ticks": ""
           },
           "bgcolor": "#E5ECF6",
           "caxis": {
            "gridcolor": "white",
            "linecolor": "white",
            "ticks": ""
           }
          },
          "title": {
           "x": 0.05
          },
          "xaxis": {
           "automargin": true,
           "gridcolor": "white",
           "linecolor": "white",
           "ticks": "",
           "title": {
            "standoff": 15
           },
           "zerolinecolor": "white",
           "zerolinewidth": 2
          },
          "yaxis": {
           "automargin": true,
           "gridcolor": "white",
           "linecolor": "white",
           "ticks": "",
           "title": {
            "standoff": 15
           },
           "zerolinecolor": "white",
           "zerolinewidth": 2
          }
         }
        },
        "title": {
         "text": "Pressure Performance Impact Distribution for Goalkeepers (Rounded)"
        },
        "xaxis": {
         "anchor": "y",
         "domain": [
          0,
          1
         ],
         "title": {
          "text": "Rounded Pressure Performance Impact"
         },
         "type": "category"
        },
        "yaxis": {
         "anchor": "x",
         "domain": [
          0,
          1
         ],
         "title": {
          "text": "Percentage"
         }
        }
       }
      }
     },
     "metadata": {},
     "output_type": "display_data"
    }
   ],
   "source": [
    "import plotly.express as px\n",
    "\n",
    "# Filter the DataFrame for goalkeepers\n",
    "goalkeeper_data = df[df['Position'] == 'goalkeeper']\n",
    "\n",
    "# Round off the Pressure Performance Impact values and convert them to integers\n",
    "goalkeeper_data['RoundedPressurePerformanceImpact'] = goalkeeper_data['PressurePerformanceImpact_winsorized'].round().astype(int)\n",
    "\n",
    "# Calculate the percentage of rounded Pressure Performance Impact values\n",
    "pressure_performance_impact_counts = goalkeeper_data['RoundedPressurePerformanceImpact'].value_counts(normalize=True) * 100\n",
    "\n",
    "# Create a bar plot using Plotly\n",
    "fig = px.bar(x=pressure_performance_impact_counts.index, y=pressure_performance_impact_counts.values,\n",
    "             labels={'x': 'Rounded Pressure Performance Impact', 'y': 'Percentage'},\n",
    "             title='Pressure Performance Impact Distribution for Goalkeepers (Rounded)',\n",
    "             text=pressure_performance_impact_counts.values, \n",
    "             hover_data={'x': pressure_performance_impact_counts.index, 'y': pressure_performance_impact_counts.values},\n",
    "             color=pressure_performance_impact_counts.index,\n",
    "             color_continuous_scale='Blues')\n",
    "fig.update_layout(xaxis=dict(type='category'), yaxis=dict(title='Percentage'))\n",
    "fig.update_traces(marker_line_color='rgb(8,48,107)', marker_line_width=1.5, opacity=0.6)\n",
    "fig.show()\n"
   ]
  },
  {
   "cell_type": "markdown",
   "metadata": {},
   "source": [
    "## GoalKeeper Analysis to retrieve the top 20 goalkeepers based on the composite score"
   ]
  },
  {
   "cell_type": "code",
   "execution_count": 89,
   "metadata": {},
   "outputs": [
    {
     "name": "stdout",
     "output_type": "stream",
     "text": [
      "Top 20 goalkeepers with PressurePerformanceImpact_winsorized <= 10 based on composite KPI score:\n",
      "       Played_Id  CompositeScore\n",
      "9285        4572        3.668114\n",
      "16509        214        3.478564\n",
      "4210        4210        3.433301\n",
      "6439        2813        3.253716\n",
      "15015       2763        3.204483\n",
      "6696         338        3.175752\n",
      "12053       1223        3.164988\n",
      "5538         780        3.057994\n",
      "215          215        3.050317\n",
      "10672       2210        3.030135\n",
      "9684        3541        3.014855\n",
      "7009         934        2.996246\n",
      "10690       3550        2.943258\n",
      "13454       3526        2.925105\n",
      "6022        4137        2.920466\n",
      "12266       1282        2.912953\n",
      "5079        4713        2.902564\n",
      "3591        3591        2.900243\n",
      "4194        4194        2.878306\n",
      "10138       1598        2.878084\n",
      "       Played_Id  CleanSheets  PassCompletionRate  ShotsOnTarget  \\\n",
      "9285        4572            9           98.514672             14   \n",
      "16509        214            9           95.500971             13   \n",
      "4210        4210            9           93.830510             12   \n",
      "6439        2813            8          112.945500             11   \n",
      "15015       2763            7          108.758025             14   \n",
      "6696         338            6           90.304016             14   \n",
      "12053       1223            9           71.105385             14   \n",
      "5538         780            8           99.548253             13   \n",
      "215          215            9           95.138290             11   \n",
      "10672       2210            7           76.169769             13   \n",
      "9684        3541            9          119.988897             12   \n",
      "7009         934            8          110.538546             12   \n",
      "10690       3550            6           94.206086             13   \n",
      "13454       3526            9           95.700300             14   \n",
      "6022        4137            9           64.180311             14   \n",
      "12266       1282            4          119.637788             12   \n",
      "5079        4713            9           88.610834             11   \n",
      "3591        3591            7           99.461292             12   \n",
      "4194        4194            8          105.420046              3   \n",
      "10138       1598            8           95.141611             12   \n",
      "\n",
      "       PressurePerformanceImpact_winsorized  CompositeScore  \n",
      "9285                               9.750000        3.668114  \n",
      "16509                              9.000000        3.478564  \n",
      "4210                               9.500000        3.433301  \n",
      "6439                               6.800000        3.253716  \n",
      "15015                              5.875000        3.204483  \n",
      "6696                               9.333333        3.175752  \n",
      "12053                              8.636364        3.164988  \n",
      "5538                               5.329767        3.057994  \n",
      "215                                6.200000        3.050317  \n",
      "10672                              9.500000        3.030135  \n",
      "9684                               1.583333        3.014855  \n",
      "7009                               3.857143        2.996246  \n",
      "10690                              7.166667        2.943258  \n",
      "13454                              2.727273        2.925105  \n",
      "6022                               7.181818        2.920466  \n",
      "12266                              6.166667        2.912953  \n",
      "5079                               5.655644        2.902564  \n",
      "3591                               5.589890        2.900243  \n",
      "4194                               9.833333        2.878306  \n",
      "10138                              4.875000        2.878084  \n"
     ]
    },
    {
     "name": "stderr",
     "output_type": "stream",
     "text": [
      "C:\\Users\\madhu\\AppData\\Local\\Temp\\ipykernel_20596\\123321331.py:16: SettingWithCopyWarning:\n",
      "\n",
      "\n",
      "A value is trying to be set on a copy of a slice from a DataFrame.\n",
      "Try using .loc[row_indexer,col_indexer] = value instead\n",
      "\n",
      "See the caveats in the documentation: https://pandas.pydata.org/pandas-docs/stable/user_guide/indexing.html#returning-a-view-versus-a-copy\n",
      "\n"
     ]
    }
   ],
   "source": [
    "# Filter the DataFrame for goalkeepers with 'PressurePerformanceImpact_winsorized' values less than or equal to 10\n",
    "goalkeeper_data_filtered = goalkeeper_data[goalkeeper_data['PressurePerformanceImpact_winsorized'] <= 10]\n",
    "\n",
    "# Extract the relevant KPIs\n",
    "kpi_columns = ['CleanSheets', 'PassCompletionRate', 'ShotsOnTarget', 'PressurePerformanceImpact_winsorized']\n",
    "kpi_data = goalkeeper_data_filtered[kpi_columns]\n",
    "\n",
    "# Normalize the KPIs using MinMaxScaler\n",
    "scaler = MinMaxScaler()\n",
    "normalized_kpi_data = scaler.fit_transform(kpi_data)\n",
    "\n",
    "# Create a composite score by summing the normalized KPI values\n",
    "composite_scores = normalized_kpi_data.sum(axis=1)\n",
    "\n",
    "# Add the composite scores to the goalkeeper_data DataFrame\n",
    "goalkeeper_data_filtered['CompositeScore'] = composite_scores\n",
    "\n",
    "# Drop duplicate Played_Id values, keeping the row with the highest composite score for each Played_Id\n",
    "goalkeeper_data_unique = goalkeeper_data_filtered.sort_values(by='CompositeScore', ascending=False).drop_duplicates(subset='Played_Id')\n",
    "\n",
    "# Sort the goalkeepers based on the composite score in descending order\n",
    "sorted_goalkeeper_data = goalkeeper_data_unique.sort_values(by='CompositeScore', ascending=False)\n",
    "\n",
    "# Select the top 20 goalkeepers\n",
    "top_20_goalkeepers = sorted_goalkeeper_data.head(20)\n",
    "\n",
    "# Print the top 20 Played_Id values and their composite scores\n",
    "print(\"Top 20 goalkeepers with PressurePerformanceImpact_winsorized <= 10 based on composite KPI score:\")\n",
    "print(top_20_goalkeepers[['Played_Id', 'CompositeScore']])\n",
    "\n",
    "# If you want to see more details, you can include the KPI columns as well\n",
    "print(top_20_goalkeepers[['Played_Id', 'CleanSheets', 'PassCompletionRate', 'ShotsOnTarget', 'PressurePerformanceImpact_winsorized', 'CompositeScore']])\n"
   ]
  },
  {
   "cell_type": "markdown",
   "metadata": {},
   "source": [
    "## The visualization of the top 20 goalkeepers along with the visualization"
   ]
  },
  {
   "cell_type": "code",
   "execution_count": 90,
   "metadata": {},
   "outputs": [
    {
     "data": {
      "application/vnd.plotly.v1+json": {
       "config": {
        "plotlyServerURL": "https://plot.ly"
       },
       "data": [
        {
         "alignmentgroup": "True",
         "hovertemplate": "Played ID=%{x}<br>Composite Score=%{text}<extra></extra>",
         "legendgroup": "",
         "marker": {
          "color": "#636efa",
          "pattern": {
           "shape": ""
          }
         },
         "name": "",
         "offsetgroup": "",
         "orientation": "v",
         "showlegend": false,
         "text": [
          3.668113682932849,
          3.478563778634495,
          3.4333011449757995,
          3.2537163054282585,
          3.2044833544493967,
          3.1757521950151877,
          3.164987592447419,
          3.057994178067961,
          3.0503171057750382,
          3.0301345430083035,
          3.0148545754580405,
          2.996246314331319,
          2.9432577247186877,
          2.9251047662522227,
          2.9204659362713987,
          2.9129534868534663,
          2.9025636349863255,
          2.9002433413140682,
          2.878305957330948,
          2.8780841628770295
         ],
         "textposition": "auto",
         "type": "bar",
         "x": [
          4572,
          214,
          4210,
          2813,
          2763,
          338,
          1223,
          780,
          215,
          2210,
          3541,
          934,
          3550,
          3526,
          4137,
          1282,
          4713,
          3591,
          4194,
          1598
         ],
         "xaxis": "x",
         "y": [
          3.668113682932849,
          3.478563778634495,
          3.4333011449757995,
          3.2537163054282585,
          3.2044833544493967,
          3.1757521950151877,
          3.164987592447419,
          3.057994178067961,
          3.0503171057750382,
          3.0301345430083035,
          3.0148545754580405,
          2.996246314331319,
          2.9432577247186877,
          2.9251047662522227,
          2.9204659362713987,
          2.9129534868534663,
          2.9025636349863255,
          2.9002433413140682,
          2.878305957330948,
          2.8780841628770295
         ],
         "yaxis": "y"
        }
       ],
       "layout": {
        "barmode": "relative",
        "legend": {
         "tracegroupgap": 0
        },
        "showlegend": false,
        "template": {
         "data": {
          "bar": [
           {
            "error_x": {
             "color": "#2a3f5f"
            },
            "error_y": {
             "color": "#2a3f5f"
            },
            "marker": {
             "line": {
              "color": "#E5ECF6",
              "width": 0.5
             },
             "pattern": {
              "fillmode": "overlay",
              "size": 10,
              "solidity": 0.2
             }
            },
            "type": "bar"
           }
          ],
          "barpolar": [
           {
            "marker": {
             "line": {
              "color": "#E5ECF6",
              "width": 0.5
             },
             "pattern": {
              "fillmode": "overlay",
              "size": 10,
              "solidity": 0.2
             }
            },
            "type": "barpolar"
           }
          ],
          "carpet": [
           {
            "aaxis": {
             "endlinecolor": "#2a3f5f",
             "gridcolor": "white",
             "linecolor": "white",
             "minorgridcolor": "white",
             "startlinecolor": "#2a3f5f"
            },
            "baxis": {
             "endlinecolor": "#2a3f5f",
             "gridcolor": "white",
             "linecolor": "white",
             "minorgridcolor": "white",
             "startlinecolor": "#2a3f5f"
            },
            "type": "carpet"
           }
          ],
          "choropleth": [
           {
            "colorbar": {
             "outlinewidth": 0,
             "ticks": ""
            },
            "type": "choropleth"
           }
          ],
          "contour": [
           {
            "colorbar": {
             "outlinewidth": 0,
             "ticks": ""
            },
            "colorscale": [
             [
              0,
              "#0d0887"
             ],
             [
              0.1111111111111111,
              "#46039f"
             ],
             [
              0.2222222222222222,
              "#7201a8"
             ],
             [
              0.3333333333333333,
              "#9c179e"
             ],
             [
              0.4444444444444444,
              "#bd3786"
             ],
             [
              0.5555555555555556,
              "#d8576b"
             ],
             [
              0.6666666666666666,
              "#ed7953"
             ],
             [
              0.7777777777777778,
              "#fb9f3a"
             ],
             [
              0.8888888888888888,
              "#fdca26"
             ],
             [
              1,
              "#f0f921"
             ]
            ],
            "type": "contour"
           }
          ],
          "contourcarpet": [
           {
            "colorbar": {
             "outlinewidth": 0,
             "ticks": ""
            },
            "type": "contourcarpet"
           }
          ],
          "heatmap": [
           {
            "colorbar": {
             "outlinewidth": 0,
             "ticks": ""
            },
            "colorscale": [
             [
              0,
              "#0d0887"
             ],
             [
              0.1111111111111111,
              "#46039f"
             ],
             [
              0.2222222222222222,
              "#7201a8"
             ],
             [
              0.3333333333333333,
              "#9c179e"
             ],
             [
              0.4444444444444444,
              "#bd3786"
             ],
             [
              0.5555555555555556,
              "#d8576b"
             ],
             [
              0.6666666666666666,
              "#ed7953"
             ],
             [
              0.7777777777777778,
              "#fb9f3a"
             ],
             [
              0.8888888888888888,
              "#fdca26"
             ],
             [
              1,
              "#f0f921"
             ]
            ],
            "type": "heatmap"
           }
          ],
          "heatmapgl": [
           {
            "colorbar": {
             "outlinewidth": 0,
             "ticks": ""
            },
            "colorscale": [
             [
              0,
              "#0d0887"
             ],
             [
              0.1111111111111111,
              "#46039f"
             ],
             [
              0.2222222222222222,
              "#7201a8"
             ],
             [
              0.3333333333333333,
              "#9c179e"
             ],
             [
              0.4444444444444444,
              "#bd3786"
             ],
             [
              0.5555555555555556,
              "#d8576b"
             ],
             [
              0.6666666666666666,
              "#ed7953"
             ],
             [
              0.7777777777777778,
              "#fb9f3a"
             ],
             [
              0.8888888888888888,
              "#fdca26"
             ],
             [
              1,
              "#f0f921"
             ]
            ],
            "type": "heatmapgl"
           }
          ],
          "histogram": [
           {
            "marker": {
             "pattern": {
              "fillmode": "overlay",
              "size": 10,
              "solidity": 0.2
             }
            },
            "type": "histogram"
           }
          ],
          "histogram2d": [
           {
            "colorbar": {
             "outlinewidth": 0,
             "ticks": ""
            },
            "colorscale": [
             [
              0,
              "#0d0887"
             ],
             [
              0.1111111111111111,
              "#46039f"
             ],
             [
              0.2222222222222222,
              "#7201a8"
             ],
             [
              0.3333333333333333,
              "#9c179e"
             ],
             [
              0.4444444444444444,
              "#bd3786"
             ],
             [
              0.5555555555555556,
              "#d8576b"
             ],
             [
              0.6666666666666666,
              "#ed7953"
             ],
             [
              0.7777777777777778,
              "#fb9f3a"
             ],
             [
              0.8888888888888888,
              "#fdca26"
             ],
             [
              1,
              "#f0f921"
             ]
            ],
            "type": "histogram2d"
           }
          ],
          "histogram2dcontour": [
           {
            "colorbar": {
             "outlinewidth": 0,
             "ticks": ""
            },
            "colorscale": [
             [
              0,
              "#0d0887"
             ],
             [
              0.1111111111111111,
              "#46039f"
             ],
             [
              0.2222222222222222,
              "#7201a8"
             ],
             [
              0.3333333333333333,
              "#9c179e"
             ],
             [
              0.4444444444444444,
              "#bd3786"
             ],
             [
              0.5555555555555556,
              "#d8576b"
             ],
             [
              0.6666666666666666,
              "#ed7953"
             ],
             [
              0.7777777777777778,
              "#fb9f3a"
             ],
             [
              0.8888888888888888,
              "#fdca26"
             ],
             [
              1,
              "#f0f921"
             ]
            ],
            "type": "histogram2dcontour"
           }
          ],
          "mesh3d": [
           {
            "colorbar": {
             "outlinewidth": 0,
             "ticks": ""
            },
            "type": "mesh3d"
           }
          ],
          "parcoords": [
           {
            "line": {
             "colorbar": {
              "outlinewidth": 0,
              "ticks": ""
             }
            },
            "type": "parcoords"
           }
          ],
          "pie": [
           {
            "automargin": true,
            "type": "pie"
           }
          ],
          "scatter": [
           {
            "fillpattern": {
             "fillmode": "overlay",
             "size": 10,
             "solidity": 0.2
            },
            "type": "scatter"
           }
          ],
          "scatter3d": [
           {
            "line": {
             "colorbar": {
              "outlinewidth": 0,
              "ticks": ""
             }
            },
            "marker": {
             "colorbar": {
              "outlinewidth": 0,
              "ticks": ""
             }
            },
            "type": "scatter3d"
           }
          ],
          "scattercarpet": [
           {
            "marker": {
             "colorbar": {
              "outlinewidth": 0,
              "ticks": ""
             }
            },
            "type": "scattercarpet"
           }
          ],
          "scattergeo": [
           {
            "marker": {
             "colorbar": {
              "outlinewidth": 0,
              "ticks": ""
             }
            },
            "type": "scattergeo"
           }
          ],
          "scattergl": [
           {
            "marker": {
             "colorbar": {
              "outlinewidth": 0,
              "ticks": ""
             }
            },
            "type": "scattergl"
           }
          ],
          "scattermapbox": [
           {
            "marker": {
             "colorbar": {
              "outlinewidth": 0,
              "ticks": ""
             }
            },
            "type": "scattermapbox"
           }
          ],
          "scatterpolar": [
           {
            "marker": {
             "colorbar": {
              "outlinewidth": 0,
              "ticks": ""
             }
            },
            "type": "scatterpolar"
           }
          ],
          "scatterpolargl": [
           {
            "marker": {
             "colorbar": {
              "outlinewidth": 0,
              "ticks": ""
             }
            },
            "type": "scatterpolargl"
           }
          ],
          "scatterternary": [
           {
            "marker": {
             "colorbar": {
              "outlinewidth": 0,
              "ticks": ""
             }
            },
            "type": "scatterternary"
           }
          ],
          "surface": [
           {
            "colorbar": {
             "outlinewidth": 0,
             "ticks": ""
            },
            "colorscale": [
             [
              0,
              "#0d0887"
             ],
             [
              0.1111111111111111,
              "#46039f"
             ],
             [
              0.2222222222222222,
              "#7201a8"
             ],
             [
              0.3333333333333333,
              "#9c179e"
             ],
             [
              0.4444444444444444,
              "#bd3786"
             ],
             [
              0.5555555555555556,
              "#d8576b"
             ],
             [
              0.6666666666666666,
              "#ed7953"
             ],
             [
              0.7777777777777778,
              "#fb9f3a"
             ],
             [
              0.8888888888888888,
              "#fdca26"
             ],
             [
              1,
              "#f0f921"
             ]
            ],
            "type": "surface"
           }
          ],
          "table": [
           {
            "cells": {
             "fill": {
              "color": "#EBF0F8"
             },
             "line": {
              "color": "white"
             }
            },
            "header": {
             "fill": {
              "color": "#C8D4E3"
             },
             "line": {
              "color": "white"
             }
            },
            "type": "table"
           }
          ]
         },
         "layout": {
          "annotationdefaults": {
           "arrowcolor": "#2a3f5f",
           "arrowhead": 0,
           "arrowwidth": 1
          },
          "autotypenumbers": "strict",
          "coloraxis": {
           "colorbar": {
            "outlinewidth": 0,
            "ticks": ""
           }
          },
          "colorscale": {
           "diverging": [
            [
             0,
             "#8e0152"
            ],
            [
             0.1,
             "#c51b7d"
            ],
            [
             0.2,
             "#de77ae"
            ],
            [
             0.3,
             "#f1b6da"
            ],
            [
             0.4,
             "#fde0ef"
            ],
            [
             0.5,
             "#f7f7f7"
            ],
            [
             0.6,
             "#e6f5d0"
            ],
            [
             0.7,
             "#b8e186"
            ],
            [
             0.8,
             "#7fbc41"
            ],
            [
             0.9,
             "#4d9221"
            ],
            [
             1,
             "#276419"
            ]
           ],
           "sequential": [
            [
             0,
             "#0d0887"
            ],
            [
             0.1111111111111111,
             "#46039f"
            ],
            [
             0.2222222222222222,
             "#7201a8"
            ],
            [
             0.3333333333333333,
             "#9c179e"
            ],
            [
             0.4444444444444444,
             "#bd3786"
            ],
            [
             0.5555555555555556,
             "#d8576b"
            ],
            [
             0.6666666666666666,
             "#ed7953"
            ],
            [
             0.7777777777777778,
             "#fb9f3a"
            ],
            [
             0.8888888888888888,
             "#fdca26"
            ],
            [
             1,
             "#f0f921"
            ]
           ],
           "sequentialminus": [
            [
             0,
             "#0d0887"
            ],
            [
             0.1111111111111111,
             "#46039f"
            ],
            [
             0.2222222222222222,
             "#7201a8"
            ],
            [
             0.3333333333333333,
             "#9c179e"
            ],
            [
             0.4444444444444444,
             "#bd3786"
            ],
            [
             0.5555555555555556,
             "#d8576b"
            ],
            [
             0.6666666666666666,
             "#ed7953"
            ],
            [
             0.7777777777777778,
             "#fb9f3a"
            ],
            [
             0.8888888888888888,
             "#fdca26"
            ],
            [
             1,
             "#f0f921"
            ]
           ]
          },
          "colorway": [
           "#636efa",
           "#EF553B",
           "#00cc96",
           "#ab63fa",
           "#FFA15A",
           "#19d3f3",
           "#FF6692",
           "#B6E880",
           "#FF97FF",
           "#FECB52"
          ],
          "font": {
           "color": "#2a3f5f"
          },
          "geo": {
           "bgcolor": "white",
           "lakecolor": "white",
           "landcolor": "#E5ECF6",
           "showlakes": true,
           "showland": true,
           "subunitcolor": "white"
          },
          "hoverlabel": {
           "align": "left"
          },
          "hovermode": "closest",
          "mapbox": {
           "style": "light"
          },
          "paper_bgcolor": "white",
          "plot_bgcolor": "#E5ECF6",
          "polar": {
           "angularaxis": {
            "gridcolor": "white",
            "linecolor": "white",
            "ticks": ""
           },
           "bgcolor": "#E5ECF6",
           "radialaxis": {
            "gridcolor": "white",
            "linecolor": "white",
            "ticks": ""
           }
          },
          "scene": {
           "xaxis": {
            "backgroundcolor": "#E5ECF6",
            "gridcolor": "white",
            "gridwidth": 2,
            "linecolor": "white",
            "showbackground": true,
            "ticks": "",
            "zerolinecolor": "white"
           },
           "yaxis": {
            "backgroundcolor": "#E5ECF6",
            "gridcolor": "white",
            "gridwidth": 2,
            "linecolor": "white",
            "showbackground": true,
            "ticks": "",
            "zerolinecolor": "white"
           },
           "zaxis": {
            "backgroundcolor": "#E5ECF6",
            "gridcolor": "white",
            "gridwidth": 2,
            "linecolor": "white",
            "showbackground": true,
            "ticks": "",
            "zerolinecolor": "white"
           }
          },
          "shapedefaults": {
           "line": {
            "color": "#2a3f5f"
           }
          },
          "ternary": {
           "aaxis": {
            "gridcolor": "white",
            "linecolor": "white",
            "ticks": ""
           },
           "baxis": {
            "gridcolor": "white",
            "linecolor": "white",
            "ticks": ""
           },
           "bgcolor": "#E5ECF6",
           "caxis": {
            "gridcolor": "white",
            "linecolor": "white",
            "ticks": ""
           }
          },
          "title": {
           "x": 0.05
          },
          "xaxis": {
           "automargin": true,
           "gridcolor": "white",
           "linecolor": "white",
           "ticks": "",
           "title": {
            "standoff": 15
           },
           "zerolinecolor": "white",
           "zerolinewidth": 2
          },
          "yaxis": {
           "automargin": true,
           "gridcolor": "white",
           "linecolor": "white",
           "ticks": "",
           "title": {
            "standoff": 15
           },
           "zerolinecolor": "white",
           "zerolinewidth": 2
          }
         }
        },
        "title": {
         "text": "Top 20 Goalkeepers Based on Composite KPI Score"
        },
        "xaxis": {
         "anchor": "y",
         "categoryorder": "total descending",
         "domain": [
          0,
          1
         ],
         "title": {
          "text": "Played ID"
         },
         "type": "category"
        },
        "yaxis": {
         "anchor": "x",
         "domain": [
          0,
          1
         ],
         "title": {
          "text": "Composite Score"
         }
        }
       }
      }
     },
     "metadata": {},
     "output_type": "display_data"
    }
   ],
   "source": [
    "import plotly.express as px\n",
    "\n",
    "# Create the bar plot for the top 20 goalkeepers based on composite scores\n",
    "fig = px.bar(top_20_goalkeepers, x='Played_Id', y='CompositeScore',\n",
    "             title='Top 20 Goalkeepers Based on Composite KPI Score',\n",
    "             labels={'Played_Id': 'Played ID', 'CompositeScore': 'Composite Score'},\n",
    "             text='CompositeScore')\n",
    "\n",
    "# Update the layout for better visualization\n",
    "fig.update_layout(\n",
    "    xaxis=dict(type='category', categoryorder='total descending'),\n",
    "    yaxis=dict(title='Composite Score'),\n",
    "    xaxis_title='Played ID',\n",
    "    yaxis_title='Composite Score',\n",
    "    showlegend=False\n",
    ")\n",
    "\n",
    "# Show the plot\n",
    "fig.show()\n"
   ]
  },
  {
   "cell_type": "markdown",
   "metadata": {},
   "source": [
    "# Midfielder Focused"
   ]
  },
  {
   "cell_type": "markdown",
   "metadata": {},
   "source": [
    "-Assists\n",
    "\n",
    "-PassCompletionRate\n",
    "\n",
    "-DistanceCovered\n",
    "\n",
    "-Sprints"
   ]
  },
  {
   "cell_type": "markdown",
   "metadata": {},
   "source": [
    "## Assists Analysis"
   ]
  },
  {
   "cell_type": "markdown",
   "metadata": {},
   "source": [
    "#### Highest Assists valued Player_Id's"
   ]
  },
  {
   "cell_type": "code",
   "execution_count": 91,
   "metadata": {},
   "outputs": [
    {
     "name": "stdout",
     "output_type": "stream",
     "text": [
      "Top 20 midfielders based on the number of assists:\n",
      "    Played_Id  Assists\n",
      "0        3813       19\n",
      "1        2719       19\n",
      "2        1797       19\n",
      "3        3808       19\n",
      "4        4894       19\n",
      "5        3279       19\n",
      "6        1605       19\n",
      "7        4015       19\n",
      "8        3362       19\n",
      "9        1412       19\n",
      "10       3331       19\n",
      "11       1580       19\n",
      "12       4582       19\n",
      "13       2554       19\n",
      "14       2058       19\n",
      "15        889       19\n",
      "16       1066       19\n",
      "17       3289       19\n",
      "18       1511       19\n",
      "19       1395       19\n",
      "20        396       19\n",
      "21       2377       19\n",
      "22       4023       19\n",
      "23       1814       19\n",
      "24       4147       19\n"
     ]
    }
   ],
   "source": [
    "midfielder_data = df[df['Position'] == 'midfielder']\n",
    "sorted_midfielder_data = midfielder_data.sort_values(by='Assists', ascending=False)\n",
    "# Select the top 20 Midfielders based on Assists\n",
    "top_20_midfielders = sorted_midfielder_data.head(30)\n",
    "# Return the Played_Id along with Assists for these top 20 players\n",
    "print(\"Top 20 midfielders based on the number of assists:\")\n",
    "print(top_20_midfielders[['Played_Id', 'Assists']].drop_duplicates().reset_index(drop=True))"
   ]
  },
  {
   "cell_type": "markdown",
   "metadata": {},
   "source": [
    "#### Lowest Assists valued Player_Id's"
   ]
  },
  {
   "cell_type": "code",
   "execution_count": 92,
   "metadata": {},
   "outputs": [
    {
     "name": "stdout",
     "output_type": "stream",
     "text": [
      "Bottom 20 midfielders based on the number of assists:\n",
      "    Played_Id  Assists\n",
      "0        3330        0\n",
      "1        3990        0\n",
      "2        3355        0\n",
      "3         772        0\n",
      "4         287        0\n",
      "5        1193        0\n",
      "6        3966        0\n",
      "7        4377        0\n",
      "8         920        0\n",
      "9        2327        0\n",
      "10       3095        0\n",
      "11        981        0\n",
      "12       3803        0\n"
     ]
    }
   ],
   "source": [
    "midfielder_data = df[df['Position'] == 'midfielder']\n",
    "sorted_midfielder_data_asc = midfielder_data.sort_values(by='Assists', ascending=True)\n",
    "# Select the bottom 20 Midfielders based on Assists\n",
    "bottom_20_midfielders = sorted_midfielder_data_asc.head(20)\n",
    "# Return the Played_Id along with Assists for these bottom 20 players\n",
    "print(\"Bottom 20 midfielders based on the number of assists:\")\n",
    "print(bottom_20_midfielders[['Played_Id', 'Assists']].drop_duplicates().reset_index(drop=True))"
   ]
  },
  {
   "cell_type": "markdown",
   "metadata": {},
   "source": [
    "#### Visualization plot for Asssist Occurence for each value"
   ]
  },
  {
   "cell_type": "code",
   "execution_count": 93,
   "metadata": {},
   "outputs": [
    {
     "data": {
      "application/vnd.plotly.v1+json": {
       "config": {
        "plotlyServerURL": "https://plot.ly"
       },
       "data": [
        {
         "domain": {
          "x": [
           0,
           1
          ],
          "y": [
           0,
           1
          ]
         },
         "hovertemplate": "Assist Value=%{label}<br>Percentage=%{value}<extra></extra>",
         "labels": [
          12,
          10,
          9,
          11,
          8,
          7,
          5,
          13,
          14,
          6,
          4,
          15,
          16,
          3,
          2,
          18,
          19,
          1,
          17,
          0
         ],
         "legendgroup": "",
         "name": "",
         "showlegend": true,
         "type": "pie",
         "values": [
          6.380803464036565,
          6.374789511667068,
          6.2785662737551124,
          5.767380322347846,
          5.653115227327399,
          5.556891989415444,
          5.41255713254751,
          5.400529227808516,
          5.394515275439018,
          5.220110656723598,
          5.063747895116671,
          4.901371181140245,
          4.4022131344719755,
          4.3240317536685104,
          4.149627134953091,
          4.1015155159971135,
          4.047389944671638,
          3.921096944912196,
          3.9090690401732022,
          3.7406783738272797
         ]
        }
       ],
       "layout": {
        "legend": {
         "tracegroupgap": 0
        },
        "template": {
         "data": {
          "bar": [
           {
            "error_x": {
             "color": "#2a3f5f"
            },
            "error_y": {
             "color": "#2a3f5f"
            },
            "marker": {
             "line": {
              "color": "#E5ECF6",
              "width": 0.5
             },
             "pattern": {
              "fillmode": "overlay",
              "size": 10,
              "solidity": 0.2
             }
            },
            "type": "bar"
           }
          ],
          "barpolar": [
           {
            "marker": {
             "line": {
              "color": "#E5ECF6",
              "width": 0.5
             },
             "pattern": {
              "fillmode": "overlay",
              "size": 10,
              "solidity": 0.2
             }
            },
            "type": "barpolar"
           }
          ],
          "carpet": [
           {
            "aaxis": {
             "endlinecolor": "#2a3f5f",
             "gridcolor": "white",
             "linecolor": "white",
             "minorgridcolor": "white",
             "startlinecolor": "#2a3f5f"
            },
            "baxis": {
             "endlinecolor": "#2a3f5f",
             "gridcolor": "white",
             "linecolor": "white",
             "minorgridcolor": "white",
             "startlinecolor": "#2a3f5f"
            },
            "type": "carpet"
           }
          ],
          "choropleth": [
           {
            "colorbar": {
             "outlinewidth": 0,
             "ticks": ""
            },
            "type": "choropleth"
           }
          ],
          "contour": [
           {
            "colorbar": {
             "outlinewidth": 0,
             "ticks": ""
            },
            "colorscale": [
             [
              0,
              "#0d0887"
             ],
             [
              0.1111111111111111,
              "#46039f"
             ],
             [
              0.2222222222222222,
              "#7201a8"
             ],
             [
              0.3333333333333333,
              "#9c179e"
             ],
             [
              0.4444444444444444,
              "#bd3786"
             ],
             [
              0.5555555555555556,
              "#d8576b"
             ],
             [
              0.6666666666666666,
              "#ed7953"
             ],
             [
              0.7777777777777778,
              "#fb9f3a"
             ],
             [
              0.8888888888888888,
              "#fdca26"
             ],
             [
              1,
              "#f0f921"
             ]
            ],
            "type": "contour"
           }
          ],
          "contourcarpet": [
           {
            "colorbar": {
             "outlinewidth": 0,
             "ticks": ""
            },
            "type": "contourcarpet"
           }
          ],
          "heatmap": [
           {
            "colorbar": {
             "outlinewidth": 0,
             "ticks": ""
            },
            "colorscale": [
             [
              0,
              "#0d0887"
             ],
             [
              0.1111111111111111,
              "#46039f"
             ],
             [
              0.2222222222222222,
              "#7201a8"
             ],
             [
              0.3333333333333333,
              "#9c179e"
             ],
             [
              0.4444444444444444,
              "#bd3786"
             ],
             [
              0.5555555555555556,
              "#d8576b"
             ],
             [
              0.6666666666666666,
              "#ed7953"
             ],
             [
              0.7777777777777778,
              "#fb9f3a"
             ],
             [
              0.8888888888888888,
              "#fdca26"
             ],
             [
              1,
              "#f0f921"
             ]
            ],
            "type": "heatmap"
           }
          ],
          "heatmapgl": [
           {
            "colorbar": {
             "outlinewidth": 0,
             "ticks": ""
            },
            "colorscale": [
             [
              0,
              "#0d0887"
             ],
             [
              0.1111111111111111,
              "#46039f"
             ],
             [
              0.2222222222222222,
              "#7201a8"
             ],
             [
              0.3333333333333333,
              "#9c179e"
             ],
             [
              0.4444444444444444,
              "#bd3786"
             ],
             [
              0.5555555555555556,
              "#d8576b"
             ],
             [
              0.6666666666666666,
              "#ed7953"
             ],
             [
              0.7777777777777778,
              "#fb9f3a"
             ],
             [
              0.8888888888888888,
              "#fdca26"
             ],
             [
              1,
              "#f0f921"
             ]
            ],
            "type": "heatmapgl"
           }
          ],
          "histogram": [
           {
            "marker": {
             "pattern": {
              "fillmode": "overlay",
              "size": 10,
              "solidity": 0.2
             }
            },
            "type": "histogram"
           }
          ],
          "histogram2d": [
           {
            "colorbar": {
             "outlinewidth": 0,
             "ticks": ""
            },
            "colorscale": [
             [
              0,
              "#0d0887"
             ],
             [
              0.1111111111111111,
              "#46039f"
             ],
             [
              0.2222222222222222,
              "#7201a8"
             ],
             [
              0.3333333333333333,
              "#9c179e"
             ],
             [
              0.4444444444444444,
              "#bd3786"
             ],
             [
              0.5555555555555556,
              "#d8576b"
             ],
             [
              0.6666666666666666,
              "#ed7953"
             ],
             [
              0.7777777777777778,
              "#fb9f3a"
             ],
             [
              0.8888888888888888,
              "#fdca26"
             ],
             [
              1,
              "#f0f921"
             ]
            ],
            "type": "histogram2d"
           }
          ],
          "histogram2dcontour": [
           {
            "colorbar": {
             "outlinewidth": 0,
             "ticks": ""
            },
            "colorscale": [
             [
              0,
              "#0d0887"
             ],
             [
              0.1111111111111111,
              "#46039f"
             ],
             [
              0.2222222222222222,
              "#7201a8"
             ],
             [
              0.3333333333333333,
              "#9c179e"
             ],
             [
              0.4444444444444444,
              "#bd3786"
             ],
             [
              0.5555555555555556,
              "#d8576b"
             ],
             [
              0.6666666666666666,
              "#ed7953"
             ],
             [
              0.7777777777777778,
              "#fb9f3a"
             ],
             [
              0.8888888888888888,
              "#fdca26"
             ],
             [
              1,
              "#f0f921"
             ]
            ],
            "type": "histogram2dcontour"
           }
          ],
          "mesh3d": [
           {
            "colorbar": {
             "outlinewidth": 0,
             "ticks": ""
            },
            "type": "mesh3d"
           }
          ],
          "parcoords": [
           {
            "line": {
             "colorbar": {
              "outlinewidth": 0,
              "ticks": ""
             }
            },
            "type": "parcoords"
           }
          ],
          "pie": [
           {
            "automargin": true,
            "type": "pie"
           }
          ],
          "scatter": [
           {
            "fillpattern": {
             "fillmode": "overlay",
             "size": 10,
             "solidity": 0.2
            },
            "type": "scatter"
           }
          ],
          "scatter3d": [
           {
            "line": {
             "colorbar": {
              "outlinewidth": 0,
              "ticks": ""
             }
            },
            "marker": {
             "colorbar": {
              "outlinewidth": 0,
              "ticks": ""
             }
            },
            "type": "scatter3d"
           }
          ],
          "scattercarpet": [
           {
            "marker": {
             "colorbar": {
              "outlinewidth": 0,
              "ticks": ""
             }
            },
            "type": "scattercarpet"
           }
          ],
          "scattergeo": [
           {
            "marker": {
             "colorbar": {
              "outlinewidth": 0,
              "ticks": ""
             }
            },
            "type": "scattergeo"
           }
          ],
          "scattergl": [
           {
            "marker": {
             "colorbar": {
              "outlinewidth": 0,
              "ticks": ""
             }
            },
            "type": "scattergl"
           }
          ],
          "scattermapbox": [
           {
            "marker": {
             "colorbar": {
              "outlinewidth": 0,
              "ticks": ""
             }
            },
            "type": "scattermapbox"
           }
          ],
          "scatterpolar": [
           {
            "marker": {
             "colorbar": {
              "outlinewidth": 0,
              "ticks": ""
             }
            },
            "type": "scatterpolar"
           }
          ],
          "scatterpolargl": [
           {
            "marker": {
             "colorbar": {
              "outlinewidth": 0,
              "ticks": ""
             }
            },
            "type": "scatterpolargl"
           }
          ],
          "scatterternary": [
           {
            "marker": {
             "colorbar": {
              "outlinewidth": 0,
              "ticks": ""
             }
            },
            "type": "scatterternary"
           }
          ],
          "surface": [
           {
            "colorbar": {
             "outlinewidth": 0,
             "ticks": ""
            },
            "colorscale": [
             [
              0,
              "#0d0887"
             ],
             [
              0.1111111111111111,
              "#46039f"
             ],
             [
              0.2222222222222222,
              "#7201a8"
             ],
             [
              0.3333333333333333,
              "#9c179e"
             ],
             [
              0.4444444444444444,
              "#bd3786"
             ],
             [
              0.5555555555555556,
              "#d8576b"
             ],
             [
              0.6666666666666666,
              "#ed7953"
             ],
             [
              0.7777777777777778,
              "#fb9f3a"
             ],
             [
              0.8888888888888888,
              "#fdca26"
             ],
             [
              1,
              "#f0f921"
             ]
            ],
            "type": "surface"
           }
          ],
          "table": [
           {
            "cells": {
             "fill": {
              "color": "#EBF0F8"
             },
             "line": {
              "color": "white"
             }
            },
            "header": {
             "fill": {
              "color": "#C8D4E3"
             },
             "line": {
              "color": "white"
             }
            },
            "type": "table"
           }
          ]
         },
         "layout": {
          "annotationdefaults": {
           "arrowcolor": "#2a3f5f",
           "arrowhead": 0,
           "arrowwidth": 1
          },
          "autotypenumbers": "strict",
          "coloraxis": {
           "colorbar": {
            "outlinewidth": 0,
            "ticks": ""
           }
          },
          "colorscale": {
           "diverging": [
            [
             0,
             "#8e0152"
            ],
            [
             0.1,
             "#c51b7d"
            ],
            [
             0.2,
             "#de77ae"
            ],
            [
             0.3,
             "#f1b6da"
            ],
            [
             0.4,
             "#fde0ef"
            ],
            [
             0.5,
             "#f7f7f7"
            ],
            [
             0.6,
             "#e6f5d0"
            ],
            [
             0.7,
             "#b8e186"
            ],
            [
             0.8,
             "#7fbc41"
            ],
            [
             0.9,
             "#4d9221"
            ],
            [
             1,
             "#276419"
            ]
           ],
           "sequential": [
            [
             0,
             "#0d0887"
            ],
            [
             0.1111111111111111,
             "#46039f"
            ],
            [
             0.2222222222222222,
             "#7201a8"
            ],
            [
             0.3333333333333333,
             "#9c179e"
            ],
            [
             0.4444444444444444,
             "#bd3786"
            ],
            [
             0.5555555555555556,
             "#d8576b"
            ],
            [
             0.6666666666666666,
             "#ed7953"
            ],
            [
             0.7777777777777778,
             "#fb9f3a"
            ],
            [
             0.8888888888888888,
             "#fdca26"
            ],
            [
             1,
             "#f0f921"
            ]
           ],
           "sequentialminus": [
            [
             0,
             "#0d0887"
            ],
            [
             0.1111111111111111,
             "#46039f"
            ],
            [
             0.2222222222222222,
             "#7201a8"
            ],
            [
             0.3333333333333333,
             "#9c179e"
            ],
            [
             0.4444444444444444,
             "#bd3786"
            ],
            [
             0.5555555555555556,
             "#d8576b"
            ],
            [
             0.6666666666666666,
             "#ed7953"
            ],
            [
             0.7777777777777778,
             "#fb9f3a"
            ],
            [
             0.8888888888888888,
             "#fdca26"
            ],
            [
             1,
             "#f0f921"
            ]
           ]
          },
          "colorway": [
           "#636efa",
           "#EF553B",
           "#00cc96",
           "#ab63fa",
           "#FFA15A",
           "#19d3f3",
           "#FF6692",
           "#B6E880",
           "#FF97FF",
           "#FECB52"
          ],
          "font": {
           "color": "#2a3f5f"
          },
          "geo": {
           "bgcolor": "white",
           "lakecolor": "white",
           "landcolor": "#E5ECF6",
           "showlakes": true,
           "showland": true,
           "subunitcolor": "white"
          },
          "hoverlabel": {
           "align": "left"
          },
          "hovermode": "closest",
          "mapbox": {
           "style": "light"
          },
          "paper_bgcolor": "white",
          "plot_bgcolor": "#E5ECF6",
          "polar": {
           "angularaxis": {
            "gridcolor": "white",
            "linecolor": "white",
            "ticks": ""
           },
           "bgcolor": "#E5ECF6",
           "radialaxis": {
            "gridcolor": "white",
            "linecolor": "white",
            "ticks": ""
           }
          },
          "scene": {
           "xaxis": {
            "backgroundcolor": "#E5ECF6",
            "gridcolor": "white",
            "gridwidth": 2,
            "linecolor": "white",
            "showbackground": true,
            "ticks": "",
            "zerolinecolor": "white"
           },
           "yaxis": {
            "backgroundcolor": "#E5ECF6",
            "gridcolor": "white",
            "gridwidth": 2,
            "linecolor": "white",
            "showbackground": true,
            "ticks": "",
            "zerolinecolor": "white"
           },
           "zaxis": {
            "backgroundcolor": "#E5ECF6",
            "gridcolor": "white",
            "gridwidth": 2,
            "linecolor": "white",
            "showbackground": true,
            "ticks": "",
            "zerolinecolor": "white"
           }
          },
          "shapedefaults": {
           "line": {
            "color": "#2a3f5f"
           }
          },
          "ternary": {
           "aaxis": {
            "gridcolor": "white",
            "linecolor": "white",
            "ticks": ""
           },
           "baxis": {
            "gridcolor": "white",
            "linecolor": "white",
            "ticks": ""
           },
           "bgcolor": "#E5ECF6",
           "caxis": {
            "gridcolor": "white",
            "linecolor": "white",
            "ticks": ""
           }
          },
          "title": {
           "x": 0.05
          },
          "xaxis": {
           "automargin": true,
           "gridcolor": "white",
           "linecolor": "white",
           "ticks": "",
           "title": {
            "standoff": 15
           },
           "zerolinecolor": "white",
           "zerolinewidth": 2
          },
          "yaxis": {
           "automargin": true,
           "gridcolor": "white",
           "linecolor": "white",
           "ticks": "",
           "title": {
            "standoff": 15
           },
           "zerolinecolor": "white",
           "zerolinewidth": 2
          }
         }
        },
        "title": {
         "text": "Percentage of Assist Occurrences"
        }
       }
      }
     },
     "metadata": {},
     "output_type": "display_data"
    }
   ],
   "source": [
    "import plotly.express as px\n",
    "\n",
    "# Calculate the value counts of assists\n",
    "assist_counts = df['Assists'].value_counts()\n",
    "\n",
    "# Calculate the percentage of assist occurrences\n",
    "assist_percentages = (assist_counts / assist_counts.sum()) * 100\n",
    "\n",
    "# Create a pie chart using Plotly\n",
    "fig = px.pie(names=assist_percentages.index, values=assist_percentages.values,\n",
    "             title='Percentage of Assist Occurrences',\n",
    "             labels={'names': 'Assist Value', 'values': 'Percentage'})\n",
    "\n",
    "# Show the plot\n",
    "fig.show()\n"
   ]
  },
  {
   "cell_type": "markdown",
   "metadata": {},
   "source": [
    "## PassCompletionRate Analysis"
   ]
  },
  {
   "cell_type": "markdown",
   "metadata": {},
   "source": [
    "#### Highest-Top 25 PassCompletionRate Player_Id"
   ]
  },
  {
   "cell_type": "code",
   "execution_count": 94,
   "metadata": {},
   "outputs": [
    {
     "name": "stdout",
     "output_type": "stream",
     "text": [
      "Top 20 midfielders by Pass Completion Rate:\n",
      "       Played_Id  PassCompletionRate\n",
      "7652        4992          119.985373\n",
      "5272        1202          119.236231\n",
      "9288        3556          119.235890\n",
      "8439        1711          119.137182\n",
      "4773        4773          119.132990\n",
      "3013        3013          119.018369\n",
      "629          629          118.970912\n",
      "10563       3210          118.970909\n",
      "380          380          118.930769\n",
      "7359         774          118.597344\n",
      "4442        4442          118.535735\n",
      "440          440          118.528741\n",
      "8294        3990          118.501755\n",
      "9529        1561          118.272593\n",
      "3544        3544          117.704537\n",
      "12983       2580          117.644754\n",
      "2449        2449          117.586420\n"
     ]
    }
   ],
   "source": [
    "midfielder_data = df[df['Position'] == 'midfielder']\n",
    "top_midfielders = midfielder_data.sort_values(by='PassCompletionRate', ascending=False).head(25)\n",
    "# Drop duplicates based on the Played_Id column\n",
    "top_midfielders_unique = top_midfielders.drop_duplicates(subset='Played_Id')\n",
    "print(\"Top 20 midfielders by Pass Completion Rate:\")\n",
    "print(top_midfielders_unique[['Played_Id', 'PassCompletionRate']])\n"
   ]
  },
  {
   "cell_type": "markdown",
   "metadata": {},
   "source": [
    "#### Bottom 20 PassCompletionrate Player_Id's"
   ]
  },
  {
   "cell_type": "code",
   "execution_count": 95,
   "metadata": {},
   "outputs": [
    {
     "name": "stdout",
     "output_type": "stream",
     "text": [
      "Bottom 20 midfielders by Pass Completion Rate:\n",
      "       Played_Id  PassCompletionRate\n",
      "3330        3330           50.048184\n",
      "4235        4235           50.091832\n",
      "852          852           50.095601\n",
      "593          593           50.118902\n",
      "2751        2751           50.127313\n",
      "10933       3227           50.203972\n",
      "1363        1363           50.205379\n",
      "4994        4994           50.296361\n"
     ]
    }
   ],
   "source": [
    "# Sort the midfielders by PassCompletionRate in ascending order and select the bottom 20\n",
    "bottom_midfielders_pass_completion_rate = midfielder_data.sort_values(by='PassCompletionRate').head(20)\n",
    "\n",
    "# Drop duplicates based on the Played_Id column\n",
    "bottom_midfielders_pass_completion_rate_unique = bottom_midfielders_pass_completion_rate.drop_duplicates(subset='Played_Id')\n",
    "\n",
    "# Display the unique Played_Id values along with their corresponding PassCompletionRate\n",
    "print(\"Bottom 20 midfielders by Pass Completion Rate:\")\n",
    "print(bottom_midfielders_pass_completion_rate_unique[['Played_Id', 'PassCompletionRate']])\n"
   ]
  },
  {
   "cell_type": "code",
   "execution_count": 96,
   "metadata": {},
   "outputs": [
    {
     "data": {
      "application/vnd.plotly.v1+json": {
       "config": {
        "plotlyServerURL": "https://plot.ly"
       },
       "data": [
        {
         "alignmentgroup": "True",
         "hovertemplate": "Pass Completion Rate Quarter=%{x}<br>Percentage=%{y}<br>text=%{text}<extra></extra>",
         "legendgroup": "",
         "marker": {
          "color": "#636efa",
          "pattern": {
           "shape": ""
          }
         },
         "name": "",
         "offsetgroup": "",
         "orientation": "v",
         "showlegend": false,
         "text": [
          0,
          0,
          47.834977146981,
          47.20952610055328,
          4.95549675246572
         ],
         "textposition": "outside",
         "texttemplate": "%{text:.2f}%",
         "type": "bar",
         "x": [
          "0-25",
          "26-50",
          "51-75",
          "76-100",
          "101-125"
         ],
         "xaxis": "x",
         "y": [
          0,
          0,
          47.834977146981,
          47.20952610055328,
          4.95549675246572
         ],
         "yaxis": "y"
        }
       ],
       "layout": {
        "barmode": "relative",
        "legend": {
         "tracegroupgap": 0
        },
        "template": {
         "data": {
          "bar": [
           {
            "error_x": {
             "color": "#2a3f5f"
            },
            "error_y": {
             "color": "#2a3f5f"
            },
            "marker": {
             "line": {
              "color": "#E5ECF6",
              "width": 0.5
             },
             "pattern": {
              "fillmode": "overlay",
              "size": 10,
              "solidity": 0.2
             }
            },
            "type": "bar"
           }
          ],
          "barpolar": [
           {
            "marker": {
             "line": {
              "color": "#E5ECF6",
              "width": 0.5
             },
             "pattern": {
              "fillmode": "overlay",
              "size": 10,
              "solidity": 0.2
             }
            },
            "type": "barpolar"
           }
          ],
          "carpet": [
           {
            "aaxis": {
             "endlinecolor": "#2a3f5f",
             "gridcolor": "white",
             "linecolor": "white",
             "minorgridcolor": "white",
             "startlinecolor": "#2a3f5f"
            },
            "baxis": {
             "endlinecolor": "#2a3f5f",
             "gridcolor": "white",
             "linecolor": "white",
             "minorgridcolor": "white",
             "startlinecolor": "#2a3f5f"
            },
            "type": "carpet"
           }
          ],
          "choropleth": [
           {
            "colorbar": {
             "outlinewidth": 0,
             "ticks": ""
            },
            "type": "choropleth"
           }
          ],
          "contour": [
           {
            "colorbar": {
             "outlinewidth": 0,
             "ticks": ""
            },
            "colorscale": [
             [
              0,
              "#0d0887"
             ],
             [
              0.1111111111111111,
              "#46039f"
             ],
             [
              0.2222222222222222,
              "#7201a8"
             ],
             [
              0.3333333333333333,
              "#9c179e"
             ],
             [
              0.4444444444444444,
              "#bd3786"
             ],
             [
              0.5555555555555556,
              "#d8576b"
             ],
             [
              0.6666666666666666,
              "#ed7953"
             ],
             [
              0.7777777777777778,
              "#fb9f3a"
             ],
             [
              0.8888888888888888,
              "#fdca26"
             ],
             [
              1,
              "#f0f921"
             ]
            ],
            "type": "contour"
           }
          ],
          "contourcarpet": [
           {
            "colorbar": {
             "outlinewidth": 0,
             "ticks": ""
            },
            "type": "contourcarpet"
           }
          ],
          "heatmap": [
           {
            "colorbar": {
             "outlinewidth": 0,
             "ticks": ""
            },
            "colorscale": [
             [
              0,
              "#0d0887"
             ],
             [
              0.1111111111111111,
              "#46039f"
             ],
             [
              0.2222222222222222,
              "#7201a8"
             ],
             [
              0.3333333333333333,
              "#9c179e"
             ],
             [
              0.4444444444444444,
              "#bd3786"
             ],
             [
              0.5555555555555556,
              "#d8576b"
             ],
             [
              0.6666666666666666,
              "#ed7953"
             ],
             [
              0.7777777777777778,
              "#fb9f3a"
             ],
             [
              0.8888888888888888,
              "#fdca26"
             ],
             [
              1,
              "#f0f921"
             ]
            ],
            "type": "heatmap"
           }
          ],
          "heatmapgl": [
           {
            "colorbar": {
             "outlinewidth": 0,
             "ticks": ""
            },
            "colorscale": [
             [
              0,
              "#0d0887"
             ],
             [
              0.1111111111111111,
              "#46039f"
             ],
             [
              0.2222222222222222,
              "#7201a8"
             ],
             [
              0.3333333333333333,
              "#9c179e"
             ],
             [
              0.4444444444444444,
              "#bd3786"
             ],
             [
              0.5555555555555556,
              "#d8576b"
             ],
             [
              0.6666666666666666,
              "#ed7953"
             ],
             [
              0.7777777777777778,
              "#fb9f3a"
             ],
             [
              0.8888888888888888,
              "#fdca26"
             ],
             [
              1,
              "#f0f921"
             ]
            ],
            "type": "heatmapgl"
           }
          ],
          "histogram": [
           {
            "marker": {
             "pattern": {
              "fillmode": "overlay",
              "size": 10,
              "solidity": 0.2
             }
            },
            "type": "histogram"
           }
          ],
          "histogram2d": [
           {
            "colorbar": {
             "outlinewidth": 0,
             "ticks": ""
            },
            "colorscale": [
             [
              0,
              "#0d0887"
             ],
             [
              0.1111111111111111,
              "#46039f"
             ],
             [
              0.2222222222222222,
              "#7201a8"
             ],
             [
              0.3333333333333333,
              "#9c179e"
             ],
             [
              0.4444444444444444,
              "#bd3786"
             ],
             [
              0.5555555555555556,
              "#d8576b"
             ],
             [
              0.6666666666666666,
              "#ed7953"
             ],
             [
              0.7777777777777778,
              "#fb9f3a"
             ],
             [
              0.8888888888888888,
              "#fdca26"
             ],
             [
              1,
              "#f0f921"
             ]
            ],
            "type": "histogram2d"
           }
          ],
          "histogram2dcontour": [
           {
            "colorbar": {
             "outlinewidth": 0,
             "ticks": ""
            },
            "colorscale": [
             [
              0,
              "#0d0887"
             ],
             [
              0.1111111111111111,
              "#46039f"
             ],
             [
              0.2222222222222222,
              "#7201a8"
             ],
             [
              0.3333333333333333,
              "#9c179e"
             ],
             [
              0.4444444444444444,
              "#bd3786"
             ],
             [
              0.5555555555555556,
              "#d8576b"
             ],
             [
              0.6666666666666666,
              "#ed7953"
             ],
             [
              0.7777777777777778,
              "#fb9f3a"
             ],
             [
              0.8888888888888888,
              "#fdca26"
             ],
             [
              1,
              "#f0f921"
             ]
            ],
            "type": "histogram2dcontour"
           }
          ],
          "mesh3d": [
           {
            "colorbar": {
             "outlinewidth": 0,
             "ticks": ""
            },
            "type": "mesh3d"
           }
          ],
          "parcoords": [
           {
            "line": {
             "colorbar": {
              "outlinewidth": 0,
              "ticks": ""
             }
            },
            "type": "parcoords"
           }
          ],
          "pie": [
           {
            "automargin": true,
            "type": "pie"
           }
          ],
          "scatter": [
           {
            "fillpattern": {
             "fillmode": "overlay",
             "size": 10,
             "solidity": 0.2
            },
            "type": "scatter"
           }
          ],
          "scatter3d": [
           {
            "line": {
             "colorbar": {
              "outlinewidth": 0,
              "ticks": ""
             }
            },
            "marker": {
             "colorbar": {
              "outlinewidth": 0,
              "ticks": ""
             }
            },
            "type": "scatter3d"
           }
          ],
          "scattercarpet": [
           {
            "marker": {
             "colorbar": {
              "outlinewidth": 0,
              "ticks": ""
             }
            },
            "type": "scattercarpet"
           }
          ],
          "scattergeo": [
           {
            "marker": {
             "colorbar": {
              "outlinewidth": 0,
              "ticks": ""
             }
            },
            "type": "scattergeo"
           }
          ],
          "scattergl": [
           {
            "marker": {
             "colorbar": {
              "outlinewidth": 0,
              "ticks": ""
             }
            },
            "type": "scattergl"
           }
          ],
          "scattermapbox": [
           {
            "marker": {
             "colorbar": {
              "outlinewidth": 0,
              "ticks": ""
             }
            },
            "type": "scattermapbox"
           }
          ],
          "scatterpolar": [
           {
            "marker": {
             "colorbar": {
              "outlinewidth": 0,
              "ticks": ""
             }
            },
            "type": "scatterpolar"
           }
          ],
          "scatterpolargl": [
           {
            "marker": {
             "colorbar": {
              "outlinewidth": 0,
              "ticks": ""
             }
            },
            "type": "scatterpolargl"
           }
          ],
          "scatterternary": [
           {
            "marker": {
             "colorbar": {
              "outlinewidth": 0,
              "ticks": ""
             }
            },
            "type": "scatterternary"
           }
          ],
          "surface": [
           {
            "colorbar": {
             "outlinewidth": 0,
             "ticks": ""
            },
            "colorscale": [
             [
              0,
              "#0d0887"
             ],
             [
              0.1111111111111111,
              "#46039f"
             ],
             [
              0.2222222222222222,
              "#7201a8"
             ],
             [
              0.3333333333333333,
              "#9c179e"
             ],
             [
              0.4444444444444444,
              "#bd3786"
             ],
             [
              0.5555555555555556,
              "#d8576b"
             ],
             [
              0.6666666666666666,
              "#ed7953"
             ],
             [
              0.7777777777777778,
              "#fb9f3a"
             ],
             [
              0.8888888888888888,
              "#fdca26"
             ],
             [
              1,
              "#f0f921"
             ]
            ],
            "type": "surface"
           }
          ],
          "table": [
           {
            "cells": {
             "fill": {
              "color": "#EBF0F8"
             },
             "line": {
              "color": "white"
             }
            },
            "header": {
             "fill": {
              "color": "#C8D4E3"
             },
             "line": {
              "color": "white"
             }
            },
            "type": "table"
           }
          ]
         },
         "layout": {
          "annotationdefaults": {
           "arrowcolor": "#2a3f5f",
           "arrowhead": 0,
           "arrowwidth": 1
          },
          "autotypenumbers": "strict",
          "coloraxis": {
           "colorbar": {
            "outlinewidth": 0,
            "ticks": ""
           }
          },
          "colorscale": {
           "diverging": [
            [
             0,
             "#8e0152"
            ],
            [
             0.1,
             "#c51b7d"
            ],
            [
             0.2,
             "#de77ae"
            ],
            [
             0.3,
             "#f1b6da"
            ],
            [
             0.4,
             "#fde0ef"
            ],
            [
             0.5,
             "#f7f7f7"
            ],
            [
             0.6,
             "#e6f5d0"
            ],
            [
             0.7,
             "#b8e186"
            ],
            [
             0.8,
             "#7fbc41"
            ],
            [
             0.9,
             "#4d9221"
            ],
            [
             1,
             "#276419"
            ]
           ],
           "sequential": [
            [
             0,
             "#0d0887"
            ],
            [
             0.1111111111111111,
             "#46039f"
            ],
            [
             0.2222222222222222,
             "#7201a8"
            ],
            [
             0.3333333333333333,
             "#9c179e"
            ],
            [
             0.4444444444444444,
             "#bd3786"
            ],
            [
             0.5555555555555556,
             "#d8576b"
            ],
            [
             0.6666666666666666,
             "#ed7953"
            ],
            [
             0.7777777777777778,
             "#fb9f3a"
            ],
            [
             0.8888888888888888,
             "#fdca26"
            ],
            [
             1,
             "#f0f921"
            ]
           ],
           "sequentialminus": [
            [
             0,
             "#0d0887"
            ],
            [
             0.1111111111111111,
             "#46039f"
            ],
            [
             0.2222222222222222,
             "#7201a8"
            ],
            [
             0.3333333333333333,
             "#9c179e"
            ],
            [
             0.4444444444444444,
             "#bd3786"
            ],
            [
             0.5555555555555556,
             "#d8576b"
            ],
            [
             0.6666666666666666,
             "#ed7953"
            ],
            [
             0.7777777777777778,
             "#fb9f3a"
            ],
            [
             0.8888888888888888,
             "#fdca26"
            ],
            [
             1,
             "#f0f921"
            ]
           ]
          },
          "colorway": [
           "#636efa",
           "#EF553B",
           "#00cc96",
           "#ab63fa",
           "#FFA15A",
           "#19d3f3",
           "#FF6692",
           "#B6E880",
           "#FF97FF",
           "#FECB52"
          ],
          "font": {
           "color": "#2a3f5f"
          },
          "geo": {
           "bgcolor": "white",
           "lakecolor": "white",
           "landcolor": "#E5ECF6",
           "showlakes": true,
           "showland": true,
           "subunitcolor": "white"
          },
          "hoverlabel": {
           "align": "left"
          },
          "hovermode": "closest",
          "mapbox": {
           "style": "light"
          },
          "paper_bgcolor": "white",
          "plot_bgcolor": "#E5ECF6",
          "polar": {
           "angularaxis": {
            "gridcolor": "white",
            "linecolor": "white",
            "ticks": ""
           },
           "bgcolor": "#E5ECF6",
           "radialaxis": {
            "gridcolor": "white",
            "linecolor": "white",
            "ticks": ""
           }
          },
          "scene": {
           "xaxis": {
            "backgroundcolor": "#E5ECF6",
            "gridcolor": "white",
            "gridwidth": 2,
            "linecolor": "white",
            "showbackground": true,
            "ticks": "",
            "zerolinecolor": "white"
           },
           "yaxis": {
            "backgroundcolor": "#E5ECF6",
            "gridcolor": "white",
            "gridwidth": 2,
            "linecolor": "white",
            "showbackground": true,
            "ticks": "",
            "zerolinecolor": "white"
           },
           "zaxis": {
            "backgroundcolor": "#E5ECF6",
            "gridcolor": "white",
            "gridwidth": 2,
            "linecolor": "white",
            "showbackground": true,
            "ticks": "",
            "zerolinecolor": "white"
           }
          },
          "shapedefaults": {
           "line": {
            "color": "#2a3f5f"
           }
          },
          "ternary": {
           "aaxis": {
            "gridcolor": "white",
            "linecolor": "white",
            "ticks": ""
           },
           "baxis": {
            "gridcolor": "white",
            "linecolor": "white",
            "ticks": ""
           },
           "bgcolor": "#E5ECF6",
           "caxis": {
            "gridcolor": "white",
            "linecolor": "white",
            "ticks": ""
           }
          },
          "title": {
           "x": 0.05
          },
          "xaxis": {
           "automargin": true,
           "gridcolor": "white",
           "linecolor": "white",
           "ticks": "",
           "title": {
            "standoff": 15
           },
           "zerolinecolor": "white",
           "zerolinewidth": 2
          },
          "yaxis": {
           "automargin": true,
           "gridcolor": "white",
           "linecolor": "white",
           "ticks": "",
           "title": {
            "standoff": 15
           },
           "zerolinecolor": "white",
           "zerolinewidth": 2
          }
         }
        },
        "title": {
         "text": "Pass Completion Rate Distribution in Quarters"
        },
        "xaxis": {
         "anchor": "y",
         "domain": [
          0,
          1
         ],
         "title": {
          "text": "Pass Completion Rate Quarter"
         }
        },
        "yaxis": {
         "anchor": "x",
         "domain": [
          0,
          1
         ],
         "title": {
          "text": "Percentage"
         }
        }
       }
      }
     },
     "metadata": {},
     "output_type": "display_data"
    }
   ],
   "source": [
    "import pandas as pd\n",
    "import plotly.express as px\n",
    "\n",
    "# Assuming df is your DataFrame and it has the 'PassCompletionRate' column\n",
    "\n",
    "# Define the bins and labels for quarters\n",
    "bins = [0, 25, 50, 75, 100, 125]\n",
    "labels = ['0-25', '26-50', '51-75', '76-100', '101-125']\n",
    "\n",
    "# Create a new column to categorize PassCompletionRate into quarters\n",
    "df['PassCompletionRateQuarter'] = pd.cut(df['PassCompletionRate'], bins=bins, labels=labels, include_lowest=True)\n",
    "\n",
    "# Calculate the count of PassCompletionRate values in each quarter\n",
    "pass_completion_rate_counts = df['PassCompletionRateQuarter'].value_counts().sort_index()\n",
    "\n",
    "# Calculate the percentage of PassCompletionRate values falling within each quarter\n",
    "pass_completion_rate_percentages = (pass_completion_rate_counts / pass_completion_rate_counts.sum()) * 100\n",
    "\n",
    "# Create a bar chart using Plotly\n",
    "fig = px.bar(x=pass_completion_rate_percentages.index, y=pass_completion_rate_percentages.values,\n",
    "             labels={'x': 'Pass Completion Rate Quarter', 'y': 'Percentage'},\n",
    "             title='Pass Completion Rate Distribution in Quarters',\n",
    "             text=pass_completion_rate_percentages.values)\n",
    "\n",
    "# Update layout for better visualization\n",
    "fig.update_layout(xaxis_title='Pass Completion Rate Quarter', yaxis_title='Percentage')\n",
    "fig.update_traces(texttemplate='%{text:.2f}%', textposition='outside')\n",
    "\n",
    "# Show the plot\n",
    "fig.show()\n"
   ]
  },
  {
   "cell_type": "markdown",
   "metadata": {},
   "source": [
    "## DistanceCovered Analysis"
   ]
  },
  {
   "cell_type": "markdown",
   "metadata": {},
   "source": [
    "#### Highest-Top 20 DistanceCovered Player_Id"
   ]
  },
  {
   "cell_type": "code",
   "execution_count": 97,
   "metadata": {},
   "outputs": [
    {
     "name": "stdout",
     "output_type": "stream",
     "text": [
      "       Played_Id  DistanceCovered\n",
      "2633        2633        14.992977\n",
      "5225        2132        14.983580\n",
      "8562        2398        14.971309\n",
      "2520        2520        14.968071\n",
      "2408        2408        14.959286\n",
      "3779        3779        14.955006\n",
      "9260        1633        14.952980\n",
      "7359         774        14.948084\n",
      "1978        1978        14.946141\n",
      "5394         600        14.935799\n",
      "1434        1434        14.923206\n",
      "9779        4253        14.917493\n",
      "1043        1043        14.897002\n",
      "15197        285        14.896422\n"
     ]
    }
   ],
   "source": [
    "# Filter the DataFrame for midfielders\n",
    "midfielder_data = df[df['Position'] == 'midfielder']\n",
    "\n",
    "# Sort the midfielders by DistanceCovered in descending order and select the top 20\n",
    "top_midfielders_distance = midfielder_data.sort_values(by='DistanceCovered', ascending=False).head(50)\n",
    "\n",
    "# Drop duplicates based on the Played_Id column\n",
    "top_midfielders_distance_unique = top_midfielders_distance.drop_duplicates(subset='Played_Id')\n",
    "\n",
    "# Display the unique Played_Id values along with their corresponding DistanceCovered\n",
    "print(top_midfielders_distance_unique[['Played_Id', 'DistanceCovered']])"
   ]
  },
  {
   "cell_type": "markdown",
   "metadata": {},
   "source": [
    "#### Bottom 20 DistanceCovered Player_Id's"
   ]
  },
  {
   "cell_type": "code",
   "execution_count": 98,
   "metadata": {},
   "outputs": [
    {
     "name": "stdout",
     "output_type": "stream",
     "text": [
      "Bottom 20 midfielders by Distance Covered:\n",
      "       Played_Id  DistanceCovered\n",
      "6              6         5.005241\n",
      "2278        2278         5.012724\n",
      "2025        2025         5.017679\n",
      "12635       4215         5.022040\n",
      "3210        3210         5.033294\n",
      "2649        2649         5.044167\n",
      "11719       3304         5.044244\n"
     ]
    }
   ],
   "source": [
    "\n",
    "# Sort the midfielders by DistanceCovered in ascending order and select the bottom 20\n",
    "bottom_midfielders_distance_covered = midfielder_data.sort_values(by='DistanceCovered').head(20)\n",
    "\n",
    "# Drop duplicates based on the Played_Id column\n",
    "bottom_midfielders_distance_covered_unique = bottom_midfielders_distance_covered.drop_duplicates(subset='Played_Id')\n",
    "\n",
    "# Display the unique Played_Id values along with their corresponding DistanceCovered\n",
    "print(\"Bottom 20 midfielders by Distance Covered:\")\n",
    "print(bottom_midfielders_distance_covered_unique[['Played_Id', 'DistanceCovered']])\n"
   ]
  },
  {
   "cell_type": "code",
   "execution_count": 99,
   "metadata": {},
   "outputs": [
    {
     "data": {
      "application/vnd.plotly.v1+json": {
       "config": {
        "plotlyServerURL": "https://plot.ly"
       },
       "data": [
        {
         "domain": {
          "x": [
           0,
           1
          ],
          "y": [
           0,
           1
          ]
         },
         "hole": 0.3,
         "hovertemplate": "label=%{label}<br>value=%{value}<extra></extra>",
         "labels": [
          "0-2",
          "2-4",
          "4-6",
          "6-8",
          "8-10",
          "10-12",
          "12-14",
          "14-16"
         ],
         "legendgroup": "",
         "name": "",
         "showlegend": true,
         "textinfo": "percent+label",
         "textposition": "inside",
         "type": "pie",
         "values": [
          0,
          0,
          1690,
          3222,
          3425,
          3264,
          3278,
          1749
         ]
        }
       ],
       "layout": {
        "legend": {
         "tracegroupgap": 0
        },
        "template": {
         "data": {
          "bar": [
           {
            "error_x": {
             "color": "#2a3f5f"
            },
            "error_y": {
             "color": "#2a3f5f"
            },
            "marker": {
             "line": {
              "color": "#E5ECF6",
              "width": 0.5
             },
             "pattern": {
              "fillmode": "overlay",
              "size": 10,
              "solidity": 0.2
             }
            },
            "type": "bar"
           }
          ],
          "barpolar": [
           {
            "marker": {
             "line": {
              "color": "#E5ECF6",
              "width": 0.5
             },
             "pattern": {
              "fillmode": "overlay",
              "size": 10,
              "solidity": 0.2
             }
            },
            "type": "barpolar"
           }
          ],
          "carpet": [
           {
            "aaxis": {
             "endlinecolor": "#2a3f5f",
             "gridcolor": "white",
             "linecolor": "white",
             "minorgridcolor": "white",
             "startlinecolor": "#2a3f5f"
            },
            "baxis": {
             "endlinecolor": "#2a3f5f",
             "gridcolor": "white",
             "linecolor": "white",
             "minorgridcolor": "white",
             "startlinecolor": "#2a3f5f"
            },
            "type": "carpet"
           }
          ],
          "choropleth": [
           {
            "colorbar": {
             "outlinewidth": 0,
             "ticks": ""
            },
            "type": "choropleth"
           }
          ],
          "contour": [
           {
            "colorbar": {
             "outlinewidth": 0,
             "ticks": ""
            },
            "colorscale": [
             [
              0,
              "#0d0887"
             ],
             [
              0.1111111111111111,
              "#46039f"
             ],
             [
              0.2222222222222222,
              "#7201a8"
             ],
             [
              0.3333333333333333,
              "#9c179e"
             ],
             [
              0.4444444444444444,
              "#bd3786"
             ],
             [
              0.5555555555555556,
              "#d8576b"
             ],
             [
              0.6666666666666666,
              "#ed7953"
             ],
             [
              0.7777777777777778,
              "#fb9f3a"
             ],
             [
              0.8888888888888888,
              "#fdca26"
             ],
             [
              1,
              "#f0f921"
             ]
            ],
            "type": "contour"
           }
          ],
          "contourcarpet": [
           {
            "colorbar": {
             "outlinewidth": 0,
             "ticks": ""
            },
            "type": "contourcarpet"
           }
          ],
          "heatmap": [
           {
            "colorbar": {
             "outlinewidth": 0,
             "ticks": ""
            },
            "colorscale": [
             [
              0,
              "#0d0887"
             ],
             [
              0.1111111111111111,
              "#46039f"
             ],
             [
              0.2222222222222222,
              "#7201a8"
             ],
             [
              0.3333333333333333,
              "#9c179e"
             ],
             [
              0.4444444444444444,
              "#bd3786"
             ],
             [
              0.5555555555555556,
              "#d8576b"
             ],
             [
              0.6666666666666666,
              "#ed7953"
             ],
             [
              0.7777777777777778,
              "#fb9f3a"
             ],
             [
              0.8888888888888888,
              "#fdca26"
             ],
             [
              1,
              "#f0f921"
             ]
            ],
            "type": "heatmap"
           }
          ],
          "heatmapgl": [
           {
            "colorbar": {
             "outlinewidth": 0,
             "ticks": ""
            },
            "colorscale": [
             [
              0,
              "#0d0887"
             ],
             [
              0.1111111111111111,
              "#46039f"
             ],
             [
              0.2222222222222222,
              "#7201a8"
             ],
             [
              0.3333333333333333,
              "#9c179e"
             ],
             [
              0.4444444444444444,
              "#bd3786"
             ],
             [
              0.5555555555555556,
              "#d8576b"
             ],
             [
              0.6666666666666666,
              "#ed7953"
             ],
             [
              0.7777777777777778,
              "#fb9f3a"
             ],
             [
              0.8888888888888888,
              "#fdca26"
             ],
             [
              1,
              "#f0f921"
             ]
            ],
            "type": "heatmapgl"
           }
          ],
          "histogram": [
           {
            "marker": {
             "pattern": {
              "fillmode": "overlay",
              "size": 10,
              "solidity": 0.2
             }
            },
            "type": "histogram"
           }
          ],
          "histogram2d": [
           {
            "colorbar": {
             "outlinewidth": 0,
             "ticks": ""
            },
            "colorscale": [
             [
              0,
              "#0d0887"
             ],
             [
              0.1111111111111111,
              "#46039f"
             ],
             [
              0.2222222222222222,
              "#7201a8"
             ],
             [
              0.3333333333333333,
              "#9c179e"
             ],
             [
              0.4444444444444444,
              "#bd3786"
             ],
             [
              0.5555555555555556,
              "#d8576b"
             ],
             [
              0.6666666666666666,
              "#ed7953"
             ],
             [
              0.7777777777777778,
              "#fb9f3a"
             ],
             [
              0.8888888888888888,
              "#fdca26"
             ],
             [
              1,
              "#f0f921"
             ]
            ],
            "type": "histogram2d"
           }
          ],
          "histogram2dcontour": [
           {
            "colorbar": {
             "outlinewidth": 0,
             "ticks": ""
            },
            "colorscale": [
             [
              0,
              "#0d0887"
             ],
             [
              0.1111111111111111,
              "#46039f"
             ],
             [
              0.2222222222222222,
              "#7201a8"
             ],
             [
              0.3333333333333333,
              "#9c179e"
             ],
             [
              0.4444444444444444,
              "#bd3786"
             ],
             [
              0.5555555555555556,
              "#d8576b"
             ],
             [
              0.6666666666666666,
              "#ed7953"
             ],
             [
              0.7777777777777778,
              "#fb9f3a"
             ],
             [
              0.8888888888888888,
              "#fdca26"
             ],
             [
              1,
              "#f0f921"
             ]
            ],
            "type": "histogram2dcontour"
           }
          ],
          "mesh3d": [
           {
            "colorbar": {
             "outlinewidth": 0,
             "ticks": ""
            },
            "type": "mesh3d"
           }
          ],
          "parcoords": [
           {
            "line": {
             "colorbar": {
              "outlinewidth": 0,
              "ticks": ""
             }
            },
            "type": "parcoords"
           }
          ],
          "pie": [
           {
            "automargin": true,
            "type": "pie"
           }
          ],
          "scatter": [
           {
            "fillpattern": {
             "fillmode": "overlay",
             "size": 10,
             "solidity": 0.2
            },
            "type": "scatter"
           }
          ],
          "scatter3d": [
           {
            "line": {
             "colorbar": {
              "outlinewidth": 0,
              "ticks": ""
             }
            },
            "marker": {
             "colorbar": {
              "outlinewidth": 0,
              "ticks": ""
             }
            },
            "type": "scatter3d"
           }
          ],
          "scattercarpet": [
           {
            "marker": {
             "colorbar": {
              "outlinewidth": 0,
              "ticks": ""
             }
            },
            "type": "scattercarpet"
           }
          ],
          "scattergeo": [
           {
            "marker": {
             "colorbar": {
              "outlinewidth": 0,
              "ticks": ""
             }
            },
            "type": "scattergeo"
           }
          ],
          "scattergl": [
           {
            "marker": {
             "colorbar": {
              "outlinewidth": 0,
              "ticks": ""
             }
            },
            "type": "scattergl"
           }
          ],
          "scattermapbox": [
           {
            "marker": {
             "colorbar": {
              "outlinewidth": 0,
              "ticks": ""
             }
            },
            "type": "scattermapbox"
           }
          ],
          "scatterpolar": [
           {
            "marker": {
             "colorbar": {
              "outlinewidth": 0,
              "ticks": ""
             }
            },
            "type": "scatterpolar"
           }
          ],
          "scatterpolargl": [
           {
            "marker": {
             "colorbar": {
              "outlinewidth": 0,
              "ticks": ""
             }
            },
            "type": "scatterpolargl"
           }
          ],
          "scatterternary": [
           {
            "marker": {
             "colorbar": {
              "outlinewidth": 0,
              "ticks": ""
             }
            },
            "type": "scatterternary"
           }
          ],
          "surface": [
           {
            "colorbar": {
             "outlinewidth": 0,
             "ticks": ""
            },
            "colorscale": [
             [
              0,
              "#0d0887"
             ],
             [
              0.1111111111111111,
              "#46039f"
             ],
             [
              0.2222222222222222,
              "#7201a8"
             ],
             [
              0.3333333333333333,
              "#9c179e"
             ],
             [
              0.4444444444444444,
              "#bd3786"
             ],
             [
              0.5555555555555556,
              "#d8576b"
             ],
             [
              0.6666666666666666,
              "#ed7953"
             ],
             [
              0.7777777777777778,
              "#fb9f3a"
             ],
             [
              0.8888888888888888,
              "#fdca26"
             ],
             [
              1,
              "#f0f921"
             ]
            ],
            "type": "surface"
           }
          ],
          "table": [
           {
            "cells": {
             "fill": {
              "color": "#EBF0F8"
             },
             "line": {
              "color": "white"
             }
            },
            "header": {
             "fill": {
              "color": "#C8D4E3"
             },
             "line": {
              "color": "white"
             }
            },
            "type": "table"
           }
          ]
         },
         "layout": {
          "annotationdefaults": {
           "arrowcolor": "#2a3f5f",
           "arrowhead": 0,
           "arrowwidth": 1
          },
          "autotypenumbers": "strict",
          "coloraxis": {
           "colorbar": {
            "outlinewidth": 0,
            "ticks": ""
           }
          },
          "colorscale": {
           "diverging": [
            [
             0,
             "#8e0152"
            ],
            [
             0.1,
             "#c51b7d"
            ],
            [
             0.2,
             "#de77ae"
            ],
            [
             0.3,
             "#f1b6da"
            ],
            [
             0.4,
             "#fde0ef"
            ],
            [
             0.5,
             "#f7f7f7"
            ],
            [
             0.6,
             "#e6f5d0"
            ],
            [
             0.7,
             "#b8e186"
            ],
            [
             0.8,
             "#7fbc41"
            ],
            [
             0.9,
             "#4d9221"
            ],
            [
             1,
             "#276419"
            ]
           ],
           "sequential": [
            [
             0,
             "#0d0887"
            ],
            [
             0.1111111111111111,
             "#46039f"
            ],
            [
             0.2222222222222222,
             "#7201a8"
            ],
            [
             0.3333333333333333,
             "#9c179e"
            ],
            [
             0.4444444444444444,
             "#bd3786"
            ],
            [
             0.5555555555555556,
             "#d8576b"
            ],
            [
             0.6666666666666666,
             "#ed7953"
            ],
            [
             0.7777777777777778,
             "#fb9f3a"
            ],
            [
             0.8888888888888888,
             "#fdca26"
            ],
            [
             1,
             "#f0f921"
            ]
           ],
           "sequentialminus": [
            [
             0,
             "#0d0887"
            ],
            [
             0.1111111111111111,
             "#46039f"
            ],
            [
             0.2222222222222222,
             "#7201a8"
            ],
            [
             0.3333333333333333,
             "#9c179e"
            ],
            [
             0.4444444444444444,
             "#bd3786"
            ],
            [
             0.5555555555555556,
             "#d8576b"
            ],
            [
             0.6666666666666666,
             "#ed7953"
            ],
            [
             0.7777777777777778,
             "#fb9f3a"
            ],
            [
             0.8888888888888888,
             "#fdca26"
            ],
            [
             1,
             "#f0f921"
            ]
           ]
          },
          "colorway": [
           "#636efa",
           "#EF553B",
           "#00cc96",
           "#ab63fa",
           "#FFA15A",
           "#19d3f3",
           "#FF6692",
           "#B6E880",
           "#FF97FF",
           "#FECB52"
          ],
          "font": {
           "color": "#2a3f5f"
          },
          "geo": {
           "bgcolor": "white",
           "lakecolor": "white",
           "landcolor": "#E5ECF6",
           "showlakes": true,
           "showland": true,
           "subunitcolor": "white"
          },
          "hoverlabel": {
           "align": "left"
          },
          "hovermode": "closest",
          "mapbox": {
           "style": "light"
          },
          "paper_bgcolor": "white",
          "plot_bgcolor": "#E5ECF6",
          "polar": {
           "angularaxis": {
            "gridcolor": "white",
            "linecolor": "white",
            "ticks": ""
           },
           "bgcolor": "#E5ECF6",
           "radialaxis": {
            "gridcolor": "white",
            "linecolor": "white",
            "ticks": ""
           }
          },
          "scene": {
           "xaxis": {
            "backgroundcolor": "#E5ECF6",
            "gridcolor": "white",
            "gridwidth": 2,
            "linecolor": "white",
            "showbackground": true,
            "ticks": "",
            "zerolinecolor": "white"
           },
           "yaxis": {
            "backgroundcolor": "#E5ECF6",
            "gridcolor": "white",
            "gridwidth": 2,
            "linecolor": "white",
            "showbackground": true,
            "ticks": "",
            "zerolinecolor": "white"
           },
           "zaxis": {
            "backgroundcolor": "#E5ECF6",
            "gridcolor": "white",
            "gridwidth": 2,
            "linecolor": "white",
            "showbackground": true,
            "ticks": "",
            "zerolinecolor": "white"
           }
          },
          "shapedefaults": {
           "line": {
            "color": "#2a3f5f"
           }
          },
          "ternary": {
           "aaxis": {
            "gridcolor": "white",
            "linecolor": "white",
            "ticks": ""
           },
           "baxis": {
            "gridcolor": "white",
            "linecolor": "white",
            "ticks": ""
           },
           "bgcolor": "#E5ECF6",
           "caxis": {
            "gridcolor": "white",
            "linecolor": "white",
            "ticks": ""
           }
          },
          "title": {
           "x": 0.05
          },
          "xaxis": {
           "automargin": true,
           "gridcolor": "white",
           "linecolor": "white",
           "ticks": "",
           "title": {
            "standoff": 15
           },
           "zerolinecolor": "white",
           "zerolinewidth": 2
          },
          "yaxis": {
           "automargin": true,
           "gridcolor": "white",
           "linecolor": "white",
           "ticks": "",
           "title": {
            "standoff": 15
           },
           "zerolinecolor": "white",
           "zerolinewidth": 2
          }
         }
        },
        "title": {
         "text": "Distance Covered Distribution"
        }
       }
      }
     },
     "metadata": {},
     "output_type": "display_data"
    }
   ],
   "source": [
    "import pandas as pd\n",
    "import plotly.express as px\n",
    "\n",
    "# Assuming df is your DataFrame and it has the 'DistanceCovered' column\n",
    "\n",
    "# Define the bins and labels for Distance Covered with a bin size of 2 up to 16\n",
    "bins = [i for i in range(0, 18, 2)]\n",
    "labels = [f'{bins[i]}-{bins[i+1]}' for i in range(len(bins)-1)]\n",
    "\n",
    "# Create a new column to categorize DistanceCovered into bins\n",
    "df['DistanceCoveredBins'] = pd.cut(df['DistanceCovered'], bins=bins, labels=labels, include_lowest=True)\n",
    "\n",
    "# Calculate the count of DistanceCovered values in each bin\n",
    "distance_covered_counts = df['DistanceCoveredBins'].value_counts().sort_index()\n",
    "\n",
    "# Create a pie chart using Plotly\n",
    "fig = px.pie(values=distance_covered_counts, names=distance_covered_counts.index,\n",
    "             title='Distance Covered Distribution',\n",
    "             labels={'index': 'Distance Covered (km)', 'value': 'Percentage'})\n",
    "\n",
    "# Update layout for better visualization\n",
    "fig.update_traces(textinfo='percent+label', textposition='inside', hole=.3)\n",
    "\n",
    "# Show the plot\n",
    "fig.show()\n",
    "\n"
   ]
  },
  {
   "cell_type": "markdown",
   "metadata": {},
   "source": [
    "## Sprints Analysis"
   ]
  },
  {
   "cell_type": "markdown",
   "metadata": {},
   "source": [
    "#### Highest -Top 15 sprints Player_Id"
   ]
  },
  {
   "cell_type": "code",
   "execution_count": 100,
   "metadata": {},
   "outputs": [
    {
     "name": "stdout",
     "output_type": "stream",
     "text": [
      "       Played_Id  Sprints\n",
      "6818        4681       99\n",
      "1112        1112       99\n",
      "6779         156       99\n",
      "9864        4620       99\n",
      "11789       2585       99\n",
      "13004       3373       99\n",
      "15947       4256       99\n",
      "2785        2785       99\n",
      "16382       1037       99\n",
      "7752        4302       99\n",
      "5518        3095       99\n",
      "1106        1106       99\n",
      "4151        4151       99\n",
      "7413          31       99\n",
      "69            69       99\n",
      "4615        4615       99\n"
     ]
    }
   ],
   "source": [
    "# Sort the midfielders by Sprints in descending order and select the top 20\n",
    "top_midfielders_sprints = midfielder_data.sort_values(by='Sprints', ascending=False).head(50)\n",
    "\n",
    "# Drop duplicates based on the Played_Id column\n",
    "top_midfielders_sprints_unique = top_midfielders_sprints.drop_duplicates(subset='Played_Id')\n",
    "\n",
    "# Display the unique Played_Id values along with their corresponding Sprints\n",
    "print(top_midfielders_sprints_unique[['Played_Id', 'Sprints']])"
   ]
  },
  {
   "cell_type": "markdown",
   "metadata": {},
   "source": [
    "#### Bottom 20 Sprints Player_Id's"
   ]
  },
  {
   "cell_type": "code",
   "execution_count": 101,
   "metadata": {},
   "outputs": [
    {
     "name": "stdout",
     "output_type": "stream",
     "text": [
      "Bottom 20 midfielders by Sprints:\n",
      "       Played_Id  Sprints\n",
      "14299       4600        0\n",
      "13517       3376        0\n",
      "10325        121        0\n",
      "6868        4738        0\n",
      "12458       2278        0\n",
      "7645         908        0\n",
      "6536        2535        0\n",
      "373          373        0\n",
      "1128        1128        0\n",
      "6704        3320        0\n"
     ]
    }
   ],
   "source": [
    "# Sort the midfielders by Sprints in ascending order and select the bottom 20\n",
    "bottom_midfielders_sprints = midfielder_data.sort_values(by='Sprints').head(20)\n",
    "\n",
    "# Drop duplicates based on the Played_Id column\n",
    "bottom_midfielders_sprints_unique = bottom_midfielders_sprints.drop_duplicates(subset='Played_Id')\n",
    "\n",
    "# Display the unique Played_Id values along with their corresponding Sprints\n",
    "print(\"Bottom 20 midfielders by Sprints:\")\n",
    "print(bottom_midfielders_sprints_unique[['Played_Id', 'Sprints']])"
   ]
  },
  {
   "cell_type": "code",
   "execution_count": 102,
   "metadata": {},
   "outputs": [
    {
     "data": {
      "application/vnd.plotly.v1+json": {
       "config": {
        "plotlyServerURL": "https://plot.ly"
       },
       "data": [
        {
         "hovertemplate": "Percentage=%{r}<br>Sprints=%{theta}<extra></extra>",
         "legendgroup": "",
         "marker": {
          "color": "#636efa",
          "pattern": {
           "shape": ""
          }
         },
         "name": "",
         "r": [
          22.642530671157086,
          19.773875390906902,
          20.26701948520568,
          19.69569401010344,
          17.620880442626895
         ],
         "showlegend": false,
         "subplot": "polar",
         "theta": [
          "0-20",
          "20-40",
          "40-60",
          "60-80",
          "80-100"
         ],
         "type": "barpolar"
        }
       ],
       "layout": {
        "barmode": "relative",
        "legend": {
         "tracegroupgap": 0
        },
        "polar": {
         "angularaxis": {
          "direction": "clockwise",
          "rotation": 90
         },
         "domain": {
          "x": [
           0,
           1
          ],
          "y": [
           0,
           1
          ]
         }
        },
        "template": {
         "data": {
          "bar": [
           {
            "error_x": {
             "color": "#f2f5fa"
            },
            "error_y": {
             "color": "#f2f5fa"
            },
            "marker": {
             "line": {
              "color": "rgb(17,17,17)",
              "width": 0.5
             },
             "pattern": {
              "fillmode": "overlay",
              "size": 10,
              "solidity": 0.2
             }
            },
            "type": "bar"
           }
          ],
          "barpolar": [
           {
            "marker": {
             "line": {
              "color": "rgb(17,17,17)",
              "width": 0.5
             },
             "pattern": {
              "fillmode": "overlay",
              "size": 10,
              "solidity": 0.2
             }
            },
            "type": "barpolar"
           }
          ],
          "carpet": [
           {
            "aaxis": {
             "endlinecolor": "#A2B1C6",
             "gridcolor": "#506784",
             "linecolor": "#506784",
             "minorgridcolor": "#506784",
             "startlinecolor": "#A2B1C6"
            },
            "baxis": {
             "endlinecolor": "#A2B1C6",
             "gridcolor": "#506784",
             "linecolor": "#506784",
             "minorgridcolor": "#506784",
             "startlinecolor": "#A2B1C6"
            },
            "type": "carpet"
           }
          ],
          "choropleth": [
           {
            "colorbar": {
             "outlinewidth": 0,
             "ticks": ""
            },
            "type": "choropleth"
           }
          ],
          "contour": [
           {
            "colorbar": {
             "outlinewidth": 0,
             "ticks": ""
            },
            "colorscale": [
             [
              0,
              "#0d0887"
             ],
             [
              0.1111111111111111,
              "#46039f"
             ],
             [
              0.2222222222222222,
              "#7201a8"
             ],
             [
              0.3333333333333333,
              "#9c179e"
             ],
             [
              0.4444444444444444,
              "#bd3786"
             ],
             [
              0.5555555555555556,
              "#d8576b"
             ],
             [
              0.6666666666666666,
              "#ed7953"
             ],
             [
              0.7777777777777778,
              "#fb9f3a"
             ],
             [
              0.8888888888888888,
              "#fdca26"
             ],
             [
              1,
              "#f0f921"
             ]
            ],
            "type": "contour"
           }
          ],
          "contourcarpet": [
           {
            "colorbar": {
             "outlinewidth": 0,
             "ticks": ""
            },
            "type": "contourcarpet"
           }
          ],
          "heatmap": [
           {
            "colorbar": {
             "outlinewidth": 0,
             "ticks": ""
            },
            "colorscale": [
             [
              0,
              "#0d0887"
             ],
             [
              0.1111111111111111,
              "#46039f"
             ],
             [
              0.2222222222222222,
              "#7201a8"
             ],
             [
              0.3333333333333333,
              "#9c179e"
             ],
             [
              0.4444444444444444,
              "#bd3786"
             ],
             [
              0.5555555555555556,
              "#d8576b"
             ],
             [
              0.6666666666666666,
              "#ed7953"
             ],
             [
              0.7777777777777778,
              "#fb9f3a"
             ],
             [
              0.8888888888888888,
              "#fdca26"
             ],
             [
              1,
              "#f0f921"
             ]
            ],
            "type": "heatmap"
           }
          ],
          "heatmapgl": [
           {
            "colorbar": {
             "outlinewidth": 0,
             "ticks": ""
            },
            "colorscale": [
             [
              0,
              "#0d0887"
             ],
             [
              0.1111111111111111,
              "#46039f"
             ],
             [
              0.2222222222222222,
              "#7201a8"
             ],
             [
              0.3333333333333333,
              "#9c179e"
             ],
             [
              0.4444444444444444,
              "#bd3786"
             ],
             [
              0.5555555555555556,
              "#d8576b"
             ],
             [
              0.6666666666666666,
              "#ed7953"
             ],
             [
              0.7777777777777778,
              "#fb9f3a"
             ],
             [
              0.8888888888888888,
              "#fdca26"
             ],
             [
              1,
              "#f0f921"
             ]
            ],
            "type": "heatmapgl"
           }
          ],
          "histogram": [
           {
            "marker": {
             "pattern": {
              "fillmode": "overlay",
              "size": 10,
              "solidity": 0.2
             }
            },
            "type": "histogram"
           }
          ],
          "histogram2d": [
           {
            "colorbar": {
             "outlinewidth": 0,
             "ticks": ""
            },
            "colorscale": [
             [
              0,
              "#0d0887"
             ],
             [
              0.1111111111111111,
              "#46039f"
             ],
             [
              0.2222222222222222,
              "#7201a8"
             ],
             [
              0.3333333333333333,
              "#9c179e"
             ],
             [
              0.4444444444444444,
              "#bd3786"
             ],
             [
              0.5555555555555556,
              "#d8576b"
             ],
             [
              0.6666666666666666,
              "#ed7953"
             ],
             [
              0.7777777777777778,
              "#fb9f3a"
             ],
             [
              0.8888888888888888,
              "#fdca26"
             ],
             [
              1,
              "#f0f921"
             ]
            ],
            "type": "histogram2d"
           }
          ],
          "histogram2dcontour": [
           {
            "colorbar": {
             "outlinewidth": 0,
             "ticks": ""
            },
            "colorscale": [
             [
              0,
              "#0d0887"
             ],
             [
              0.1111111111111111,
              "#46039f"
             ],
             [
              0.2222222222222222,
              "#7201a8"
             ],
             [
              0.3333333333333333,
              "#9c179e"
             ],
             [
              0.4444444444444444,
              "#bd3786"
             ],
             [
              0.5555555555555556,
              "#d8576b"
             ],
             [
              0.6666666666666666,
              "#ed7953"
             ],
             [
              0.7777777777777778,
              "#fb9f3a"
             ],
             [
              0.8888888888888888,
              "#fdca26"
             ],
             [
              1,
              "#f0f921"
             ]
            ],
            "type": "histogram2dcontour"
           }
          ],
          "mesh3d": [
           {
            "colorbar": {
             "outlinewidth": 0,
             "ticks": ""
            },
            "type": "mesh3d"
           }
          ],
          "parcoords": [
           {
            "line": {
             "colorbar": {
              "outlinewidth": 0,
              "ticks": ""
             }
            },
            "type": "parcoords"
           }
          ],
          "pie": [
           {
            "automargin": true,
            "type": "pie"
           }
          ],
          "scatter": [
           {
            "marker": {
             "line": {
              "color": "#283442"
             }
            },
            "type": "scatter"
           }
          ],
          "scatter3d": [
           {
            "line": {
             "colorbar": {
              "outlinewidth": 0,
              "ticks": ""
             }
            },
            "marker": {
             "colorbar": {
              "outlinewidth": 0,
              "ticks": ""
             }
            },
            "type": "scatter3d"
           }
          ],
          "scattercarpet": [
           {
            "marker": {
             "colorbar": {
              "outlinewidth": 0,
              "ticks": ""
             }
            },
            "type": "scattercarpet"
           }
          ],
          "scattergeo": [
           {
            "marker": {
             "colorbar": {
              "outlinewidth": 0,
              "ticks": ""
             }
            },
            "type": "scattergeo"
           }
          ],
          "scattergl": [
           {
            "marker": {
             "line": {
              "color": "#283442"
             }
            },
            "type": "scattergl"
           }
          ],
          "scattermapbox": [
           {
            "marker": {
             "colorbar": {
              "outlinewidth": 0,
              "ticks": ""
             }
            },
            "type": "scattermapbox"
           }
          ],
          "scatterpolar": [
           {
            "marker": {
             "colorbar": {
              "outlinewidth": 0,
              "ticks": ""
             }
            },
            "type": "scatterpolar"
           }
          ],
          "scatterpolargl": [
           {
            "marker": {
             "colorbar": {
              "outlinewidth": 0,
              "ticks": ""
             }
            },
            "type": "scatterpolargl"
           }
          ],
          "scatterternary": [
           {
            "marker": {
             "colorbar": {
              "outlinewidth": 0,
              "ticks": ""
             }
            },
            "type": "scatterternary"
           }
          ],
          "surface": [
           {
            "colorbar": {
             "outlinewidth": 0,
             "ticks": ""
            },
            "colorscale": [
             [
              0,
              "#0d0887"
             ],
             [
              0.1111111111111111,
              "#46039f"
             ],
             [
              0.2222222222222222,
              "#7201a8"
             ],
             [
              0.3333333333333333,
              "#9c179e"
             ],
             [
              0.4444444444444444,
              "#bd3786"
             ],
             [
              0.5555555555555556,
              "#d8576b"
             ],
             [
              0.6666666666666666,
              "#ed7953"
             ],
             [
              0.7777777777777778,
              "#fb9f3a"
             ],
             [
              0.8888888888888888,
              "#fdca26"
             ],
             [
              1,
              "#f0f921"
             ]
            ],
            "type": "surface"
           }
          ],
          "table": [
           {
            "cells": {
             "fill": {
              "color": "#506784"
             },
             "line": {
              "color": "rgb(17,17,17)"
             }
            },
            "header": {
             "fill": {
              "color": "#2a3f5f"
             },
             "line": {
              "color": "rgb(17,17,17)"
             }
            },
            "type": "table"
           }
          ]
         },
         "layout": {
          "annotationdefaults": {
           "arrowcolor": "#f2f5fa",
           "arrowhead": 0,
           "arrowwidth": 1
          },
          "autotypenumbers": "strict",
          "coloraxis": {
           "colorbar": {
            "outlinewidth": 0,
            "ticks": ""
           }
          },
          "colorscale": {
           "diverging": [
            [
             0,
             "#8e0152"
            ],
            [
             0.1,
             "#c51b7d"
            ],
            [
             0.2,
             "#de77ae"
            ],
            [
             0.3,
             "#f1b6da"
            ],
            [
             0.4,
             "#fde0ef"
            ],
            [
             0.5,
             "#f7f7f7"
            ],
            [
             0.6,
             "#e6f5d0"
            ],
            [
             0.7,
             "#b8e186"
            ],
            [
             0.8,
             "#7fbc41"
            ],
            [
             0.9,
             "#4d9221"
            ],
            [
             1,
             "#276419"
            ]
           ],
           "sequential": [
            [
             0,
             "#0d0887"
            ],
            [
             0.1111111111111111,
             "#46039f"
            ],
            [
             0.2222222222222222,
             "#7201a8"
            ],
            [
             0.3333333333333333,
             "#9c179e"
            ],
            [
             0.4444444444444444,
             "#bd3786"
            ],
            [
             0.5555555555555556,
             "#d8576b"
            ],
            [
             0.6666666666666666,
             "#ed7953"
            ],
            [
             0.7777777777777778,
             "#fb9f3a"
            ],
            [
             0.8888888888888888,
             "#fdca26"
            ],
            [
             1,
             "#f0f921"
            ]
           ],
           "sequentialminus": [
            [
             0,
             "#0d0887"
            ],
            [
             0.1111111111111111,
             "#46039f"
            ],
            [
             0.2222222222222222,
             "#7201a8"
            ],
            [
             0.3333333333333333,
             "#9c179e"
            ],
            [
             0.4444444444444444,
             "#bd3786"
            ],
            [
             0.5555555555555556,
             "#d8576b"
            ],
            [
             0.6666666666666666,
             "#ed7953"
            ],
            [
             0.7777777777777778,
             "#fb9f3a"
            ],
            [
             0.8888888888888888,
             "#fdca26"
            ],
            [
             1,
             "#f0f921"
            ]
           ]
          },
          "colorway": [
           "#636efa",
           "#EF553B",
           "#00cc96",
           "#ab63fa",
           "#FFA15A",
           "#19d3f3",
           "#FF6692",
           "#B6E880",
           "#FF97FF",
           "#FECB52"
          ],
          "font": {
           "color": "#f2f5fa"
          },
          "geo": {
           "bgcolor": "rgb(17,17,17)",
           "lakecolor": "rgb(17,17,17)",
           "landcolor": "rgb(17,17,17)",
           "showlakes": true,
           "showland": true,
           "subunitcolor": "#506784"
          },
          "hoverlabel": {
           "align": "left"
          },
          "hovermode": "closest",
          "mapbox": {
           "style": "dark"
          },
          "paper_bgcolor": "rgb(17,17,17)",
          "plot_bgcolor": "rgb(17,17,17)",
          "polar": {
           "angularaxis": {
            "gridcolor": "#506784",
            "linecolor": "#506784",
            "ticks": ""
           },
           "bgcolor": "rgb(17,17,17)",
           "radialaxis": {
            "gridcolor": "#506784",
            "linecolor": "#506784",
            "ticks": ""
           }
          },
          "scene": {
           "xaxis": {
            "backgroundcolor": "rgb(17,17,17)",
            "gridcolor": "#506784",
            "gridwidth": 2,
            "linecolor": "#506784",
            "showbackground": true,
            "ticks": "",
            "zerolinecolor": "#C8D4E3"
           },
           "yaxis": {
            "backgroundcolor": "rgb(17,17,17)",
            "gridcolor": "#506784",
            "gridwidth": 2,
            "linecolor": "#506784",
            "showbackground": true,
            "ticks": "",
            "zerolinecolor": "#C8D4E3"
           },
           "zaxis": {
            "backgroundcolor": "rgb(17,17,17)",
            "gridcolor": "#506784",
            "gridwidth": 2,
            "linecolor": "#506784",
            "showbackground": true,
            "ticks": "",
            "zerolinecolor": "#C8D4E3"
           }
          },
          "shapedefaults": {
           "line": {
            "color": "#f2f5fa"
           }
          },
          "sliderdefaults": {
           "bgcolor": "#C8D4E3",
           "bordercolor": "rgb(17,17,17)",
           "borderwidth": 1,
           "tickwidth": 0
          },
          "ternary": {
           "aaxis": {
            "gridcolor": "#506784",
            "linecolor": "#506784",
            "ticks": ""
           },
           "baxis": {
            "gridcolor": "#506784",
            "linecolor": "#506784",
            "ticks": ""
           },
           "bgcolor": "rgb(17,17,17)",
           "caxis": {
            "gridcolor": "#506784",
            "linecolor": "#506784",
            "ticks": ""
           }
          },
          "title": {
           "x": 0.05
          },
          "updatemenudefaults": {
           "bgcolor": "#506784",
           "borderwidth": 0
          },
          "xaxis": {
           "automargin": true,
           "gridcolor": "#283442",
           "linecolor": "#506784",
           "ticks": "",
           "title": {
            "standoff": 15
           },
           "zerolinecolor": "#283442",
           "zerolinewidth": 2
          },
          "yaxis": {
           "automargin": true,
           "gridcolor": "#283442",
           "linecolor": "#506784",
           "ticks": "",
           "title": {
            "standoff": 15
           },
           "zerolinecolor": "#283442",
           "zerolinewidth": 2
          }
         }
        },
        "title": {
         "text": "Sprints Distribution"
        }
       }
      }
     },
     "metadata": {},
     "output_type": "display_data"
    }
   ],
   "source": [
    "import pandas as pd\n",
    "import plotly.express as px\n",
    "\n",
    "# Assuming df is your DataFrame and it has the 'Sprints' column\n",
    "\n",
    "# Define the bins and labels for sprints with a bin size of 20 up to 100\n",
    "bins = [i for i in range(0, 101, 20)]\n",
    "labels = [f'{bins[i]}-{bins[i+1]}' for i in range(len(bins)-1)]\n",
    "\n",
    "# Create a new column to categorize Sprints into bins\n",
    "df['SprintsBins'] = pd.cut(df['Sprints'], bins=bins, labels=labels, include_lowest=True)\n",
    "\n",
    "# Calculate the count of Sprints values in each bin\n",
    "sprints_counts = df['SprintsBins'].value_counts(normalize=True).sort_index() * 100\n",
    "\n",
    "# Create a DataFrame from the counts\n",
    "sprints_counts_df = sprints_counts.reset_index()\n",
    "sprints_counts_df.columns = ['SprintsBins', 'Percentage']\n",
    "\n",
    "# Create a polar bar plot using Plotly\n",
    "fig = px.bar_polar(sprints_counts_df, r='Percentage', theta='SprintsBins',\n",
    "                    title='Sprints Distribution',\n",
    "                    labels={'SprintsBins': 'Sprints', 'Percentage': 'Percentage'},\n",
    "                    template='plotly_dark')\n",
    "\n",
    "# Show the plot\n",
    "fig.show()\n"
   ]
  },
  {
   "cell_type": "code",
   "execution_count": 103,
   "metadata": {},
   "outputs": [
    {
     "name": "stdout",
     "output_type": "stream",
     "text": [
      "Top 20 midfielders based on composite KPI score:\n",
      "       Played_Id  CompositeScore\n",
      "16580       3808        3.787356\n",
      "15380        984        3.528265\n",
      "1737        1737        3.450472\n",
      "4036        4036        3.391039\n",
      "1797        1797        3.338145\n",
      "31            31        3.314613\n",
      "15717       1852        3.310443\n",
      "7523        2524        3.291771\n",
      "4334        4334        3.287259\n",
      "9259         559        3.261482\n",
      "5160        1774        3.259689\n",
      "7996         342        3.237158\n",
      "2496        2496        3.232905\n",
      "6710         819        3.224073\n",
      "53            53        3.212013\n",
      "1412        1412        3.198132\n",
      "2520        2520        3.174559\n",
      "7359         774        3.174489\n",
      "6065        3779        3.150083\n",
      "6976         815        3.136021\n",
      "       Played_Id  Assists  PassCompletionRate  DistanceCovered  Sprints  \\\n",
      "16580       3808       19          114.973453        13.988443       95   \n",
      "15380        984       18          104.566209        14.421499       85   \n",
      "1737        1737       12          111.873535        14.746125       95   \n",
      "4036        4036       19          111.524070        13.347558       67   \n",
      "1797        1797       19           86.513235        13.263589       98   \n",
      "31            31       15           89.629689        14.585290       99   \n",
      "15717       1852       18           98.957454        14.055798       75   \n",
      "7523        2524       18           94.676472        12.664727       93   \n",
      "4334        4334       12          112.142708        14.489959       81   \n",
      "9259         559       18           85.239940        14.315160       87   \n",
      "5160        1774       15          103.428511        13.478523       85   \n",
      "7996         342       16           87.950840        13.727545       97   \n",
      "2496        2496       16           96.334821        12.487760       97   \n",
      "6710         819       18           90.026855        13.964109       80   \n",
      "53            53       12          115.337066        14.089326       73   \n",
      "1412        1412       19          110.288716        12.505245       58   \n",
      "2520        2520       14           99.202604        14.968071       73   \n",
      "7359         774        8          118.597344        14.948084       77   \n",
      "6065        3779       19           65.755521        14.955006       92   \n",
      "6976         815       12          112.188338        12.771153       83   \n",
      "\n",
      "       CompositeScore  \n",
      "16580        3.787356  \n",
      "15380        3.528265  \n",
      "1737         3.450472  \n",
      "4036         3.391039  \n",
      "1797         3.338145  \n",
      "31           3.314613  \n",
      "15717        3.310443  \n",
      "7523         3.291771  \n",
      "4334         3.287259  \n",
      "9259         3.261482  \n",
      "5160         3.259689  \n",
      "7996         3.237158  \n",
      "2496         3.232905  \n",
      "6710         3.224073  \n",
      "53           3.212013  \n",
      "1412         3.198132  \n",
      "2520         3.174559  \n",
      "7359         3.174489  \n",
      "6065         3.150083  \n",
      "6976         3.136021  \n"
     ]
    },
    {
     "name": "stderr",
     "output_type": "stream",
     "text": [
      "C:\\Users\\madhu\\AppData\\Local\\Temp\\ipykernel_20596\\3181172438.py:19: SettingWithCopyWarning:\n",
      "\n",
      "\n",
      "A value is trying to be set on a copy of a slice from a DataFrame.\n",
      "Try using .loc[row_indexer,col_indexer] = value instead\n",
      "\n",
      "See the caveats in the documentation: https://pandas.pydata.org/pandas-docs/stable/user_guide/indexing.html#returning-a-view-versus-a-copy\n",
      "\n"
     ]
    }
   ],
   "source": [
    "import pandas as pd\n",
    "from sklearn.preprocessing import MinMaxScaler\n",
    "\n",
    "# Filter the DataFrame for midfielders\n",
    "midfielder_data = df[df['Position'] == 'midfielder']\n",
    "\n",
    "# Extract the relevant KPIs\n",
    "kpi_columns = ['Assists', 'PassCompletionRate', 'DistanceCovered', 'Sprints']\n",
    "kpi_data = midfielder_data[kpi_columns]\n",
    "\n",
    "# Normalize the KPIs using MinMaxScaler\n",
    "scaler = MinMaxScaler()\n",
    "normalized_kpi_data = scaler.fit_transform(kpi_data)\n",
    "\n",
    "# Create a composite score by summing the normalized KPI values\n",
    "composite_scores = normalized_kpi_data.sum(axis=1)\n",
    "\n",
    "# Add the composite scores to the midfielder_data DataFrame\n",
    "midfielder_data['CompositeScore'] = composite_scores\n",
    "\n",
    "# Drop duplicate Played_Id values, keeping the row with the highest composite score for each Played_Id\n",
    "midfielder_data_unique = midfielder_data.sort_values(by='CompositeScore', ascending=False).drop_duplicates(subset='Played_Id')\n",
    "\n",
    "# Sort the midfielders based on the composite score in descending order\n",
    "sorted_midfielder_data = midfielder_data_unique.sort_values(by='CompositeScore', ascending=False)\n",
    "\n",
    "# Select the top 20 midfielders\n",
    "top_20_midfielders = sorted_midfielder_data.head(20)\n",
    "\n",
    "# Print the top 20 Played_Id values and their composite scores\n",
    "print(\"Top 20 midfielders based on composite KPI score:\")\n",
    "print(top_20_midfielders[['Played_Id', 'CompositeScore']])\n",
    "\n",
    "# If you want to see more details, you can include the KPI columns as well\n",
    "print(top_20_midfielders[['Played_Id', 'Assists', 'PassCompletionRate', 'DistanceCovered', 'Sprints', 'CompositeScore']])\n",
    "\n"
   ]
  },
  {
   "cell_type": "code",
   "execution_count": 104,
   "metadata": {},
   "outputs": [
    {
     "data": {
      "application/vnd.plotly.v1+json": {
       "config": {
        "plotlyServerURL": "https://plot.ly"
       },
       "data": [
        {
         "marker": {
          "color": "royalblue"
         },
         "text": [
          3.7873561206380577,
          3.5282646931917196,
          3.4504719526135115,
          3.3910394196331874,
          3.3381450306981164,
          3.3146128566814212,
          3.310442563966335,
          3.291771018106443,
          3.2872585255723266,
          3.261482266187809,
          3.2596891568660844,
          3.2371575170779465,
          3.2329054719313097,
          3.22407290884688,
          3.212012580864279,
          3.198131819241932,
          3.1745588537084157,
          3.1744888439470964,
          3.150083280568406,
          3.1360212873121487
         ],
         "textposition": "outside",
         "type": "bar",
         "x": [
          3808,
          984,
          1737,
          4036,
          1797,
          31,
          1852,
          2524,
          4334,
          559,
          1774,
          342,
          2496,
          819,
          53,
          1412,
          2520,
          774,
          3779,
          815
         ],
         "y": [
          3.7873561206380577,
          3.5282646931917196,
          3.4504719526135115,
          3.3910394196331874,
          3.3381450306981164,
          3.3146128566814212,
          3.310442563966335,
          3.291771018106443,
          3.2872585255723266,
          3.261482266187809,
          3.2596891568660844,
          3.2371575170779465,
          3.2329054719313097,
          3.22407290884688,
          3.212012580864279,
          3.198131819241932,
          3.1745588537084157,
          3.1744888439470964,
          3.150083280568406,
          3.1360212873121487
         ]
        }
       ],
       "layout": {
        "showlegend": false,
        "template": {
         "data": {
          "bar": [
           {
            "error_x": {
             "color": "#2a3f5f"
            },
            "error_y": {
             "color": "#2a3f5f"
            },
            "marker": {
             "line": {
              "color": "#E5ECF6",
              "width": 0.5
             },
             "pattern": {
              "fillmode": "overlay",
              "size": 10,
              "solidity": 0.2
             }
            },
            "type": "bar"
           }
          ],
          "barpolar": [
           {
            "marker": {
             "line": {
              "color": "#E5ECF6",
              "width": 0.5
             },
             "pattern": {
              "fillmode": "overlay",
              "size": 10,
              "solidity": 0.2
             }
            },
            "type": "barpolar"
           }
          ],
          "carpet": [
           {
            "aaxis": {
             "endlinecolor": "#2a3f5f",
             "gridcolor": "white",
             "linecolor": "white",
             "minorgridcolor": "white",
             "startlinecolor": "#2a3f5f"
            },
            "baxis": {
             "endlinecolor": "#2a3f5f",
             "gridcolor": "white",
             "linecolor": "white",
             "minorgridcolor": "white",
             "startlinecolor": "#2a3f5f"
            },
            "type": "carpet"
           }
          ],
          "choropleth": [
           {
            "colorbar": {
             "outlinewidth": 0,
             "ticks": ""
            },
            "type": "choropleth"
           }
          ],
          "contour": [
           {
            "colorbar": {
             "outlinewidth": 0,
             "ticks": ""
            },
            "colorscale": [
             [
              0,
              "#0d0887"
             ],
             [
              0.1111111111111111,
              "#46039f"
             ],
             [
              0.2222222222222222,
              "#7201a8"
             ],
             [
              0.3333333333333333,
              "#9c179e"
             ],
             [
              0.4444444444444444,
              "#bd3786"
             ],
             [
              0.5555555555555556,
              "#d8576b"
             ],
             [
              0.6666666666666666,
              "#ed7953"
             ],
             [
              0.7777777777777778,
              "#fb9f3a"
             ],
             [
              0.8888888888888888,
              "#fdca26"
             ],
             [
              1,
              "#f0f921"
             ]
            ],
            "type": "contour"
           }
          ],
          "contourcarpet": [
           {
            "colorbar": {
             "outlinewidth": 0,
             "ticks": ""
            },
            "type": "contourcarpet"
           }
          ],
          "heatmap": [
           {
            "colorbar": {
             "outlinewidth": 0,
             "ticks": ""
            },
            "colorscale": [
             [
              0,
              "#0d0887"
             ],
             [
              0.1111111111111111,
              "#46039f"
             ],
             [
              0.2222222222222222,
              "#7201a8"
             ],
             [
              0.3333333333333333,
              "#9c179e"
             ],
             [
              0.4444444444444444,
              "#bd3786"
             ],
             [
              0.5555555555555556,
              "#d8576b"
             ],
             [
              0.6666666666666666,
              "#ed7953"
             ],
             [
              0.7777777777777778,
              "#fb9f3a"
             ],
             [
              0.8888888888888888,
              "#fdca26"
             ],
             [
              1,
              "#f0f921"
             ]
            ],
            "type": "heatmap"
           }
          ],
          "heatmapgl": [
           {
            "colorbar": {
             "outlinewidth": 0,
             "ticks": ""
            },
            "colorscale": [
             [
              0,
              "#0d0887"
             ],
             [
              0.1111111111111111,
              "#46039f"
             ],
             [
              0.2222222222222222,
              "#7201a8"
             ],
             [
              0.3333333333333333,
              "#9c179e"
             ],
             [
              0.4444444444444444,
              "#bd3786"
             ],
             [
              0.5555555555555556,
              "#d8576b"
             ],
             [
              0.6666666666666666,
              "#ed7953"
             ],
             [
              0.7777777777777778,
              "#fb9f3a"
             ],
             [
              0.8888888888888888,
              "#fdca26"
             ],
             [
              1,
              "#f0f921"
             ]
            ],
            "type": "heatmapgl"
           }
          ],
          "histogram": [
           {
            "marker": {
             "pattern": {
              "fillmode": "overlay",
              "size": 10,
              "solidity": 0.2
             }
            },
            "type": "histogram"
           }
          ],
          "histogram2d": [
           {
            "colorbar": {
             "outlinewidth": 0,
             "ticks": ""
            },
            "colorscale": [
             [
              0,
              "#0d0887"
             ],
             [
              0.1111111111111111,
              "#46039f"
             ],
             [
              0.2222222222222222,
              "#7201a8"
             ],
             [
              0.3333333333333333,
              "#9c179e"
             ],
             [
              0.4444444444444444,
              "#bd3786"
             ],
             [
              0.5555555555555556,
              "#d8576b"
             ],
             [
              0.6666666666666666,
              "#ed7953"
             ],
             [
              0.7777777777777778,
              "#fb9f3a"
             ],
             [
              0.8888888888888888,
              "#fdca26"
             ],
             [
              1,
              "#f0f921"
             ]
            ],
            "type": "histogram2d"
           }
          ],
          "histogram2dcontour": [
           {
            "colorbar": {
             "outlinewidth": 0,
             "ticks": ""
            },
            "colorscale": [
             [
              0,
              "#0d0887"
             ],
             [
              0.1111111111111111,
              "#46039f"
             ],
             [
              0.2222222222222222,
              "#7201a8"
             ],
             [
              0.3333333333333333,
              "#9c179e"
             ],
             [
              0.4444444444444444,
              "#bd3786"
             ],
             [
              0.5555555555555556,
              "#d8576b"
             ],
             [
              0.6666666666666666,
              "#ed7953"
             ],
             [
              0.7777777777777778,
              "#fb9f3a"
             ],
             [
              0.8888888888888888,
              "#fdca26"
             ],
             [
              1,
              "#f0f921"
             ]
            ],
            "type": "histogram2dcontour"
           }
          ],
          "mesh3d": [
           {
            "colorbar": {
             "outlinewidth": 0,
             "ticks": ""
            },
            "type": "mesh3d"
           }
          ],
          "parcoords": [
           {
            "line": {
             "colorbar": {
              "outlinewidth": 0,
              "ticks": ""
             }
            },
            "type": "parcoords"
           }
          ],
          "pie": [
           {
            "automargin": true,
            "type": "pie"
           }
          ],
          "scatter": [
           {
            "fillpattern": {
             "fillmode": "overlay",
             "size": 10,
             "solidity": 0.2
            },
            "type": "scatter"
           }
          ],
          "scatter3d": [
           {
            "line": {
             "colorbar": {
              "outlinewidth": 0,
              "ticks": ""
             }
            },
            "marker": {
             "colorbar": {
              "outlinewidth": 0,
              "ticks": ""
             }
            },
            "type": "scatter3d"
           }
          ],
          "scattercarpet": [
           {
            "marker": {
             "colorbar": {
              "outlinewidth": 0,
              "ticks": ""
             }
            },
            "type": "scattercarpet"
           }
          ],
          "scattergeo": [
           {
            "marker": {
             "colorbar": {
              "outlinewidth": 0,
              "ticks": ""
             }
            },
            "type": "scattergeo"
           }
          ],
          "scattergl": [
           {
            "marker": {
             "colorbar": {
              "outlinewidth": 0,
              "ticks": ""
             }
            },
            "type": "scattergl"
           }
          ],
          "scattermapbox": [
           {
            "marker": {
             "colorbar": {
              "outlinewidth": 0,
              "ticks": ""
             }
            },
            "type": "scattermapbox"
           }
          ],
          "scatterpolar": [
           {
            "marker": {
             "colorbar": {
              "outlinewidth": 0,
              "ticks": ""
             }
            },
            "type": "scatterpolar"
           }
          ],
          "scatterpolargl": [
           {
            "marker": {
             "colorbar": {
              "outlinewidth": 0,
              "ticks": ""
             }
            },
            "type": "scatterpolargl"
           }
          ],
          "scatterternary": [
           {
            "marker": {
             "colorbar": {
              "outlinewidth": 0,
              "ticks": ""
             }
            },
            "type": "scatterternary"
           }
          ],
          "surface": [
           {
            "colorbar": {
             "outlinewidth": 0,
             "ticks": ""
            },
            "colorscale": [
             [
              0,
              "#0d0887"
             ],
             [
              0.1111111111111111,
              "#46039f"
             ],
             [
              0.2222222222222222,
              "#7201a8"
             ],
             [
              0.3333333333333333,
              "#9c179e"
             ],
             [
              0.4444444444444444,
              "#bd3786"
             ],
             [
              0.5555555555555556,
              "#d8576b"
             ],
             [
              0.6666666666666666,
              "#ed7953"
             ],
             [
              0.7777777777777778,
              "#fb9f3a"
             ],
             [
              0.8888888888888888,
              "#fdca26"
             ],
             [
              1,
              "#f0f921"
             ]
            ],
            "type": "surface"
           }
          ],
          "table": [
           {
            "cells": {
             "fill": {
              "color": "#EBF0F8"
             },
             "line": {
              "color": "white"
             }
            },
            "header": {
             "fill": {
              "color": "#C8D4E3"
             },
             "line": {
              "color": "white"
             }
            },
            "type": "table"
           }
          ]
         },
         "layout": {
          "annotationdefaults": {
           "arrowcolor": "#2a3f5f",
           "arrowhead": 0,
           "arrowwidth": 1
          },
          "autotypenumbers": "strict",
          "coloraxis": {
           "colorbar": {
            "outlinewidth": 0,
            "ticks": ""
           }
          },
          "colorscale": {
           "diverging": [
            [
             0,
             "#8e0152"
            ],
            [
             0.1,
             "#c51b7d"
            ],
            [
             0.2,
             "#de77ae"
            ],
            [
             0.3,
             "#f1b6da"
            ],
            [
             0.4,
             "#fde0ef"
            ],
            [
             0.5,
             "#f7f7f7"
            ],
            [
             0.6,
             "#e6f5d0"
            ],
            [
             0.7,
             "#b8e186"
            ],
            [
             0.8,
             "#7fbc41"
            ],
            [
             0.9,
             "#4d9221"
            ],
            [
             1,
             "#276419"
            ]
           ],
           "sequential": [
            [
             0,
             "#0d0887"
            ],
            [
             0.1111111111111111,
             "#46039f"
            ],
            [
             0.2222222222222222,
             "#7201a8"
            ],
            [
             0.3333333333333333,
             "#9c179e"
            ],
            [
             0.4444444444444444,
             "#bd3786"
            ],
            [
             0.5555555555555556,
             "#d8576b"
            ],
            [
             0.6666666666666666,
             "#ed7953"
            ],
            [
             0.7777777777777778,
             "#fb9f3a"
            ],
            [
             0.8888888888888888,
             "#fdca26"
            ],
            [
             1,
             "#f0f921"
            ]
           ],
           "sequentialminus": [
            [
             0,
             "#0d0887"
            ],
            [
             0.1111111111111111,
             "#46039f"
            ],
            [
             0.2222222222222222,
             "#7201a8"
            ],
            [
             0.3333333333333333,
             "#9c179e"
            ],
            [
             0.4444444444444444,
             "#bd3786"
            ],
            [
             0.5555555555555556,
             "#d8576b"
            ],
            [
             0.6666666666666666,
             "#ed7953"
            ],
            [
             0.7777777777777778,
             "#fb9f3a"
            ],
            [
             0.8888888888888888,
             "#fdca26"
            ],
            [
             1,
             "#f0f921"
            ]
           ]
          },
          "colorway": [
           "#636efa",
           "#EF553B",
           "#00cc96",
           "#ab63fa",
           "#FFA15A",
           "#19d3f3",
           "#FF6692",
           "#B6E880",
           "#FF97FF",
           "#FECB52"
          ],
          "font": {
           "color": "#2a3f5f"
          },
          "geo": {
           "bgcolor": "white",
           "lakecolor": "white",
           "landcolor": "#E5ECF6",
           "showlakes": true,
           "showland": true,
           "subunitcolor": "white"
          },
          "hoverlabel": {
           "align": "left"
          },
          "hovermode": "closest",
          "mapbox": {
           "style": "light"
          },
          "paper_bgcolor": "white",
          "plot_bgcolor": "#E5ECF6",
          "polar": {
           "angularaxis": {
            "gridcolor": "white",
            "linecolor": "white",
            "ticks": ""
           },
           "bgcolor": "#E5ECF6",
           "radialaxis": {
            "gridcolor": "white",
            "linecolor": "white",
            "ticks": ""
           }
          },
          "scene": {
           "xaxis": {
            "backgroundcolor": "#E5ECF6",
            "gridcolor": "white",
            "gridwidth": 2,
            "linecolor": "white",
            "showbackground": true,
            "ticks": "",
            "zerolinecolor": "white"
           },
           "yaxis": {
            "backgroundcolor": "#E5ECF6",
            "gridcolor": "white",
            "gridwidth": 2,
            "linecolor": "white",
            "showbackground": true,
            "ticks": "",
            "zerolinecolor": "white"
           },
           "zaxis": {
            "backgroundcolor": "#E5ECF6",
            "gridcolor": "white",
            "gridwidth": 2,
            "linecolor": "white",
            "showbackground": true,
            "ticks": "",
            "zerolinecolor": "white"
           }
          },
          "shapedefaults": {
           "line": {
            "color": "#2a3f5f"
           }
          },
          "ternary": {
           "aaxis": {
            "gridcolor": "white",
            "linecolor": "white",
            "ticks": ""
           },
           "baxis": {
            "gridcolor": "white",
            "linecolor": "white",
            "ticks": ""
           },
           "bgcolor": "#E5ECF6",
           "caxis": {
            "gridcolor": "white",
            "linecolor": "white",
            "ticks": ""
           }
          },
          "title": {
           "x": 0.05
          },
          "xaxis": {
           "automargin": true,
           "gridcolor": "white",
           "linecolor": "white",
           "ticks": "",
           "title": {
            "standoff": 15
           },
           "zerolinecolor": "white",
           "zerolinewidth": 2
          },
          "yaxis": {
           "automargin": true,
           "gridcolor": "white",
           "linecolor": "white",
           "ticks": "",
           "title": {
            "standoff": 15
           },
           "zerolinecolor": "white",
           "zerolinewidth": 2
          }
         }
        },
        "title": {
         "text": "Top 20 Midfielders Based on Composite Score"
        },
        "xaxis": {
         "title": {
          "text": "Played_Id"
         }
        },
        "yaxis": {
         "title": {
          "text": "Composite Score"
         }
        }
       }
      }
     },
     "metadata": {},
     "output_type": "display_data"
    }
   ],
   "source": [
    "import plotly.graph_objects as go\n",
    "\n",
    "# Create a bar plot for the top 20 midfielders\n",
    "fig = go.Figure()\n",
    "\n",
    "# Add trace for bar chart\n",
    "fig.add_trace(go.Bar(\n",
    "    x=top_20_midfielders['Played_Id'],\n",
    "    y=top_20_midfielders['CompositeScore'],\n",
    "    text=top_20_midfielders['CompositeScore'],\n",
    "    textposition='outside',\n",
    "    marker_color='royalblue',\n",
    "))\n",
    "\n",
    "# Update layout\n",
    "fig.update_layout(\n",
    "    title='Top 20 Midfielders Based on Composite Score',\n",
    "    xaxis=dict(title='Played_Id'),\n",
    "    yaxis=dict(title='Composite Score'),\n",
    "    showlegend=False\n",
    ")\n",
    "\n",
    "# Show the plot\n",
    "fig.show()\n"
   ]
  },
  {
   "cell_type": "markdown",
   "metadata": {},
   "source": [
    "# Defender Focused"
   ]
  },
  {
   "cell_type": "markdown",
   "metadata": {},
   "source": [
    "\n",
    "\n",
    "- TacklesWon\n",
    "\n",
    "- Assists\n",
    "\n",
    "- YellowCards\n",
    "\n",
    "- RedCards"
   ]
  },
  {
   "cell_type": "markdown",
   "metadata": {},
   "source": [
    "## Tackles Won"
   ]
  },
  {
   "cell_type": "markdown",
   "metadata": {},
   "source": [
    "### Highest-Top 20 played_Id's in Tackles Won"
   ]
  },
  {
   "cell_type": "code",
   "execution_count": 105,
   "metadata": {},
   "outputs": [
    {
     "name": "stdout",
     "output_type": "stream",
     "text": [
      "Top 20 Defenders based on TacklesWon:\n",
      "       Played_Id  TacklesWon\n",
      "2534        2534          29\n",
      "14422       4066          29\n",
      "15390       4211          29\n",
      "11433       4134          29\n",
      "11431       4820          29\n",
      "1472        1472          29\n",
      "1473        1473          29\n",
      "12432       1508          29\n",
      "4490        4490          29\n",
      "985          985          29\n",
      "13289       2742          29\n",
      "307          307          29\n",
      "5498        4098          29\n",
      "3762        3762          29\n",
      "15527        502          29\n",
      "7125        2296          29\n",
      "14397        718          29\n",
      "13318       4799          29\n",
      "2305        2305          29\n",
      "1593        1593          29\n"
     ]
    }
   ],
   "source": [
    "defender_data = df[df['Position'] == 'defender']\n",
    "top_defenders = defender_data.sort_values(by='TacklesWon', ascending=False).drop_duplicates(subset='Played_Id').head(20)\n",
    "print(\"Top 20 Defenders based on TacklesWon:\")\n",
    "print(top_defenders[['Played_Id', 'TacklesWon']])\n"
   ]
  },
  {
   "cell_type": "markdown",
   "metadata": {},
   "source": [
    "### Bottom 20 for TacklesWon"
   ]
  },
  {
   "cell_type": "code",
   "execution_count": 106,
   "metadata": {},
   "outputs": [
    {
     "name": "stdout",
     "output_type": "stream",
     "text": [
      "Bottom 20 Defenders based on TacklesWon:\n",
      "      Played_Id  TacklesWon\n",
      "6615        750           0\n",
      "8477       3297           0\n",
      "4474       4474           0\n",
      "8445       1357           0\n",
      "4503       4503           0\n",
      "4631       4631           0\n",
      "8387       2490           0\n",
      "4695       4695           0\n",
      "4241       4241           0\n",
      "4704       4704           0\n",
      "4798       4798           0\n",
      "8216       3726           0\n",
      "4810       4810           0\n",
      "8191       3683           0\n",
      "4838       4838           0\n",
      "8104       1439           0\n",
      "7964       1151           0\n",
      "456         456           0\n",
      "4178       4178           0\n",
      "9543       1608           0\n"
     ]
    }
   ],
   "source": [
    "defender_data = df[df['Position'] == 'defender']\n",
    "bottom_defenders_tackles_won = defender_data.sort_values(by='TacklesWon', ascending=True).drop_duplicates(subset='Played_Id').head(20)\n",
    "print(\"Bottom 20 Defenders based on TacklesWon:\")\n",
    "print(bottom_defenders_tackles_won[['Played_Id', 'TacklesWon']])\n"
   ]
  },
  {
   "cell_type": "markdown",
   "metadata": {},
   "source": [
    "## Assists Analysis"
   ]
  },
  {
   "cell_type": "markdown",
   "metadata": {},
   "source": [
    "### Highest -Top 20 Defenders based on Assists"
   ]
  },
  {
   "cell_type": "code",
   "execution_count": 107,
   "metadata": {},
   "outputs": [
    {
     "name": "stdout",
     "output_type": "stream",
     "text": [
      "Top 20 Defenders based on Assists:\n",
      "       Played_Id  Assists\n",
      "982          982       19\n",
      "11202       3667       19\n",
      "9749        2596       19\n",
      "5021        3244       19\n",
      "10949       4119       19\n",
      "783          783       19\n",
      "779          779       19\n",
      "2486        2486       19\n",
      "5070        1244       19\n",
      "13734       1599       19\n",
      "10831        898       19\n",
      "7164        4908       19\n",
      "478          478       19\n",
      "7154         812       19\n",
      "15913       1928       19\n",
      "14717        634       19\n",
      "14768       3619       19\n",
      "1357        1357       19\n",
      "13438       1860       19\n",
      "11161       4970       19\n"
     ]
    }
   ],
   "source": [
    "defender_data = df[df['Position'] == 'defender']\n",
    "top_defenders_assists = defender_data.sort_values(by='Assists', ascending=False).drop_duplicates(subset='Played_Id').head(20)\n",
    "print(\"Top 20 Defenders based on Assists:\")\n",
    "print(top_defenders_assists[['Played_Id', 'Assists']])\n"
   ]
  },
  {
   "cell_type": "markdown",
   "metadata": {},
   "source": [
    "### Bottom 20- Defenders with Assists"
   ]
  },
  {
   "cell_type": "code",
   "execution_count": 108,
   "metadata": {},
   "outputs": [
    {
     "name": "stdout",
     "output_type": "stream",
     "text": [
      "Bottom 20 Defenders based on Assists:\n",
      "       Played_Id  Assists\n",
      "4357        4357        0\n",
      "5671        2458        0\n",
      "5613        1705        0\n",
      "15766        139        0\n",
      "11491        986        0\n",
      "5508         747        0\n",
      "5490        1143        0\n",
      "11566       1614        0\n",
      "5449         520        0\n",
      "15731        744        0\n",
      "11622       1894        0\n",
      "11676       2152        0\n",
      "11688        292        0\n",
      "15807       2928        0\n",
      "15691       4063        0\n",
      "11792       1997        0\n",
      "15674        657        0\n",
      "11855       2752        0\n",
      "4899        4899        0\n",
      "12119       4304        0\n"
     ]
    }
   ],
   "source": [
    "# Filter the DataFrame for players with Position as 'defender'\n",
    "defender_data = df[df['Position'] == 'defender']\n",
    "\n",
    "# Sort the data based on Assists in ascending order and drop duplicates of Played_Id\n",
    "bottom_defenders_assists = defender_data.sort_values(by='Assists', ascending=True).drop_duplicates(subset='Played_Id').head(20)\n",
    "\n",
    "# Display the bottom 20 defenders based on Assists\n",
    "print(\"Bottom 20 Defenders based on Assists:\")\n",
    "print(bottom_defenders_assists[['Played_Id', 'Assists']])\n"
   ]
  },
  {
   "cell_type": "markdown",
   "metadata": {},
   "source": [
    "### Bottom 20 Defenders based on YellowCards(preferred)"
   ]
  },
  {
   "cell_type": "code",
   "execution_count": 109,
   "metadata": {},
   "outputs": [
    {
     "name": "stdout",
     "output_type": "stream",
     "text": [
      "Played_Id's with YellowCards equal to 0 (with one occurrence):\n",
      " Played_Id  YellowCards\n",
      "        40            0\n",
      "       109            0\n",
      "       225            0\n",
      "       259            0\n",
      "       290            0\n",
      "       307            0\n",
      "       353            0\n",
      "       543            0\n",
      "       567            0\n",
      "       606            0\n",
      "       620            0\n",
      "       636            0\n",
      "       675            0\n",
      "       712            0\n",
      "       719            0\n",
      "       825            0\n",
      "       904            0\n",
      "       909            0\n",
      "       992            0\n",
      "      1007            0\n",
      "      1147            0\n",
      "      1191            0\n",
      "      1200            0\n",
      "      1220            0\n",
      "      1233            0\n",
      "      1234            0\n",
      "      1261            0\n",
      "      1336            0\n",
      "      1366            0\n",
      "      1423            0\n",
      "      1432            0\n",
      "      1439            0\n",
      "      1440            0\n",
      "      1456            0\n",
      "      1460            0\n",
      "      1485            0\n",
      "      1498            0\n",
      "      1573            0\n",
      "      1593            0\n",
      "      1599            0\n",
      "      1651            0\n",
      "      1655            0\n",
      "      1731            0\n",
      "      1732            0\n",
      "      1835            0\n",
      "      1878            0\n",
      "      2003            0\n",
      "      2007            0\n",
      "      2055            0\n",
      "      2079            0\n",
      "      2084            0\n",
      "      2086            0\n",
      "      2088            0\n",
      "      2093            0\n",
      "      2130            0\n",
      "      2199            0\n",
      "      2213            0\n",
      "      2310            0\n",
      "      2570            0\n",
      "      2575            0\n",
      "      2596            0\n",
      "      2615            0\n",
      "      2623            0\n",
      "      2629            0\n",
      "      2700            0\n",
      "      2712            0\n",
      "      2775            0\n",
      "      2777            0\n",
      "      2894            0\n",
      "      2922            0\n",
      "      2967            0\n",
      "      2976            0\n",
      "      3044            0\n",
      "      3102            0\n",
      "      3127            0\n",
      "      3136            0\n",
      "      3138            0\n",
      "      3142            0\n",
      "      3155            0\n",
      "      3262            0\n",
      "      3269            0\n",
      "      3343            0\n",
      "      3364            0\n",
      "      3370            0\n",
      "      3504            0\n",
      "      3506            0\n",
      "      3599            0\n",
      "      3635            0\n",
      "      3640            0\n",
      "      3702            0\n",
      "      3736            0\n",
      "      3753            0\n",
      "      3789            0\n",
      "      3814            0\n",
      "      3817            0\n",
      "      3991            0\n",
      "      4040            0\n",
      "      4066            0\n",
      "      4093            0\n",
      "      4100            0\n",
      "      4134            0\n",
      "      4150            0\n",
      "      4178            0\n",
      "      4191            0\n",
      "      4196            0\n",
      "      4217            0\n",
      "      4304            0\n",
      "      4359            0\n",
      "      4446            0\n",
      "      4475            0\n",
      "      4482            0\n",
      "      4561            0\n",
      "      4602            0\n",
      "      4690            0\n",
      "      4692            0\n",
      "      4693            0\n",
      "      4868            0\n",
      "      4879            0\n",
      "      4899            0\n",
      "      4909            0\n"
     ]
    }
   ],
   "source": [
    "defender_data = df[df['Position'] == 'defender']\n",
    "\n",
    "# Filter the DataFrame for players with YellowCards equal to 0\n",
    "yellow_cards_zero = defender_data[defender_data['YellowCards'] == 0]\n",
    "yellow_cards_zero_unique = yellow_cards_zero.drop_duplicates(subset='Played_Id')\n",
    "print(\"Played_Id's with YellowCards equal to 0 (with one occurrence):\")\n",
    "pd.set_option('display.max_rows', None) #to show all rows\n",
    "print(yellow_cards_zero_unique[['Played_Id', 'YellowCards']].to_string(index=False))\n",
    "pd.reset_option('display.max_rows')\n",
    "\n",
    "\n"
   ]
  },
  {
   "cell_type": "markdown",
   "metadata": {},
   "source": [
    "### Top 20 with highest YellowCards"
   ]
  },
  {
   "cell_type": "code",
   "execution_count": 110,
   "metadata": {},
   "outputs": [
    {
     "name": "stdout",
     "output_type": "stream",
     "text": [
      "Top 20 Defenders based on YellowCards:\n",
      "       Played_Id  YellowCards\n",
      "3964        3964            9\n",
      "14908       1641            9\n",
      "6372         127            9\n",
      "4998        4998            9\n",
      "9418        4503            9\n",
      "6401         356            9\n",
      "9398         193            9\n",
      "6409        4190            9\n",
      "6410        4711            9\n",
      "14967       4336            9\n",
      "13326       4472            9\n",
      "11193       4626            9\n",
      "2918        2918            9\n",
      "9370        3623            9\n",
      "14991       2925            9\n",
      "9356        1393            9\n",
      "6452        1090            9\n",
      "9348        4233            9\n",
      "9326        4357            9\n",
      "9325        2356            9\n"
     ]
    }
   ],
   "source": [
    "defender_data = df[df['Position'] == 'defender']\n",
    "top_defenders_yellow_cards = defender_data.sort_values(by='YellowCards', ascending=False).drop_duplicates(subset='Played_Id').head(20)\n",
    "print(\"Top 20 Defenders based on YellowCards:\")\n",
    "print(top_defenders_yellow_cards[['Played_Id', 'YellowCards']])"
   ]
  },
  {
   "cell_type": "markdown",
   "metadata": {},
   "source": [
    "### Bottom 20 with 0 RedCards"
   ]
  },
  {
   "cell_type": "code",
   "execution_count": 111,
   "metadata": {},
   "outputs": [
    {
     "name": "stdout",
     "output_type": "stream",
     "text": [
      "Played_Id's with YellowCards equal to 0 (with one occurrence):\n",
      " Played_Id  RedCards\n",
      "         2         0\n",
      "        20         0\n",
      "        22         0\n",
      "        41         0\n",
      "        64         0\n",
      "        76         0\n",
      "       127         0\n",
      "       141         0\n",
      "       143         0\n",
      "       145         0\n",
      "       205         0\n",
      "       212         0\n",
      "       234         0\n",
      "       260         0\n",
      "       314         0\n",
      "       319         0\n",
      "       341         0\n",
      "       348         0\n",
      "       382         0\n",
      "       389         0\n",
      "       416         0\n",
      "       420         0\n",
      "       435         0\n",
      "       438         0\n",
      "       439         0\n",
      "       468         0\n",
      "       474         0\n",
      "       534         0\n",
      "       573         0\n",
      "       581         0\n",
      "       591         0\n",
      "       594         0\n",
      "       601         0\n",
      "       609         0\n",
      "       619         0\n",
      "       621         0\n",
      "       630         0\n",
      "       636         0\n",
      "       638         0\n",
      "       648         0\n",
      "       657         0\n",
      "       661         0\n",
      "       672         0\n",
      "       675         0\n",
      "       731         0\n",
      "       766         0\n",
      "       783         0\n",
      "       821         0\n",
      "       825         0\n",
      "       868         0\n",
      "       902         0\n",
      "       923         0\n",
      "       938         0\n",
      "       943         0\n",
      "       972         0\n",
      "       975         0\n",
      "       985         0\n",
      "      1007         0\n",
      "      1035         0\n",
      "      1036         0\n",
      "      1057         0\n",
      "      1068         0\n",
      "      1073         0\n",
      "      1075         0\n",
      "      1089         0\n",
      "      1136         0\n",
      "      1143         0\n",
      "      1151         0\n",
      "      1200         0\n",
      "      1207         0\n",
      "      1221         0\n",
      "      1244         0\n",
      "      1276         0\n",
      "      1290         0\n",
      "      1303         0\n",
      "      1304         0\n",
      "      1335         0\n",
      "      1378         0\n",
      "      1391         0\n",
      "      1393         0\n",
      "      1400         0\n",
      "      1413         0\n",
      "      1442         0\n",
      "      1459         0\n",
      "      1462         0\n",
      "      1608         0\n",
      "      1614         0\n",
      "      1641         0\n",
      "      1655         0\n",
      "      1669         0\n",
      "      1670         0\n",
      "      1671         0\n",
      "      1678         0\n",
      "      1690         0\n",
      "      1704         0\n",
      "      1732         0\n",
      "      1740         0\n",
      "      1781         0\n",
      "      1805         0\n",
      "      1813         0\n",
      "      1823         0\n",
      "      1878         0\n",
      "      1879         0\n",
      "      1894         0\n",
      "      1909         0\n",
      "      1923         0\n",
      "      1928         0\n",
      "      1949         0\n",
      "      1995         0\n",
      "      2030         0\n",
      "      2079         0\n",
      "      2081         0\n",
      "      2084         0\n",
      "      2088         0\n",
      "      2090         0\n",
      "      2139         0\n",
      "      2154         0\n",
      "      2279         0\n",
      "      2281         0\n",
      "      2305         0\n",
      "      2306         0\n",
      "      2331         0\n",
      "      2337         0\n",
      "      2356         0\n",
      "      2373         0\n",
      "      2440         0\n",
      "      2456         0\n",
      "      2486         0\n",
      "      2488         0\n",
      "      2498         0\n",
      "      2528         0\n",
      "      2555         0\n",
      "      2623         0\n",
      "      2628         0\n",
      "      2700         0\n",
      "      2704         0\n",
      "      2712         0\n",
      "      2714         0\n",
      "      2818         0\n",
      "      2838         0\n",
      "      2849         0\n",
      "      2861         0\n",
      "      2922         0\n",
      "      2961         0\n",
      "      2996         0\n",
      "      3005         0\n",
      "      3008         0\n",
      "      3041         0\n",
      "      3057         0\n",
      "      3107         0\n",
      "      3117         0\n",
      "      3120         0\n",
      "      3138         0\n",
      "      3229         0\n",
      "      3232         0\n",
      "      3234         0\n",
      "      3254         0\n",
      "      3281         0\n",
      "      3284         0\n",
      "      3300         0\n",
      "      3327         0\n",
      "      3337         0\n",
      "      3351         0\n",
      "      3353         0\n",
      "      3404         0\n",
      "      3420         0\n",
      "      3427         0\n",
      "      3431         0\n",
      "      3456         0\n",
      "      3475         0\n",
      "      3504         0\n",
      "      3508         0\n",
      "      3516         0\n",
      "      3520         0\n",
      "      3524         0\n",
      "      3529         0\n",
      "      3554         0\n",
      "      3665         0\n",
      "      3694         0\n",
      "      3696         0\n",
      "      3723         0\n",
      "      3736         0\n",
      "      3789         0\n",
      "      3791         0\n",
      "      3802         0\n",
      "      3847         0\n",
      "      3894         0\n",
      "      3915         0\n",
      "      3944         0\n",
      "      3954         0\n",
      "      3962         0\n",
      "      3986         0\n",
      "      4008         0\n",
      "      4010         0\n",
      "      4062         0\n",
      "      4076         0\n",
      "      4100         0\n",
      "      4175         0\n",
      "      4211         0\n",
      "      4213         0\n",
      "      4233         0\n",
      "      4264         0\n",
      "      4328         0\n",
      "      4351         0\n",
      "      4359         0\n",
      "      4382         0\n",
      "      4418         0\n",
      "      4430         0\n",
      "      4461         0\n",
      "      4483         0\n",
      "      4490         0\n",
      "      4503         0\n",
      "      4510         0\n",
      "      4538         0\n",
      "      4578         0\n",
      "      4626         0\n",
      "      4642         0\n",
      "      4657         0\n",
      "      4660         0\n",
      "      4710         0\n",
      "      4736         0\n",
      "      4798         0\n",
      "      4803         0\n",
      "      4817         0\n",
      "      4820         0\n",
      "      4826         0\n",
      "      4848         0\n",
      "      4868         0\n",
      "      4872         0\n",
      "      4899         0\n",
      "      4910         0\n",
      "      4945         0\n",
      "      4966         0\n",
      "      4972         0\n",
      "      4983         0\n"
     ]
    }
   ],
   "source": [
    "defender_data = df[df['Position'] == 'defender']\n",
    "\n",
    "# Filter the DataFrame for players with YellowCards equal to 0\n",
    "Red_cards_zero = defender_data[defender_data['RedCards'] == 0]\n",
    "Red_cards_zero_unique = Red_cards_zero.drop_duplicates(subset='Played_Id')\n",
    "print(\"Played_Id's with YellowCards equal to 0 (with one occurrence):\")\n",
    "pd.set_option('display.max_rows', None) #to show all rows\n",
    "print(Red_cards_zero_unique[['Played_Id', 'RedCards']].to_string(index=False))\n",
    "pd.reset_option('display.max_rows')\n",
    "\n"
   ]
  },
  {
   "cell_type": "markdown",
   "metadata": {},
   "source": [
    "### Top 20 with highest RedCards"
   ]
  },
  {
   "cell_type": "code",
   "execution_count": 112,
   "metadata": {},
   "outputs": [
    {
     "name": "stdout",
     "output_type": "stream",
     "text": [
      "Top 20 Defenders based on RedCards:\n",
      "       Played_Id  RedCards\n",
      "8272         748         4\n",
      "10185       1581         4\n",
      "2975        2975         4\n",
      "10354        961         4\n",
      "10342       4618         4\n",
      "10309        290         4\n",
      "10305        490         4\n",
      "10285       4241         4\n",
      "3032        3032         4\n",
      "10275       4243         4\n",
      "3051        3051         4\n",
      "10230       1449         4\n",
      "10224       2537         4\n",
      "3062        3062         4\n",
      "10194       2477         4\n",
      "3097        3097         4\n",
      "10175        796         4\n",
      "10151       1643         4\n",
      "10112        255         4\n",
      "3136        3136         4\n"
     ]
    }
   ],
   "source": [
    "defender_data = df[df['Position'] == 'defender']\n",
    "top_defenders_red_cards = defender_data.sort_values(by='RedCards', ascending=False).drop_duplicates(subset='Played_Id').head(20)\n",
    "print(\"Top 20 Defenders based on RedCards:\")\n",
    "print(top_defenders_red_cards[['Played_Id', 'RedCards']])\n"
   ]
  },
  {
   "cell_type": "code",
   "execution_count": 113,
   "metadata": {},
   "outputs": [
    {
     "name": "stdout",
     "output_type": "stream",
     "text": [
      "Played_Id: 718, Composite Score: 20.200\n",
      "Played_Id: 985, Composite Score: 19.500\n",
      "Played_Id: 4820, Composite Score: 19.300\n",
      "Played_Id: 4490, Composite Score: 19.100\n",
      "Played_Id: 1508, Composite Score: 19.000\n",
      "Played_Id: 502, Composite Score: 18.800\n",
      "Played_Id: 1473, Composite Score: 18.400\n",
      "Played_Id: 1472, Composite Score: 18.200\n",
      "Played_Id: 4211, Composite Score: 17.900\n",
      "Played_Id: 2534, Composite Score: 17.700\n",
      "Played_Id: 4134, Composite Score: 17.700\n",
      "Played_Id: 2296, Composite Score: 17.700\n",
      "Played_Id: 1593, Composite Score: 17.300\n",
      "Played_Id: 4066, Composite Score: 17.200\n",
      "Played_Id: 2742, Composite Score: 17.000\n",
      "Played_Id: 307, Composite Score: 16.900\n",
      "Played_Id: 3762, Composite Score: 16.400\n",
      "Played_Id: 4098, Composite Score: 16.000\n",
      "Played_Id: 2305, Composite Score: 15.900\n",
      "Played_Id: 4799, Composite Score: 15.600\n"
     ]
    }
   ],
   "source": [
    "# Calculate the composite score\n",
    "defender_scores = {}\n",
    "\n",
    "# Assign weights to each KPI\n",
    "weights = {'TacklesWon': 0.5, 'Assists': 0.3, 'YellowCards': 0.1, 'RedCards': 0.1}\n",
    "\n",
    "# Iterate through each defender\n",
    "for index, row in top_defenders.iterrows():\n",
    "    played_id = row['Played_Id']\n",
    "    \n",
    "    # Calculate the composite score for the defender\n",
    "    score = (\n",
    "        row['TacklesWon'] * weights['TacklesWon'] +\n",
    "        row['Assists'] * weights['Assists'] +\n",
    "        row['YellowCards'] * weights['YellowCards'] +\n",
    "        row['RedCards'] * weights['RedCards']\n",
    "    )\n",
    "    \n",
    "    # Store the composite score for the defender\n",
    "    defender_scores[played_id] = score\n",
    "\n",
    "# Sort the defenders based on their composite scores\n",
    "sorted_defenders = sorted(defender_scores.items(), key=lambda x: x[1], reverse=True)\n",
    "\n",
    "# Select the top 20 defenders based on their composite scores\n",
    "top_20_defenders = sorted_defenders[:20]\n",
    "\n",
    "for played_id, score in top_20_defenders:\n",
    "    print(f\"Played_Id: {played_id}, Composite Score: {score:.3f}\")\n"
   ]
  },
  {
   "cell_type": "code",
   "execution_count": 114,
   "metadata": {},
   "outputs": [
    {
     "name": "stdout",
     "output_type": "stream",
     "text": [
      "Top 20 defenders based on composite KPI score:\n",
      "       Played_Id  CompositeScore\n",
      "4211        4211        3.836257\n",
      "5223        4490        3.678363\n",
      "9396         868        3.647510\n",
      "439          439        3.643880\n",
      "985          985        3.619883\n",
      "4868        4868        3.568058\n",
      "12393       2623        3.564428\n",
      "1007        1007        3.446461\n",
      "9201         902        3.436983\n",
      "1460        1460        3.412886\n",
      "9648        3665        3.405324\n",
      "1089        1089        3.398871\n",
      "12818       3736        3.359347\n",
      "15338        636        3.355717\n",
      "8236         943        3.346239\n",
      "3789        3789        3.343013\n",
      "1655        1655        3.339383\n",
      "13541       2213        3.325771\n",
      "9787        3504        3.321234\n",
      "15771       3554        3.277274\n",
      "       Played_Id  TacklesWon  Assists  YellowCards  RedCards  CompositeScore\n",
      "4211        4211          29       18            1         0        3.836257\n",
      "5223        4490          29       15            1         0        3.678363\n",
      "9396         868          22       19            1         0        3.647510\n",
      "439          439          28       15            1         0        3.643880\n",
      "985          985          29       16            2         0        3.619883\n",
      "4868        4868          18       18            0         0        3.568058\n",
      "12393       2623          24       14            0         0        3.564428\n",
      "1007        1007          16       17            0         0        3.446461\n",
      "9201         902          22       15            1         0        3.436983\n",
      "1460        1460          28       18            0         2        3.412886\n",
      "9648        3665          26       16            3         0        3.405324\n",
      "1089        1089          27       11            1         0        3.398871\n",
      "12818       3736          15       16            0         0        3.359347\n",
      "15338        636          21       12            0         0        3.355717\n",
      "8236         943          27       10            1         0        3.346239\n",
      "3789        3789          13       17            0         0        3.343013\n",
      "1655        1655          19       13            0         0        3.339383\n",
      "13541       2213          27       17            0         2        3.325771\n",
      "9787        3504          20       12            0         0        3.321234\n",
      "15771       3554          25       10            1         0        3.277274\n"
     ]
    },
    {
     "name": "stderr",
     "output_type": "stream",
     "text": [
      "C:\\Users\\madhu\\AppData\\Local\\Temp\\ipykernel_20596\\3085481586.py:12: SettingWithCopyWarning:\n",
      "\n",
      "\n",
      "A value is trying to be set on a copy of a slice from a DataFrame.\n",
      "Try using .loc[row_indexer,col_indexer] = value instead\n",
      "\n",
      "See the caveats in the documentation: https://pandas.pydata.org/pandas-docs/stable/user_guide/indexing.html#returning-a-view-versus-a-copy\n",
      "\n",
      "C:\\Users\\madhu\\AppData\\Local\\Temp\\ipykernel_20596\\3085481586.py:13: SettingWithCopyWarning:\n",
      "\n",
      "\n",
      "A value is trying to be set on a copy of a slice from a DataFrame.\n",
      "Try using .loc[row_indexer,col_indexer] = value instead\n",
      "\n",
      "See the caveats in the documentation: https://pandas.pydata.org/pandas-docs/stable/user_guide/indexing.html#returning-a-view-versus-a-copy\n",
      "\n",
      "C:\\Users\\madhu\\AppData\\Local\\Temp\\ipykernel_20596\\3085481586.py:23: SettingWithCopyWarning:\n",
      "\n",
      "\n",
      "A value is trying to be set on a copy of a slice from a DataFrame.\n",
      "Try using .loc[row_indexer,col_indexer] = value instead\n",
      "\n",
      "See the caveats in the documentation: https://pandas.pydata.org/pandas-docs/stable/user_guide/indexing.html#returning-a-view-versus-a-copy\n",
      "\n"
     ]
    }
   ],
   "source": [
    "import pandas as pd\n",
    "from sklearn.preprocessing import MinMaxScaler\n",
    "\n",
    "# Filter the DataFrame for defenders\n",
    "defender_data = df[df['Position'] == 'defender']\n",
    "\n",
    "# Extract the relevant KPIs\n",
    "kpi_columns = ['TacklesWon', 'Assists', 'YellowCards', 'RedCards']\n",
    "kpi_data = defender_data[kpi_columns]\n",
    "\n",
    "# Reverse the yellow cards and red cards values to ensure lower values indicate better performance\n",
    "kpi_data['YellowCards'] = kpi_data['YellowCards'].max() - kpi_data['YellowCards']\n",
    "kpi_data['RedCards'] = kpi_data['RedCards'].max() - kpi_data['RedCards']\n",
    "\n",
    "# Normalize the KPIs using MinMaxScaler\n",
    "scaler = MinMaxScaler()\n",
    "normalized_kpi_data = scaler.fit_transform(kpi_data)\n",
    "\n",
    "# Create a composite score by summing the normalized KPI values\n",
    "composite_scores = normalized_kpi_data.sum(axis=1)\n",
    "\n",
    "# Add the composite scores to the defender_data DataFrame\n",
    "defender_data['CompositeScore'] = composite_scores\n",
    "\n",
    "# Drop duplicate Played_Id values, keeping the row with the highest composite score for each Played_Id\n",
    "defender_data_unique = defender_data.sort_values(by='CompositeScore', ascending=False).drop_duplicates(subset='Played_Id')\n",
    "\n",
    "# Sort the defenders based on the composite score in descending order\n",
    "sorted_defender_data = defender_data_unique.sort_values(by='CompositeScore', ascending=False)\n",
    "\n",
    "# Select the top 20 defenders\n",
    "top_20_defenders = sorted_defender_data.head(20)\n",
    "\n",
    "# Print the top 20 Played_Id values and their composite scores\n",
    "print(\"Top 20 defenders based on composite KPI score:\")\n",
    "print(top_20_defenders[['Played_Id', 'CompositeScore']])\n",
    "\n",
    "# If you want to see more details, you can include the KPI columns as well\n",
    "print(top_20_defenders[['Played_Id', 'TacklesWon', 'Assists', 'YellowCards', 'RedCards', 'CompositeScore']])\n"
   ]
  },
  {
   "cell_type": "code",
   "execution_count": 115,
   "metadata": {},
   "outputs": [
    {
     "data": {
      "application/vnd.plotly.v1+json": {
       "config": {
        "plotlyServerURL": "https://plot.ly"
       },
       "data": [
        {
         "hovertemplate": "Played Id=%{x}<br>Composite Score=%{y}<extra></extra>",
         "legendgroup": "",
         "marker": {
          "color": "#636efa",
          "symbol": "circle"
         },
         "mode": "markers",
         "name": "",
         "orientation": "v",
         "showlegend": false,
         "type": "scatter",
         "x": [
          3808,
          984,
          1737,
          4036,
          1797,
          31,
          1852,
          2524,
          4334,
          559,
          1774,
          342,
          2496,
          819,
          53,
          1412,
          2520,
          774,
          3779,
          815
         ],
         "xaxis": "x",
         "y": [
          3.7873561206380577,
          3.5282646931917196,
          3.4504719526135115,
          3.3910394196331874,
          3.3381450306981164,
          3.3146128566814212,
          3.310442563966335,
          3.291771018106443,
          3.2872585255723266,
          3.261482266187809,
          3.2596891568660844,
          3.2371575170779465,
          3.2329054719313097,
          3.22407290884688,
          3.212012580864279,
          3.198131819241932,
          3.1745588537084157,
          3.1744888439470964,
          3.150083280568406,
          3.1360212873121487
         ],
         "yaxis": "y"
        }
       ],
       "layout": {
        "legend": {
         "tracegroupgap": 0
        },
        "template": {
         "data": {
          "bar": [
           {
            "error_x": {
             "color": "#2a3f5f"
            },
            "error_y": {
             "color": "#2a3f5f"
            },
            "marker": {
             "line": {
              "color": "#E5ECF6",
              "width": 0.5
             },
             "pattern": {
              "fillmode": "overlay",
              "size": 10,
              "solidity": 0.2
             }
            },
            "type": "bar"
           }
          ],
          "barpolar": [
           {
            "marker": {
             "line": {
              "color": "#E5ECF6",
              "width": 0.5
             },
             "pattern": {
              "fillmode": "overlay",
              "size": 10,
              "solidity": 0.2
             }
            },
            "type": "barpolar"
           }
          ],
          "carpet": [
           {
            "aaxis": {
             "endlinecolor": "#2a3f5f",
             "gridcolor": "white",
             "linecolor": "white",
             "minorgridcolor": "white",
             "startlinecolor": "#2a3f5f"
            },
            "baxis": {
             "endlinecolor": "#2a3f5f",
             "gridcolor": "white",
             "linecolor": "white",
             "minorgridcolor": "white",
             "startlinecolor": "#2a3f5f"
            },
            "type": "carpet"
           }
          ],
          "choropleth": [
           {
            "colorbar": {
             "outlinewidth": 0,
             "ticks": ""
            },
            "type": "choropleth"
           }
          ],
          "contour": [
           {
            "colorbar": {
             "outlinewidth": 0,
             "ticks": ""
            },
            "colorscale": [
             [
              0,
              "#0d0887"
             ],
             [
              0.1111111111111111,
              "#46039f"
             ],
             [
              0.2222222222222222,
              "#7201a8"
             ],
             [
              0.3333333333333333,
              "#9c179e"
             ],
             [
              0.4444444444444444,
              "#bd3786"
             ],
             [
              0.5555555555555556,
              "#d8576b"
             ],
             [
              0.6666666666666666,
              "#ed7953"
             ],
             [
              0.7777777777777778,
              "#fb9f3a"
             ],
             [
              0.8888888888888888,
              "#fdca26"
             ],
             [
              1,
              "#f0f921"
             ]
            ],
            "type": "contour"
           }
          ],
          "contourcarpet": [
           {
            "colorbar": {
             "outlinewidth": 0,
             "ticks": ""
            },
            "type": "contourcarpet"
           }
          ],
          "heatmap": [
           {
            "colorbar": {
             "outlinewidth": 0,
             "ticks": ""
            },
            "colorscale": [
             [
              0,
              "#0d0887"
             ],
             [
              0.1111111111111111,
              "#46039f"
             ],
             [
              0.2222222222222222,
              "#7201a8"
             ],
             [
              0.3333333333333333,
              "#9c179e"
             ],
             [
              0.4444444444444444,
              "#bd3786"
             ],
             [
              0.5555555555555556,
              "#d8576b"
             ],
             [
              0.6666666666666666,
              "#ed7953"
             ],
             [
              0.7777777777777778,
              "#fb9f3a"
             ],
             [
              0.8888888888888888,
              "#fdca26"
             ],
             [
              1,
              "#f0f921"
             ]
            ],
            "type": "heatmap"
           }
          ],
          "heatmapgl": [
           {
            "colorbar": {
             "outlinewidth": 0,
             "ticks": ""
            },
            "colorscale": [
             [
              0,
              "#0d0887"
             ],
             [
              0.1111111111111111,
              "#46039f"
             ],
             [
              0.2222222222222222,
              "#7201a8"
             ],
             [
              0.3333333333333333,
              "#9c179e"
             ],
             [
              0.4444444444444444,
              "#bd3786"
             ],
             [
              0.5555555555555556,
              "#d8576b"
             ],
             [
              0.6666666666666666,
              "#ed7953"
             ],
             [
              0.7777777777777778,
              "#fb9f3a"
             ],
             [
              0.8888888888888888,
              "#fdca26"
             ],
             [
              1,
              "#f0f921"
             ]
            ],
            "type": "heatmapgl"
           }
          ],
          "histogram": [
           {
            "marker": {
             "pattern": {
              "fillmode": "overlay",
              "size": 10,
              "solidity": 0.2
             }
            },
            "type": "histogram"
           }
          ],
          "histogram2d": [
           {
            "colorbar": {
             "outlinewidth": 0,
             "ticks": ""
            },
            "colorscale": [
             [
              0,
              "#0d0887"
             ],
             [
              0.1111111111111111,
              "#46039f"
             ],
             [
              0.2222222222222222,
              "#7201a8"
             ],
             [
              0.3333333333333333,
              "#9c179e"
             ],
             [
              0.4444444444444444,
              "#bd3786"
             ],
             [
              0.5555555555555556,
              "#d8576b"
             ],
             [
              0.6666666666666666,
              "#ed7953"
             ],
             [
              0.7777777777777778,
              "#fb9f3a"
             ],
             [
              0.8888888888888888,
              "#fdca26"
             ],
             [
              1,
              "#f0f921"
             ]
            ],
            "type": "histogram2d"
           }
          ],
          "histogram2dcontour": [
           {
            "colorbar": {
             "outlinewidth": 0,
             "ticks": ""
            },
            "colorscale": [
             [
              0,
              "#0d0887"
             ],
             [
              0.1111111111111111,
              "#46039f"
             ],
             [
              0.2222222222222222,
              "#7201a8"
             ],
             [
              0.3333333333333333,
              "#9c179e"
             ],
             [
              0.4444444444444444,
              "#bd3786"
             ],
             [
              0.5555555555555556,
              "#d8576b"
             ],
             [
              0.6666666666666666,
              "#ed7953"
             ],
             [
              0.7777777777777778,
              "#fb9f3a"
             ],
             [
              0.8888888888888888,
              "#fdca26"
             ],
             [
              1,
              "#f0f921"
             ]
            ],
            "type": "histogram2dcontour"
           }
          ],
          "mesh3d": [
           {
            "colorbar": {
             "outlinewidth": 0,
             "ticks": ""
            },
            "type": "mesh3d"
           }
          ],
          "parcoords": [
           {
            "line": {
             "colorbar": {
              "outlinewidth": 0,
              "ticks": ""
             }
            },
            "type": "parcoords"
           }
          ],
          "pie": [
           {
            "automargin": true,
            "type": "pie"
           }
          ],
          "scatter": [
           {
            "fillpattern": {
             "fillmode": "overlay",
             "size": 10,
             "solidity": 0.2
            },
            "type": "scatter"
           }
          ],
          "scatter3d": [
           {
            "line": {
             "colorbar": {
              "outlinewidth": 0,
              "ticks": ""
             }
            },
            "marker": {
             "colorbar": {
              "outlinewidth": 0,
              "ticks": ""
             }
            },
            "type": "scatter3d"
           }
          ],
          "scattercarpet": [
           {
            "marker": {
             "colorbar": {
              "outlinewidth": 0,
              "ticks": ""
             }
            },
            "type": "scattercarpet"
           }
          ],
          "scattergeo": [
           {
            "marker": {
             "colorbar": {
              "outlinewidth": 0,
              "ticks": ""
             }
            },
            "type": "scattergeo"
           }
          ],
          "scattergl": [
           {
            "marker": {
             "colorbar": {
              "outlinewidth": 0,
              "ticks": ""
             }
            },
            "type": "scattergl"
           }
          ],
          "scattermapbox": [
           {
            "marker": {
             "colorbar": {
              "outlinewidth": 0,
              "ticks": ""
             }
            },
            "type": "scattermapbox"
           }
          ],
          "scatterpolar": [
           {
            "marker": {
             "colorbar": {
              "outlinewidth": 0,
              "ticks": ""
             }
            },
            "type": "scatterpolar"
           }
          ],
          "scatterpolargl": [
           {
            "marker": {
             "colorbar": {
              "outlinewidth": 0,
              "ticks": ""
             }
            },
            "type": "scatterpolargl"
           }
          ],
          "scatterternary": [
           {
            "marker": {
             "colorbar": {
              "outlinewidth": 0,
              "ticks": ""
             }
            },
            "type": "scatterternary"
           }
          ],
          "surface": [
           {
            "colorbar": {
             "outlinewidth": 0,
             "ticks": ""
            },
            "colorscale": [
             [
              0,
              "#0d0887"
             ],
             [
              0.1111111111111111,
              "#46039f"
             ],
             [
              0.2222222222222222,
              "#7201a8"
             ],
             [
              0.3333333333333333,
              "#9c179e"
             ],
             [
              0.4444444444444444,
              "#bd3786"
             ],
             [
              0.5555555555555556,
              "#d8576b"
             ],
             [
              0.6666666666666666,
              "#ed7953"
             ],
             [
              0.7777777777777778,
              "#fb9f3a"
             ],
             [
              0.8888888888888888,
              "#fdca26"
             ],
             [
              1,
              "#f0f921"
             ]
            ],
            "type": "surface"
           }
          ],
          "table": [
           {
            "cells": {
             "fill": {
              "color": "#EBF0F8"
             },
             "line": {
              "color": "white"
             }
            },
            "header": {
             "fill": {
              "color": "#C8D4E3"
             },
             "line": {
              "color": "white"
             }
            },
            "type": "table"
           }
          ]
         },
         "layout": {
          "annotationdefaults": {
           "arrowcolor": "#2a3f5f",
           "arrowhead": 0,
           "arrowwidth": 1
          },
          "autotypenumbers": "strict",
          "coloraxis": {
           "colorbar": {
            "outlinewidth": 0,
            "ticks": ""
           }
          },
          "colorscale": {
           "diverging": [
            [
             0,
             "#8e0152"
            ],
            [
             0.1,
             "#c51b7d"
            ],
            [
             0.2,
             "#de77ae"
            ],
            [
             0.3,
             "#f1b6da"
            ],
            [
             0.4,
             "#fde0ef"
            ],
            [
             0.5,
             "#f7f7f7"
            ],
            [
             0.6,
             "#e6f5d0"
            ],
            [
             0.7,
             "#b8e186"
            ],
            [
             0.8,
             "#7fbc41"
            ],
            [
             0.9,
             "#4d9221"
            ],
            [
             1,
             "#276419"
            ]
           ],
           "sequential": [
            [
             0,
             "#0d0887"
            ],
            [
             0.1111111111111111,
             "#46039f"
            ],
            [
             0.2222222222222222,
             "#7201a8"
            ],
            [
             0.3333333333333333,
             "#9c179e"
            ],
            [
             0.4444444444444444,
             "#bd3786"
            ],
            [
             0.5555555555555556,
             "#d8576b"
            ],
            [
             0.6666666666666666,
             "#ed7953"
            ],
            [
             0.7777777777777778,
             "#fb9f3a"
            ],
            [
             0.8888888888888888,
             "#fdca26"
            ],
            [
             1,
             "#f0f921"
            ]
           ],
           "sequentialminus": [
            [
             0,
             "#0d0887"
            ],
            [
             0.1111111111111111,
             "#46039f"
            ],
            [
             0.2222222222222222,
             "#7201a8"
            ],
            [
             0.3333333333333333,
             "#9c179e"
            ],
            [
             0.4444444444444444,
             "#bd3786"
            ],
            [
             0.5555555555555556,
             "#d8576b"
            ],
            [
             0.6666666666666666,
             "#ed7953"
            ],
            [
             0.7777777777777778,
             "#fb9f3a"
            ],
            [
             0.8888888888888888,
             "#fdca26"
            ],
            [
             1,
             "#f0f921"
            ]
           ]
          },
          "colorway": [
           "#636efa",
           "#EF553B",
           "#00cc96",
           "#ab63fa",
           "#FFA15A",
           "#19d3f3",
           "#FF6692",
           "#B6E880",
           "#FF97FF",
           "#FECB52"
          ],
          "font": {
           "color": "#2a3f5f"
          },
          "geo": {
           "bgcolor": "white",
           "lakecolor": "white",
           "landcolor": "#E5ECF6",
           "showlakes": true,
           "showland": true,
           "subunitcolor": "white"
          },
          "hoverlabel": {
           "align": "left"
          },
          "hovermode": "closest",
          "mapbox": {
           "style": "light"
          },
          "paper_bgcolor": "white",
          "plot_bgcolor": "#E5ECF6",
          "polar": {
           "angularaxis": {
            "gridcolor": "white",
            "linecolor": "white",
            "ticks": ""
           },
           "bgcolor": "#E5ECF6",
           "radialaxis": {
            "gridcolor": "white",
            "linecolor": "white",
            "ticks": ""
           }
          },
          "scene": {
           "xaxis": {
            "backgroundcolor": "#E5ECF6",
            "gridcolor": "white",
            "gridwidth": 2,
            "linecolor": "white",
            "showbackground": true,
            "ticks": "",
            "zerolinecolor": "white"
           },
           "yaxis": {
            "backgroundcolor": "#E5ECF6",
            "gridcolor": "white",
            "gridwidth": 2,
            "linecolor": "white",
            "showbackground": true,
            "ticks": "",
            "zerolinecolor": "white"
           },
           "zaxis": {
            "backgroundcolor": "#E5ECF6",
            "gridcolor": "white",
            "gridwidth": 2,
            "linecolor": "white",
            "showbackground": true,
            "ticks": "",
            "zerolinecolor": "white"
           }
          },
          "shapedefaults": {
           "line": {
            "color": "#2a3f5f"
           }
          },
          "ternary": {
           "aaxis": {
            "gridcolor": "white",
            "linecolor": "white",
            "ticks": ""
           },
           "baxis": {
            "gridcolor": "white",
            "linecolor": "white",
            "ticks": ""
           },
           "bgcolor": "#E5ECF6",
           "caxis": {
            "gridcolor": "white",
            "linecolor": "white",
            "ticks": ""
           }
          },
          "title": {
           "x": 0.05
          },
          "xaxis": {
           "automargin": true,
           "gridcolor": "white",
           "linecolor": "white",
           "ticks": "",
           "title": {
            "standoff": 15
           },
           "zerolinecolor": "white",
           "zerolinewidth": 2
          },
          "yaxis": {
           "automargin": true,
           "gridcolor": "white",
           "linecolor": "white",
           "ticks": "",
           "title": {
            "standoff": 15
           },
           "zerolinecolor": "white",
           "zerolinewidth": 2
          }
         }
        },
        "title": {
         "text": "Top 20 Midfielders Based on Composite Score"
        },
        "xaxis": {
         "anchor": "y",
         "domain": [
          0,
          1
         ],
         "title": {
          "text": "Played Id"
         }
        },
        "yaxis": {
         "anchor": "x",
         "domain": [
          0,
          1
         ],
         "title": {
          "text": "Composite Score"
         }
        }
       }
      }
     },
     "metadata": {},
     "output_type": "display_data"
    }
   ],
   "source": [
    "import plotly.express as px\n",
    "\n",
    "\n",
    "# Create a scatter plot for the top 20 midfielders\n",
    "fig = px.scatter(top_20_midfielders, x='Played_Id', y='CompositeScore', \n",
    "                 title='Top 20 Midfielders Based on Composite Score',\n",
    "                 labels={'Played_Id': 'Played Id', 'CompositeScore': 'Composite Score'})\n",
    "\n",
    "# Update layout\n",
    "fig.update_layout(xaxis=dict(title='Played Id'), yaxis=dict(title='Composite Score'))\n",
    "\n",
    "# Show the plot\n",
    "fig.show()\n"
   ]
  },
  {
   "cell_type": "markdown",
   "metadata": {},
   "source": [
    "## Forward Focused"
   ]
  },
  {
   "cell_type": "markdown",
   "metadata": {},
   "source": [
    "- Goals\n",
    "\n",
    "- Assists\n",
    "\n",
    "- ShotsOnTarget\n",
    "\n",
    "- EffectiveTraining\n",
    "\n",
    "- PressurePerformanceImpact"
   ]
  },
  {
   "cell_type": "markdown",
   "metadata": {},
   "source": [
    "## Goals Analysis"
   ]
  },
  {
   "cell_type": "code",
   "execution_count": 116,
   "metadata": {},
   "outputs": [],
   "source": [
    "ds=pd.read_csv(\"Sports dataset.csv\")"
   ]
  },
  {
   "cell_type": "code",
   "execution_count": 117,
   "metadata": {},
   "outputs": [
    {
     "name": "stderr",
     "output_type": "stream",
     "text": [
      "C:\\Users\\madhu\\AppData\\Local\\Temp\\ipykernel_20596\\1085196589.py:5: FutureWarning:\n",
      "\n",
      "The default value of numeric_only in DataFrame.mean is deprecated. In a future version, it will default to False. In addition, specifying 'numeric_only=None' is deprecated. Select only valid columns or specify the value of numeric_only to silence this warning.\n",
      "\n"
     ]
    }
   ],
   "source": [
    "\n",
    "# Filter rows where 'Goals' is less than or equal to 50\n",
    "ds_filtered = ds[ds['Goals'] <= 91]\n",
    "\n",
    "# Impute mean for NaN values\n",
    "ds_filtered_filled = ds_filtered.fillna(ds_filtered.mean())\n",
    "\n",
    "ds_filtered_filled.to_csv(\"sports_dataset-copy.csv\")"
   ]
  },
  {
   "cell_type": "code",
   "execution_count": 118,
   "metadata": {},
   "outputs": [],
   "source": [
    "\n",
    "# Read the first CSV file with cleaned \"Goals\" column\n",
    "cleaned_goals_df = pd.read_csv('sports_dataset-copy.csv')\n",
    "\n",
    "# Read the second preprocessed CSV file\n",
    "preprocessed_df = pd.read_csv('new_dataset.csv')\n",
    "\n",
    "# Add the cleaned \"Goals\" column to the second DataFrame\n",
    "preprocessed_df['Goals'] = cleaned_goals_df['Goals']\n",
    "\n",
    "# Save the updated DataFrame to a new CSV file\n",
    "preprocessed_df.to_csv('new_dataset.csv', index=False)\n",
    "\n"
   ]
  },
  {
   "cell_type": "markdown",
   "metadata": {},
   "source": [
    "### Top goals values for forward"
   ]
  },
  {
   "cell_type": "code",
   "execution_count": 119,
   "metadata": {},
   "outputs": [
    {
     "name": "stdout",
     "output_type": "stream",
     "text": [
      "Top Forwards based on Goals:\n",
      "       Played_Id  Goals\n",
      "6448        3811   90.0\n",
      "7417        2944   90.0\n",
      "10143       2560   90.0\n",
      "10321       4415   90.0\n",
      "1001        1001   90.0\n",
      "991          991   90.0\n",
      "11507       2045   90.0\n",
      "12043       2541   90.0\n",
      "12687       2938   90.0\n",
      "9506        3866   90.0\n",
      "4840        4840   90.0\n",
      "2561        2561   90.0\n",
      "13518       3940   90.0\n",
      "11205       1316   90.0\n",
      "12262       1980   90.0\n"
     ]
    }
   ],
   "source": [
    "forward_data = df[df['Position'] == 'forward']\n",
    "top_forwards_goals = forward_data.sort_values(by='Goals', ascending=False).drop_duplicates(subset='Played_Id').head(15)\n",
    "print(\"Top Forwards based on Goals:\")\n",
    "print(top_forwards_goals[['Played_Id', 'Goals']])\n"
   ]
  },
  {
   "cell_type": "markdown",
   "metadata": {},
   "source": [
    "## Assists Analysis"
   ]
  },
  {
   "cell_type": "code",
   "execution_count": 120,
   "metadata": {},
   "outputs": [
    {
     "name": "stdout",
     "output_type": "stream",
     "text": [
      "Top 20 Forwards based on Assists:\n",
      "       Played_Id  Assists\n",
      "9160        2049       19\n",
      "7854        4415       19\n",
      "14925       4009       19\n",
      "8152         393       19\n",
      "11942       1030       19\n",
      "14799       2386       19\n",
      "14757       1201       19\n",
      "8381        1616       19\n",
      "11934       3700       19\n",
      "11895       4796       19\n",
      "8561         560       19\n",
      "901          901       19\n",
      "14637       3143       19\n",
      "8730        1531       19\n",
      "8856        2969       19\n",
      "2362        2362       19\n",
      "13156       3000       19\n",
      "9142        2230       19\n",
      "7840        4294       19\n",
      "7808        2202       19\n"
     ]
    }
   ],
   "source": [
    "forward_data = df[df['Position'] == 'forward']\n",
    "top_forwards_assists = forward_data.sort_values(by='Assists', ascending=False).drop_duplicates(subset='Played_Id').head(20)\n",
    "print(\"Top 20 Forwards based on Assists:\")\n",
    "print(top_forwards_assists[['Played_Id', 'Assists']])"
   ]
  },
  {
   "cell_type": "markdown",
   "metadata": {},
   "source": [
    "## EffectiveTraining Analysis"
   ]
  },
  {
   "cell_type": "markdown",
   "metadata": {},
   "source": [
    "EffectiveTraining_winsorized:\n",
    "- Mean  = 325\n",
    "\n",
    "- Standard Deviation  = 190\n",
    "\n",
    "- Range_max = 325 + 2(190) = 705\n"
   ]
  },
  {
   "cell_type": "code",
   "execution_count": 121,
   "metadata": {},
   "outputs": [
    {
     "name": "stdout",
     "output_type": "stream",
     "text": [
      "Top 20 Forwards based on EffectiveTraining below 705:\n",
      "       Played_Id  EffectiveTraining_winsorized\n",
      "12852       1854                    702.134700\n",
      "4294        4294                    700.957266\n",
      "688          688                    698.547813\n",
      "8300        3530                    697.644119\n",
      "6994         665                    696.239990\n",
      "16435       2307                    694.855290\n",
      "16423       1095                    687.422238\n",
      "10026        561                    674.531340\n",
      "13456       4415                    673.397972\n",
      "4339        4339                    672.362947\n",
      "3865        3865                    672.092228\n",
      "5131        4566                    667.678618\n",
      "10371       2750                    667.450613\n",
      "2414        2414                    665.548547\n",
      "12804       3103                    665.432807\n",
      "14810        304                    660.547157\n",
      "11131        393                    655.686255\n",
      "7176         277                    653.633593\n",
      "1385        1385                    652.653553\n",
      "4373        4373                    650.921524\n"
     ]
    }
   ],
   "source": [
    "# Filter the DataFrame for players with Position as 'forward' and EffectiveTraining_winsorized values below 705\n",
    "top_forwards_training = forward_data[(forward_data['EffectiveTraining_winsorized'] < 705)]\n",
    "\n",
    "# Sort the filtered data based on EffectiveTraining in descending order and drop duplicates of Played_Id\n",
    "top_forwards_training = top_forwards_training.sort_values(by='EffectiveTraining_winsorized', ascending=False).drop_duplicates(subset='Played_Id').head(20)\n",
    "\n",
    "# Display the top 20 forwards based on EffectiveTraining\n",
    "print(\"Top 20 Forwards based on EffectiveTraining below 705:\")\n",
    "print(top_forwards_training[['Played_Id', 'EffectiveTraining_winsorized']])\n"
   ]
  },
  {
   "cell_type": "markdown",
   "metadata": {},
   "source": [
    "## PressurePerformanceImpact Analysis"
   ]
  },
  {
   "cell_type": "code",
   "execution_count": 122,
   "metadata": {},
   "outputs": [
    {
     "name": "stdout",
     "output_type": "stream",
     "text": [
      "Top 20 Forwards based on PressurePerformanceImpact_winsorized below or equal to 10:\n",
      "       Played_Id  PressurePerformanceImpact_winsorized\n",
      "1157        1157                             10.000000\n",
      "2839        2839                             10.000000\n",
      "14844       2043                              9.857143\n",
      "6917        3350                              9.833333\n",
      "2020        2020                              9.750000\n",
      "8752         264                              9.750000\n",
      "14421       3781                              9.666667\n",
      "3081        3081                              9.666667\n",
      "4479        4479                              9.555556\n",
      "15317       1712                              9.400000\n",
      "658          658                              9.375238\n",
      "1317        1317                              9.375000\n",
      "13932         52                              9.200000\n",
      "848          848                              9.125000\n",
      "2940        2940                              9.111111\n",
      "1962        1962                              9.111111\n",
      "6907        1820                              9.100000\n",
      "2435        2435                              9.000000\n",
      "2938        2938                              9.000000\n",
      "5207         253                              9.000000\n"
     ]
    }
   ],
   "source": [
    "# Filter the DataFrame for players with Position as 'forward' and PressurePerformanceImpact_winsorized values below or equal to 10\n",
    "top_forwards_pressure = forward_data[(forward_data['PressurePerformanceImpact_winsorized'] <= 10)]\n",
    "\n",
    "# Sort the filtered data based on PressurePerformanceImpact in descending order and drop duplicates of Played_Id\n",
    "top_forwards_pressure = top_forwards_pressure.sort_values(by='PressurePerformanceImpact_winsorized', ascending=False).drop_duplicates(subset='Played_Id').head(20)\n",
    "\n",
    "# Display the top 20 forwards based on PressurePerformanceImpact_winsorized <= 10\n",
    "print(\"Top 20 Forwards based on PressurePerformanceImpact_winsorized below or equal to 10:\")\n",
    "print(top_forwards_pressure[['Played_Id', 'PressurePerformanceImpact_winsorized']])\n"
   ]
  },
  {
   "cell_type": "markdown",
   "metadata": {},
   "source": [
    "## Shots On Target Analysis"
   ]
  },
  {
   "cell_type": "code",
   "execution_count": 124,
   "metadata": {},
   "outputs": [
    {
     "name": "stdout",
     "output_type": "stream",
     "text": [
      "Top 20 Forwards based on ShotsOnTarget:\n",
      "       Played_Id  ShotsOnTarget\n",
      "8244        2302             14\n",
      "1060        1060             14\n",
      "2788        2788             14\n",
      "14998       3382             14\n",
      "15000       2402             14\n",
      "7815        3969             14\n",
      "15017       4514             14\n",
      "2748        2748             14\n",
      "7834        3116             14\n",
      "7838        3558             14\n",
      "11933       2043             14\n",
      "11930       1727             14\n",
      "7878        4012             14\n",
      "7895        4959             14\n",
      "2702        2702             14\n",
      "7933         566             14\n",
      "15095       2303             14\n",
      "15098       1137             14\n",
      "2609        2609             14\n",
      "2593        2593             14\n",
      "8086        2418             14\n",
      "15141       4297             14\n",
      "8110        2157             14\n",
      "8115        3781             14\n",
      "2546        2546             14\n"
     ]
    }
   ],
   "source": [
    "\n",
    "forward_data = df[df['Position'] == 'forward']\n",
    "top_forwards_shots = forward_data.sort_values(by='ShotsOnTarget', ascending=False).drop_duplicates(subset='Played_Id').head(25)\n",
    "print(\"Top 20 Forwards based on ShotsOnTarget:\")\n",
    "print(top_forwards_shots[['Played_Id', 'ShotsOnTarget']])\n"
   ]
  },
  {
   "cell_type": "markdown",
   "metadata": {},
   "source": [
    "## Top 20 Forwards based on KPI's"
   ]
  },
  {
   "cell_type": "code",
   "execution_count": 126,
   "metadata": {},
   "outputs": [
    {
     "name": "stdout",
     "output_type": "stream",
     "text": [
      "Top 20 forwards based on composite KPI score:\n",
      "       Played_Id  CompositeScore\n",
      "10143       2560        4.356308\n",
      "10321       4415        3.810151\n",
      "1123        1123        3.663677\n",
      "960          960        3.602684\n",
      "11507       2045        3.575911\n",
      "12156       3781        3.509991\n",
      "7431        3341        3.471782\n",
      "8047        1157        3.464852\n",
      "8660        2173        3.427703\n",
      "8794        1683        3.427665\n",
      "5381        4760        3.406033\n",
      "6907        1820        3.379665\n",
      "5990         304        3.351321\n",
      "2702        2702        3.342954\n",
      "1587        1587        3.340783\n",
      "8282        3869        3.336336\n",
      "12650       1736        3.330464\n",
      "5131        4566        3.317765\n",
      "2043        2043        3.311905\n",
      "13159       3493        3.311790\n"
     ]
    },
    {
     "name": "stderr",
     "output_type": "stream",
     "text": [
      "C:\\Users\\madhu\\AppData\\Local\\Temp\\ipykernel_20596\\3523616328.py:26: SettingWithCopyWarning:\n",
      "\n",
      "\n",
      "A value is trying to be set on a copy of a slice from a DataFrame.\n",
      "Try using .loc[row_indexer,col_indexer] = value instead\n",
      "\n",
      "See the caveats in the documentation: https://pandas.pydata.org/pandas-docs/stable/user_guide/indexing.html#returning-a-view-versus-a-copy\n",
      "\n"
     ]
    }
   ],
   "source": [
    "import pandas as pd\n",
    "from sklearn.preprocessing import MinMaxScaler\n",
    "\n",
    "# Filter the DataFrame for forwards\n",
    "forward_data = df[df['Position'] == 'forward']\n",
    "\n",
    "# Apply the specified conditions\n",
    "filtered_forward_data = forward_data[\n",
    "    (forward_data['Goals'] <= 90) &\n",
    "    (forward_data['EffectiveTraining_winsorized'] <= 705) &\n",
    "    (forward_data['PressurePerformanceImpact_winsorized'] <= 10)\n",
    "]\n",
    "\n",
    "# Extract the relevant KPIs\n",
    "kpi_columns = ['Goals', 'Assists', 'ShotsOnTarget', 'EffectiveTraining_winsorized', 'PressurePerformanceImpact_winsorized']\n",
    "kpi_data = filtered_forward_data[kpi_columns]\n",
    "\n",
    "# Normalize the KPIs using MinMaxScaler\n",
    "scaler = MinMaxScaler()\n",
    "normalized_kpi_data = scaler.fit_transform(kpi_data)\n",
    "\n",
    "# Create a composite score by summing the normalized KPI values\n",
    "composite_scores = normalized_kpi_data.sum(axis=1)\n",
    "\n",
    "# Add the composite scores to the filtered_forward_data DataFrame\n",
    "filtered_forward_data['CompositeScore'] = composite_scores\n",
    "\n",
    "# Drop duplicate Played_Id values, keeping the row with the highest composite score for each Played_Id\n",
    "forward_data_unique = filtered_forward_data.sort_values(by='CompositeScore', ascending=False).drop_duplicates(subset='Played_Id')\n",
    "\n",
    "# Sort the forwards based on the composite score in descending order\n",
    "sorted_forward_data = forward_data_unique.sort_values(by='CompositeScore', ascending=False)\n",
    "\n",
    "# Select the top 20 forwards\n",
    "top_20_forwards = sorted_forward_data.head(20)\n",
    "\n",
    "# Print the top 20 Played_Id values and their composite scores\n",
    "print(\"Top 20 forwards based on composite KPI score:\")\n",
    "print(top_20_forwards[['Played_Id', 'CompositeScore']])\n",
    "\n"
   ]
  },
  {
   "cell_type": "code",
   "execution_count": 130,
   "metadata": {},
   "outputs": [
    {
     "data": {
      "application/vnd.plotly.v1+json": {
       "config": {
        "plotlyServerURL": "https://plot.ly"
       },
       "data": [
        {
         "hovertemplate": "<b>%{hovertext}</b><br><br>Composite Score=%{y}<extra></extra>",
         "hovertext": [
          2560,
          4415,
          1123,
          960,
          2045,
          3781,
          3341,
          1157,
          2173,
          1683,
          4760,
          1820,
          304,
          2702,
          1587,
          3869,
          1736,
          4566,
          2043,
          3493
         ],
         "legendgroup": "",
         "marker": {
          "color": "royalblue",
          "line": {
           "color": "DarkSlateGrey",
           "width": 2
          },
          "size": 12,
          "symbol": "circle"
         },
         "mode": "markers",
         "name": "",
         "orientation": "v",
         "showlegend": false,
         "type": "scatter",
         "x": [
          2560,
          4415,
          1123,
          960,
          2045,
          3781,
          3341,
          1157,
          2173,
          1683,
          4760,
          1820,
          304,
          2702,
          1587,
          3869,
          1736,
          4566,
          2043,
          3493
         ],
         "xaxis": "x",
         "y": [
          4.356308346834483,
          3.8101512505844504,
          3.66367683739926,
          3.6026844651077043,
          3.575910754602195,
          3.509991257558199,
          3.4717815980176963,
          3.464851892495042,
          3.427702764969853,
          3.427665076187011,
          3.4060333997654477,
          3.3796651947078806,
          3.351320797429389,
          3.3429543817991245,
          3.340783391806526,
          3.336336392994872,
          3.3304638117813448,
          3.3177654933834737,
          3.311904842103355,
          3.311790490428572
         ],
         "yaxis": "y"
        }
       ],
       "layout": {
        "legend": {
         "tracegroupgap": 0
        },
        "template": {
         "data": {
          "bar": [
           {
            "error_x": {
             "color": "#2a3f5f"
            },
            "error_y": {
             "color": "#2a3f5f"
            },
            "marker": {
             "line": {
              "color": "#E5ECF6",
              "width": 0.5
             },
             "pattern": {
              "fillmode": "overlay",
              "size": 10,
              "solidity": 0.2
             }
            },
            "type": "bar"
           }
          ],
          "barpolar": [
           {
            "marker": {
             "line": {
              "color": "#E5ECF6",
              "width": 0.5
             },
             "pattern": {
              "fillmode": "overlay",
              "size": 10,
              "solidity": 0.2
             }
            },
            "type": "barpolar"
           }
          ],
          "carpet": [
           {
            "aaxis": {
             "endlinecolor": "#2a3f5f",
             "gridcolor": "white",
             "linecolor": "white",
             "minorgridcolor": "white",
             "startlinecolor": "#2a3f5f"
            },
            "baxis": {
             "endlinecolor": "#2a3f5f",
             "gridcolor": "white",
             "linecolor": "white",
             "minorgridcolor": "white",
             "startlinecolor": "#2a3f5f"
            },
            "type": "carpet"
           }
          ],
          "choropleth": [
           {
            "colorbar": {
             "outlinewidth": 0,
             "ticks": ""
            },
            "type": "choropleth"
           }
          ],
          "contour": [
           {
            "colorbar": {
             "outlinewidth": 0,
             "ticks": ""
            },
            "colorscale": [
             [
              0,
              "#0d0887"
             ],
             [
              0.1111111111111111,
              "#46039f"
             ],
             [
              0.2222222222222222,
              "#7201a8"
             ],
             [
              0.3333333333333333,
              "#9c179e"
             ],
             [
              0.4444444444444444,
              "#bd3786"
             ],
             [
              0.5555555555555556,
              "#d8576b"
             ],
             [
              0.6666666666666666,
              "#ed7953"
             ],
             [
              0.7777777777777778,
              "#fb9f3a"
             ],
             [
              0.8888888888888888,
              "#fdca26"
             ],
             [
              1,
              "#f0f921"
             ]
            ],
            "type": "contour"
           }
          ],
          "contourcarpet": [
           {
            "colorbar": {
             "outlinewidth": 0,
             "ticks": ""
            },
            "type": "contourcarpet"
           }
          ],
          "heatmap": [
           {
            "colorbar": {
             "outlinewidth": 0,
             "ticks": ""
            },
            "colorscale": [
             [
              0,
              "#0d0887"
             ],
             [
              0.1111111111111111,
              "#46039f"
             ],
             [
              0.2222222222222222,
              "#7201a8"
             ],
             [
              0.3333333333333333,
              "#9c179e"
             ],
             [
              0.4444444444444444,
              "#bd3786"
             ],
             [
              0.5555555555555556,
              "#d8576b"
             ],
             [
              0.6666666666666666,
              "#ed7953"
             ],
             [
              0.7777777777777778,
              "#fb9f3a"
             ],
             [
              0.8888888888888888,
              "#fdca26"
             ],
             [
              1,
              "#f0f921"
             ]
            ],
            "type": "heatmap"
           }
          ],
          "heatmapgl": [
           {
            "colorbar": {
             "outlinewidth": 0,
             "ticks": ""
            },
            "colorscale": [
             [
              0,
              "#0d0887"
             ],
             [
              0.1111111111111111,
              "#46039f"
             ],
             [
              0.2222222222222222,
              "#7201a8"
             ],
             [
              0.3333333333333333,
              "#9c179e"
             ],
             [
              0.4444444444444444,
              "#bd3786"
             ],
             [
              0.5555555555555556,
              "#d8576b"
             ],
             [
              0.6666666666666666,
              "#ed7953"
             ],
             [
              0.7777777777777778,
              "#fb9f3a"
             ],
             [
              0.8888888888888888,
              "#fdca26"
             ],
             [
              1,
              "#f0f921"
             ]
            ],
            "type": "heatmapgl"
           }
          ],
          "histogram": [
           {
            "marker": {
             "pattern": {
              "fillmode": "overlay",
              "size": 10,
              "solidity": 0.2
             }
            },
            "type": "histogram"
           }
          ],
          "histogram2d": [
           {
            "colorbar": {
             "outlinewidth": 0,
             "ticks": ""
            },
            "colorscale": [
             [
              0,
              "#0d0887"
             ],
             [
              0.1111111111111111,
              "#46039f"
             ],
             [
              0.2222222222222222,
              "#7201a8"
             ],
             [
              0.3333333333333333,
              "#9c179e"
             ],
             [
              0.4444444444444444,
              "#bd3786"
             ],
             [
              0.5555555555555556,
              "#d8576b"
             ],
             [
              0.6666666666666666,
              "#ed7953"
             ],
             [
              0.7777777777777778,
              "#fb9f3a"
             ],
             [
              0.8888888888888888,
              "#fdca26"
             ],
             [
              1,
              "#f0f921"
             ]
            ],
            "type": "histogram2d"
           }
          ],
          "histogram2dcontour": [
           {
            "colorbar": {
             "outlinewidth": 0,
             "ticks": ""
            },
            "colorscale": [
             [
              0,
              "#0d0887"
             ],
             [
              0.1111111111111111,
              "#46039f"
             ],
             [
              0.2222222222222222,
              "#7201a8"
             ],
             [
              0.3333333333333333,
              "#9c179e"
             ],
             [
              0.4444444444444444,
              "#bd3786"
             ],
             [
              0.5555555555555556,
              "#d8576b"
             ],
             [
              0.6666666666666666,
              "#ed7953"
             ],
             [
              0.7777777777777778,
              "#fb9f3a"
             ],
             [
              0.8888888888888888,
              "#fdca26"
             ],
             [
              1,
              "#f0f921"
             ]
            ],
            "type": "histogram2dcontour"
           }
          ],
          "mesh3d": [
           {
            "colorbar": {
             "outlinewidth": 0,
             "ticks": ""
            },
            "type": "mesh3d"
           }
          ],
          "parcoords": [
           {
            "line": {
             "colorbar": {
              "outlinewidth": 0,
              "ticks": ""
             }
            },
            "type": "parcoords"
           }
          ],
          "pie": [
           {
            "automargin": true,
            "type": "pie"
           }
          ],
          "scatter": [
           {
            "fillpattern": {
             "fillmode": "overlay",
             "size": 10,
             "solidity": 0.2
            },
            "type": "scatter"
           }
          ],
          "scatter3d": [
           {
            "line": {
             "colorbar": {
              "outlinewidth": 0,
              "ticks": ""
             }
            },
            "marker": {
             "colorbar": {
              "outlinewidth": 0,
              "ticks": ""
             }
            },
            "type": "scatter3d"
           }
          ],
          "scattercarpet": [
           {
            "marker": {
             "colorbar": {
              "outlinewidth": 0,
              "ticks": ""
             }
            },
            "type": "scattercarpet"
           }
          ],
          "scattergeo": [
           {
            "marker": {
             "colorbar": {
              "outlinewidth": 0,
              "ticks": ""
             }
            },
            "type": "scattergeo"
           }
          ],
          "scattergl": [
           {
            "marker": {
             "colorbar": {
              "outlinewidth": 0,
              "ticks": ""
             }
            },
            "type": "scattergl"
           }
          ],
          "scattermapbox": [
           {
            "marker": {
             "colorbar": {
              "outlinewidth": 0,
              "ticks": ""
             }
            },
            "type": "scattermapbox"
           }
          ],
          "scatterpolar": [
           {
            "marker": {
             "colorbar": {
              "outlinewidth": 0,
              "ticks": ""
             }
            },
            "type": "scatterpolar"
           }
          ],
          "scatterpolargl": [
           {
            "marker": {
             "colorbar": {
              "outlinewidth": 0,
              "ticks": ""
             }
            },
            "type": "scatterpolargl"
           }
          ],
          "scatterternary": [
           {
            "marker": {
             "colorbar": {
              "outlinewidth": 0,
              "ticks": ""
             }
            },
            "type": "scatterternary"
           }
          ],
          "surface": [
           {
            "colorbar": {
             "outlinewidth": 0,
             "ticks": ""
            },
            "colorscale": [
             [
              0,
              "#0d0887"
             ],
             [
              0.1111111111111111,
              "#46039f"
             ],
             [
              0.2222222222222222,
              "#7201a8"
             ],
             [
              0.3333333333333333,
              "#9c179e"
             ],
             [
              0.4444444444444444,
              "#bd3786"
             ],
             [
              0.5555555555555556,
              "#d8576b"
             ],
             [
              0.6666666666666666,
              "#ed7953"
             ],
             [
              0.7777777777777778,
              "#fb9f3a"
             ],
             [
              0.8888888888888888,
              "#fdca26"
             ],
             [
              1,
              "#f0f921"
             ]
            ],
            "type": "surface"
           }
          ],
          "table": [
           {
            "cells": {
             "fill": {
              "color": "#EBF0F8"
             },
             "line": {
              "color": "white"
             }
            },
            "header": {
             "fill": {
              "color": "#C8D4E3"
             },
             "line": {
              "color": "white"
             }
            },
            "type": "table"
           }
          ]
         },
         "layout": {
          "annotationdefaults": {
           "arrowcolor": "#2a3f5f",
           "arrowhead": 0,
           "arrowwidth": 1
          },
          "autotypenumbers": "strict",
          "coloraxis": {
           "colorbar": {
            "outlinewidth": 0,
            "ticks": ""
           }
          },
          "colorscale": {
           "diverging": [
            [
             0,
             "#8e0152"
            ],
            [
             0.1,
             "#c51b7d"
            ],
            [
             0.2,
             "#de77ae"
            ],
            [
             0.3,
             "#f1b6da"
            ],
            [
             0.4,
             "#fde0ef"
            ],
            [
             0.5,
             "#f7f7f7"
            ],
            [
             0.6,
             "#e6f5d0"
            ],
            [
             0.7,
             "#b8e186"
            ],
            [
             0.8,
             "#7fbc41"
            ],
            [
             0.9,
             "#4d9221"
            ],
            [
             1,
             "#276419"
            ]
           ],
           "sequential": [
            [
             0,
             "#0d0887"
            ],
            [
             0.1111111111111111,
             "#46039f"
            ],
            [
             0.2222222222222222,
             "#7201a8"
            ],
            [
             0.3333333333333333,
             "#9c179e"
            ],
            [
             0.4444444444444444,
             "#bd3786"
            ],
            [
             0.5555555555555556,
             "#d8576b"
            ],
            [
             0.6666666666666666,
             "#ed7953"
            ],
            [
             0.7777777777777778,
             "#fb9f3a"
            ],
            [
             0.8888888888888888,
             "#fdca26"
            ],
            [
             1,
             "#f0f921"
            ]
           ],
           "sequentialminus": [
            [
             0,
             "#0d0887"
            ],
            [
             0.1111111111111111,
             "#46039f"
            ],
            [
             0.2222222222222222,
             "#7201a8"
            ],
            [
             0.3333333333333333,
             "#9c179e"
            ],
            [
             0.4444444444444444,
             "#bd3786"
            ],
            [
             0.5555555555555556,
             "#d8576b"
            ],
            [
             0.6666666666666666,
             "#ed7953"
            ],
            [
             0.7777777777777778,
             "#fb9f3a"
            ],
            [
             0.8888888888888888,
             "#fdca26"
            ],
            [
             1,
             "#f0f921"
            ]
           ]
          },
          "colorway": [
           "#636efa",
           "#EF553B",
           "#00cc96",
           "#ab63fa",
           "#FFA15A",
           "#19d3f3",
           "#FF6692",
           "#B6E880",
           "#FF97FF",
           "#FECB52"
          ],
          "font": {
           "color": "#2a3f5f"
          },
          "geo": {
           "bgcolor": "white",
           "lakecolor": "white",
           "landcolor": "#E5ECF6",
           "showlakes": true,
           "showland": true,
           "subunitcolor": "white"
          },
          "hoverlabel": {
           "align": "left"
          },
          "hovermode": "closest",
          "mapbox": {
           "style": "light"
          },
          "paper_bgcolor": "white",
          "plot_bgcolor": "#E5ECF6",
          "polar": {
           "angularaxis": {
            "gridcolor": "white",
            "linecolor": "white",
            "ticks": ""
           },
           "bgcolor": "#E5ECF6",
           "radialaxis": {
            "gridcolor": "white",
            "linecolor": "white",
            "ticks": ""
           }
          },
          "scene": {
           "xaxis": {
            "backgroundcolor": "#E5ECF6",
            "gridcolor": "white",
            "gridwidth": 2,
            "linecolor": "white",
            "showbackground": true,
            "ticks": "",
            "zerolinecolor": "white"
           },
           "yaxis": {
            "backgroundcolor": "#E5ECF6",
            "gridcolor": "white",
            "gridwidth": 2,
            "linecolor": "white",
            "showbackground": true,
            "ticks": "",
            "zerolinecolor": "white"
           },
           "zaxis": {
            "backgroundcolor": "#E5ECF6",
            "gridcolor": "white",
            "gridwidth": 2,
            "linecolor": "white",
            "showbackground": true,
            "ticks": "",
            "zerolinecolor": "white"
           }
          },
          "shapedefaults": {
           "line": {
            "color": "#2a3f5f"
           }
          },
          "ternary": {
           "aaxis": {
            "gridcolor": "white",
            "linecolor": "white",
            "ticks": ""
           },
           "baxis": {
            "gridcolor": "white",
            "linecolor": "white",
            "ticks": ""
           },
           "bgcolor": "#E5ECF6",
           "caxis": {
            "gridcolor": "white",
            "linecolor": "white",
            "ticks": ""
           }
          },
          "title": {
           "x": 0.05
          },
          "xaxis": {
           "automargin": true,
           "gridcolor": "white",
           "linecolor": "white",
           "ticks": "",
           "title": {
            "standoff": 15
           },
           "zerolinecolor": "white",
           "zerolinewidth": 2
          },
          "yaxis": {
           "automargin": true,
           "gridcolor": "white",
           "linecolor": "white",
           "ticks": "",
           "title": {
            "standoff": 15
           },
           "zerolinecolor": "white",
           "zerolinewidth": 2
          }
         }
        },
        "title": {
         "text": "Top 20 Forwards Based on Composite Score"
        },
        "xaxis": {
         "anchor": "y",
         "domain": [
          0,
          1
         ],
         "title": {
          "text": "Played Id"
         }
        },
        "yaxis": {
         "anchor": "x",
         "domain": [
          0,
          1
         ],
         "title": {
          "text": "Composite Score"
         }
        }
       }
      }
     },
     "metadata": {},
     "output_type": "display_data"
    }
   ],
   "source": [
    "import plotly.express as px\n",
    "\n",
    "# Create a DataFrame for plotting\n",
    "top_20_forwards_df = pd.DataFrame(top_20_forwards, columns=['Played_Id', 'CompositeScore'])\n",
    "\n",
    "# Create a scatter plot\n",
    "fig = px.scatter(\n",
    "    top_20_forwards_df,\n",
    "    x='Played_Id',\n",
    "    y='CompositeScore',\n",
    "    hover_name='Played_Id',\n",
    "    hover_data={'CompositeScore': True, 'Played_Id': False},\n",
    "    title='Top 20 Forwards Based on Composite Score',\n",
    "    labels={'Played_Id': 'Played Id', 'CompositeScore': 'Composite Score'},\n",
    ")\n",
    "\n",
    "# Update layout to show markers and remove text from the plot\n",
    "fig.update_traces(marker=dict(size=12, color='royalblue', line=dict(width=2, color='DarkSlateGrey')))\n",
    "\n",
    "# Show the plot\n",
    "fig.show()\n"
   ]
  },
  {
   "cell_type": "markdown",
   "metadata": {},
   "source": [
    "# Predictive Analysis"
   ]
  },
  {
   "cell_type": "code",
   "execution_count": 132,
   "metadata": {},
   "outputs": [
    {
     "name": "stdout",
     "output_type": "stream",
     "text": [
      "Perfect Team Based on Composite Scores:\n",
      "       Played_Id    Position  CompositeScore\n",
      "9285        4572  goalkeeper        3.668114\n",
      "4211        4211    defender        3.836257\n",
      "5223        4490    defender        3.678363\n",
      "9396         868    defender        3.647510\n",
      "439          439    defender        3.643880\n",
      "16580       3808  midfielder        3.787356\n",
      "15380        984  midfielder        3.528265\n",
      "1737        1737  midfielder        3.450472\n",
      "4036        4036  midfielder        3.391039\n",
      "10143       2560     forward        4.356308\n",
      "10321       4415     forward        3.810151\n"
     ]
    },
    {
     "data": {
      "application/vnd.plotly.v1+json": {
       "config": {
        "plotlyServerURL": "https://plot.ly"
       },
       "data": [
        {
         "customdata": [
          [
           "Goalkeeper"
          ]
         ],
         "hovertemplate": "<b>%{hovertext}</b><br><br>Position=%{customdata[0]}<br>Composite Score=%{y}<extra></extra>",
         "hovertext": [
          4572
         ],
         "legendgroup": "Goalkeeper",
         "marker": {
          "color": "#636efa",
          "line": {
           "width": 2
          },
          "size": 12,
          "symbol": "circle"
         },
         "mode": "markers",
         "name": "Goalkeeper",
         "orientation": "v",
         "showlegend": true,
         "type": "scatter",
         "x": [
          4572
         ],
         "xaxis": "x",
         "y": [
          3.668113682932849
         ],
         "yaxis": "y"
        },
        {
         "customdata": [
          [
           "Defender"
          ],
          [
           "Defender"
          ],
          [
           "Defender"
          ],
          [
           "Defender"
          ]
         ],
         "hovertemplate": "<b>%{hovertext}</b><br><br>Position=%{customdata[0]}<br>Composite Score=%{y}<extra></extra>",
         "hovertext": [
          4211,
          4490,
          868,
          439
         ],
         "legendgroup": "Defender",
         "marker": {
          "color": "#EF553B",
          "line": {
           "width": 2
          },
          "size": 12,
          "symbol": "circle"
         },
         "mode": "markers",
         "name": "Defender",
         "orientation": "v",
         "showlegend": true,
         "type": "scatter",
         "x": [
          4211,
          4490,
          868,
          439
         ],
         "xaxis": "x",
         "y": [
          3.8362573099415203,
          3.678362573099415,
          3.647509578544061,
          3.6438798144787254
         ],
         "yaxis": "y"
        },
        {
         "customdata": [
          [
           "Midfielder"
          ],
          [
           "Midfielder"
          ],
          [
           "Midfielder"
          ],
          [
           "Midfielder"
          ]
         ],
         "hovertemplate": "<b>%{hovertext}</b><br><br>Position=%{customdata[0]}<br>Composite Score=%{y}<extra></extra>",
         "hovertext": [
          3808,
          984,
          1737,
          4036
         ],
         "legendgroup": "Midfielder",
         "marker": {
          "color": "#00cc96",
          "line": {
           "width": 2
          },
          "size": 12,
          "symbol": "circle"
         },
         "mode": "markers",
         "name": "Midfielder",
         "orientation": "v",
         "showlegend": true,
         "type": "scatter",
         "x": [
          3808,
          984,
          1737,
          4036
         ],
         "xaxis": "x",
         "y": [
          3.7873561206380577,
          3.5282646931917196,
          3.4504719526135115,
          3.3910394196331874
         ],
         "yaxis": "y"
        },
        {
         "customdata": [
          [
           "Forward"
          ],
          [
           "Forward"
          ]
         ],
         "hovertemplate": "<b>%{hovertext}</b><br><br>Position=%{customdata[0]}<br>Composite Score=%{y}<extra></extra>",
         "hovertext": [
          2560,
          4415
         ],
         "legendgroup": "Forward",
         "marker": {
          "color": "#ab63fa",
          "line": {
           "width": 2
          },
          "size": 12,
          "symbol": "circle"
         },
         "mode": "markers",
         "name": "Forward",
         "orientation": "v",
         "showlegend": true,
         "type": "scatter",
         "x": [
          2560,
          4415
         ],
         "xaxis": "x",
         "y": [
          4.356308346834483,
          3.8101512505844504
         ],
         "yaxis": "y"
        }
       ],
       "layout": {
        "legend": {
         "title": {
          "text": "Position"
         },
         "tracegroupgap": 0
        },
        "template": {
         "data": {
          "bar": [
           {
            "error_x": {
             "color": "#2a3f5f"
            },
            "error_y": {
             "color": "#2a3f5f"
            },
            "marker": {
             "line": {
              "color": "#E5ECF6",
              "width": 0.5
             },
             "pattern": {
              "fillmode": "overlay",
              "size": 10,
              "solidity": 0.2
             }
            },
            "type": "bar"
           }
          ],
          "barpolar": [
           {
            "marker": {
             "line": {
              "color": "#E5ECF6",
              "width": 0.5
             },
             "pattern": {
              "fillmode": "overlay",
              "size": 10,
              "solidity": 0.2
             }
            },
            "type": "barpolar"
           }
          ],
          "carpet": [
           {
            "aaxis": {
             "endlinecolor": "#2a3f5f",
             "gridcolor": "white",
             "linecolor": "white",
             "minorgridcolor": "white",
             "startlinecolor": "#2a3f5f"
            },
            "baxis": {
             "endlinecolor": "#2a3f5f",
             "gridcolor": "white",
             "linecolor": "white",
             "minorgridcolor": "white",
             "startlinecolor": "#2a3f5f"
            },
            "type": "carpet"
           }
          ],
          "choropleth": [
           {
            "colorbar": {
             "outlinewidth": 0,
             "ticks": ""
            },
            "type": "choropleth"
           }
          ],
          "contour": [
           {
            "colorbar": {
             "outlinewidth": 0,
             "ticks": ""
            },
            "colorscale": [
             [
              0,
              "#0d0887"
             ],
             [
              0.1111111111111111,
              "#46039f"
             ],
             [
              0.2222222222222222,
              "#7201a8"
             ],
             [
              0.3333333333333333,
              "#9c179e"
             ],
             [
              0.4444444444444444,
              "#bd3786"
             ],
             [
              0.5555555555555556,
              "#d8576b"
             ],
             [
              0.6666666666666666,
              "#ed7953"
             ],
             [
              0.7777777777777778,
              "#fb9f3a"
             ],
             [
              0.8888888888888888,
              "#fdca26"
             ],
             [
              1,
              "#f0f921"
             ]
            ],
            "type": "contour"
           }
          ],
          "contourcarpet": [
           {
            "colorbar": {
             "outlinewidth": 0,
             "ticks": ""
            },
            "type": "contourcarpet"
           }
          ],
          "heatmap": [
           {
            "colorbar": {
             "outlinewidth": 0,
             "ticks": ""
            },
            "colorscale": [
             [
              0,
              "#0d0887"
             ],
             [
              0.1111111111111111,
              "#46039f"
             ],
             [
              0.2222222222222222,
              "#7201a8"
             ],
             [
              0.3333333333333333,
              "#9c179e"
             ],
             [
              0.4444444444444444,
              "#bd3786"
             ],
             [
              0.5555555555555556,
              "#d8576b"
             ],
             [
              0.6666666666666666,
              "#ed7953"
             ],
             [
              0.7777777777777778,
              "#fb9f3a"
             ],
             [
              0.8888888888888888,
              "#fdca26"
             ],
             [
              1,
              "#f0f921"
             ]
            ],
            "type": "heatmap"
           }
          ],
          "heatmapgl": [
           {
            "colorbar": {
             "outlinewidth": 0,
             "ticks": ""
            },
            "colorscale": [
             [
              0,
              "#0d0887"
             ],
             [
              0.1111111111111111,
              "#46039f"
             ],
             [
              0.2222222222222222,
              "#7201a8"
             ],
             [
              0.3333333333333333,
              "#9c179e"
             ],
             [
              0.4444444444444444,
              "#bd3786"
             ],
             [
              0.5555555555555556,
              "#d8576b"
             ],
             [
              0.6666666666666666,
              "#ed7953"
             ],
             [
              0.7777777777777778,
              "#fb9f3a"
             ],
             [
              0.8888888888888888,
              "#fdca26"
             ],
             [
              1,
              "#f0f921"
             ]
            ],
            "type": "heatmapgl"
           }
          ],
          "histogram": [
           {
            "marker": {
             "pattern": {
              "fillmode": "overlay",
              "size": 10,
              "solidity": 0.2
             }
            },
            "type": "histogram"
           }
          ],
          "histogram2d": [
           {
            "colorbar": {
             "outlinewidth": 0,
             "ticks": ""
            },
            "colorscale": [
             [
              0,
              "#0d0887"
             ],
             [
              0.1111111111111111,
              "#46039f"
             ],
             [
              0.2222222222222222,
              "#7201a8"
             ],
             [
              0.3333333333333333,
              "#9c179e"
             ],
             [
              0.4444444444444444,
              "#bd3786"
             ],
             [
              0.5555555555555556,
              "#d8576b"
             ],
             [
              0.6666666666666666,
              "#ed7953"
             ],
             [
              0.7777777777777778,
              "#fb9f3a"
             ],
             [
              0.8888888888888888,
              "#fdca26"
             ],
             [
              1,
              "#f0f921"
             ]
            ],
            "type": "histogram2d"
           }
          ],
          "histogram2dcontour": [
           {
            "colorbar": {
             "outlinewidth": 0,
             "ticks": ""
            },
            "colorscale": [
             [
              0,
              "#0d0887"
             ],
             [
              0.1111111111111111,
              "#46039f"
             ],
             [
              0.2222222222222222,
              "#7201a8"
             ],
             [
              0.3333333333333333,
              "#9c179e"
             ],
             [
              0.4444444444444444,
              "#bd3786"
             ],
             [
              0.5555555555555556,
              "#d8576b"
             ],
             [
              0.6666666666666666,
              "#ed7953"
             ],
             [
              0.7777777777777778,
              "#fb9f3a"
             ],
             [
              0.8888888888888888,
              "#fdca26"
             ],
             [
              1,
              "#f0f921"
             ]
            ],
            "type": "histogram2dcontour"
           }
          ],
          "mesh3d": [
           {
            "colorbar": {
             "outlinewidth": 0,
             "ticks": ""
            },
            "type": "mesh3d"
           }
          ],
          "parcoords": [
           {
            "line": {
             "colorbar": {
              "outlinewidth": 0,
              "ticks": ""
             }
            },
            "type": "parcoords"
           }
          ],
          "pie": [
           {
            "automargin": true,
            "type": "pie"
           }
          ],
          "scatter": [
           {
            "fillpattern": {
             "fillmode": "overlay",
             "size": 10,
             "solidity": 0.2
            },
            "type": "scatter"
           }
          ],
          "scatter3d": [
           {
            "line": {
             "colorbar": {
              "outlinewidth": 0,
              "ticks": ""
             }
            },
            "marker": {
             "colorbar": {
              "outlinewidth": 0,
              "ticks": ""
             }
            },
            "type": "scatter3d"
           }
          ],
          "scattercarpet": [
           {
            "marker": {
             "colorbar": {
              "outlinewidth": 0,
              "ticks": ""
             }
            },
            "type": "scattercarpet"
           }
          ],
          "scattergeo": [
           {
            "marker": {
             "colorbar": {
              "outlinewidth": 0,
              "ticks": ""
             }
            },
            "type": "scattergeo"
           }
          ],
          "scattergl": [
           {
            "marker": {
             "colorbar": {
              "outlinewidth": 0,
              "ticks": ""
             }
            },
            "type": "scattergl"
           }
          ],
          "scattermapbox": [
           {
            "marker": {
             "colorbar": {
              "outlinewidth": 0,
              "ticks": ""
             }
            },
            "type": "scattermapbox"
           }
          ],
          "scatterpolar": [
           {
            "marker": {
             "colorbar": {
              "outlinewidth": 0,
              "ticks": ""
             }
            },
            "type": "scatterpolar"
           }
          ],
          "scatterpolargl": [
           {
            "marker": {
             "colorbar": {
              "outlinewidth": 0,
              "ticks": ""
             }
            },
            "type": "scatterpolargl"
           }
          ],
          "scatterternary": [
           {
            "marker": {
             "colorbar": {
              "outlinewidth": 0,
              "ticks": ""
             }
            },
            "type": "scatterternary"
           }
          ],
          "surface": [
           {
            "colorbar": {
             "outlinewidth": 0,
             "ticks": ""
            },
            "colorscale": [
             [
              0,
              "#0d0887"
             ],
             [
              0.1111111111111111,
              "#46039f"
             ],
             [
              0.2222222222222222,
              "#7201a8"
             ],
             [
              0.3333333333333333,
              "#9c179e"
             ],
             [
              0.4444444444444444,
              "#bd3786"
             ],
             [
              0.5555555555555556,
              "#d8576b"
             ],
             [
              0.6666666666666666,
              "#ed7953"
             ],
             [
              0.7777777777777778,
              "#fb9f3a"
             ],
             [
              0.8888888888888888,
              "#fdca26"
             ],
             [
              1,
              "#f0f921"
             ]
            ],
            "type": "surface"
           }
          ],
          "table": [
           {
            "cells": {
             "fill": {
              "color": "#EBF0F8"
             },
             "line": {
              "color": "white"
             }
            },
            "header": {
             "fill": {
              "color": "#C8D4E3"
             },
             "line": {
              "color": "white"
             }
            },
            "type": "table"
           }
          ]
         },
         "layout": {
          "annotationdefaults": {
           "arrowcolor": "#2a3f5f",
           "arrowhead": 0,
           "arrowwidth": 1
          },
          "autotypenumbers": "strict",
          "coloraxis": {
           "colorbar": {
            "outlinewidth": 0,
            "ticks": ""
           }
          },
          "colorscale": {
           "diverging": [
            [
             0,
             "#8e0152"
            ],
            [
             0.1,
             "#c51b7d"
            ],
            [
             0.2,
             "#de77ae"
            ],
            [
             0.3,
             "#f1b6da"
            ],
            [
             0.4,
             "#fde0ef"
            ],
            [
             0.5,
             "#f7f7f7"
            ],
            [
             0.6,
             "#e6f5d0"
            ],
            [
             0.7,
             "#b8e186"
            ],
            [
             0.8,
             "#7fbc41"
            ],
            [
             0.9,
             "#4d9221"
            ],
            [
             1,
             "#276419"
            ]
           ],
           "sequential": [
            [
             0,
             "#0d0887"
            ],
            [
             0.1111111111111111,
             "#46039f"
            ],
            [
             0.2222222222222222,
             "#7201a8"
            ],
            [
             0.3333333333333333,
             "#9c179e"
            ],
            [
             0.4444444444444444,
             "#bd3786"
            ],
            [
             0.5555555555555556,
             "#d8576b"
            ],
            [
             0.6666666666666666,
             "#ed7953"
            ],
            [
             0.7777777777777778,
             "#fb9f3a"
            ],
            [
             0.8888888888888888,
             "#fdca26"
            ],
            [
             1,
             "#f0f921"
            ]
           ],
           "sequentialminus": [
            [
             0,
             "#0d0887"
            ],
            [
             0.1111111111111111,
             "#46039f"
            ],
            [
             0.2222222222222222,
             "#7201a8"
            ],
            [
             0.3333333333333333,
             "#9c179e"
            ],
            [
             0.4444444444444444,
             "#bd3786"
            ],
            [
             0.5555555555555556,
             "#d8576b"
            ],
            [
             0.6666666666666666,
             "#ed7953"
            ],
            [
             0.7777777777777778,
             "#fb9f3a"
            ],
            [
             0.8888888888888888,
             "#fdca26"
            ],
            [
             1,
             "#f0f921"
            ]
           ]
          },
          "colorway": [
           "#636efa",
           "#EF553B",
           "#00cc96",
           "#ab63fa",
           "#FFA15A",
           "#19d3f3",
           "#FF6692",
           "#B6E880",
           "#FF97FF",
           "#FECB52"
          ],
          "font": {
           "color": "#2a3f5f"
          },
          "geo": {
           "bgcolor": "white",
           "lakecolor": "white",
           "landcolor": "#E5ECF6",
           "showlakes": true,
           "showland": true,
           "subunitcolor": "white"
          },
          "hoverlabel": {
           "align": "left"
          },
          "hovermode": "closest",
          "mapbox": {
           "style": "light"
          },
          "paper_bgcolor": "white",
          "plot_bgcolor": "#E5ECF6",
          "polar": {
           "angularaxis": {
            "gridcolor": "white",
            "linecolor": "white",
            "ticks": ""
           },
           "bgcolor": "#E5ECF6",
           "radialaxis": {
            "gridcolor": "white",
            "linecolor": "white",
            "ticks": ""
           }
          },
          "scene": {
           "xaxis": {
            "backgroundcolor": "#E5ECF6",
            "gridcolor": "white",
            "gridwidth": 2,
            "linecolor": "white",
            "showbackground": true,
            "ticks": "",
            "zerolinecolor": "white"
           },
           "yaxis": {
            "backgroundcolor": "#E5ECF6",
            "gridcolor": "white",
            "gridwidth": 2,
            "linecolor": "white",
            "showbackground": true,
            "ticks": "",
            "zerolinecolor": "white"
           },
           "zaxis": {
            "backgroundcolor": "#E5ECF6",
            "gridcolor": "white",
            "gridwidth": 2,
            "linecolor": "white",
            "showbackground": true,
            "ticks": "",
            "zerolinecolor": "white"
           }
          },
          "shapedefaults": {
           "line": {
            "color": "#2a3f5f"
           }
          },
          "ternary": {
           "aaxis": {
            "gridcolor": "white",
            "linecolor": "white",
            "ticks": ""
           },
           "baxis": {
            "gridcolor": "white",
            "linecolor": "white",
            "ticks": ""
           },
           "bgcolor": "#E5ECF6",
           "caxis": {
            "gridcolor": "white",
            "linecolor": "white",
            "ticks": ""
           }
          },
          "title": {
           "x": 0.05
          },
          "xaxis": {
           "automargin": true,
           "gridcolor": "white",
           "linecolor": "white",
           "ticks": "",
           "title": {
            "standoff": 15
           },
           "zerolinecolor": "white",
           "zerolinewidth": 2
          },
          "yaxis": {
           "automargin": true,
           "gridcolor": "white",
           "linecolor": "white",
           "ticks": "",
           "title": {
            "standoff": 15
           },
           "zerolinecolor": "white",
           "zerolinewidth": 2
          }
         }
        },
        "title": {
         "text": "Perfect Team Based on Composite Scores"
        },
        "xaxis": {
         "anchor": "y",
         "domain": [
          0,
          1
         ],
         "title": {
          "text": "Played Id"
         }
        },
        "yaxis": {
         "anchor": "x",
         "domain": [
          0,
          1
         ],
         "title": {
          "text": "Composite Score"
         }
        }
       }
      }
     },
     "metadata": {},
     "output_type": "display_data"
    }
   ],
   "source": [
    "best_goalkeeper = top_20_goalkeepers.head(1)\n",
    "\n",
    "# Defenders\n",
    "best_defenders = top_20_defenders.head(4)\n",
    "\n",
    "# Midfielders\n",
    "best_midfielders = top_20_midfielders.head(4)\n",
    "\n",
    "# Forwards\n",
    "best_forwards = top_20_forwards.head(2)\n",
    "\n",
    "# Combine all selected players into a final team DataFrame\n",
    "perfect_team = pd.concat([best_goalkeeper, best_defenders, best_midfielders, best_forwards])\n",
    "\n",
    "# Display the final team\n",
    "print(\"Perfect Team Based on Composite Scores:\")\n",
    "print(perfect_team[['Played_Id','Position', 'CompositeScore']])\n",
    "\n",
    "# Visualize the selected team\n",
    "import plotly.express as px\n",
    "\n",
    "# Adding a position column for better visualization\n",
    "positions = ['Goalkeeper'] * len(best_goalkeeper) + ['Defender'] * len(best_defenders) + ['Midfielder'] * len(best_midfielders) + ['Forward'] * len(best_forwards)\n",
    "perfect_team['Position'] = positions\n",
    "\n",
    "fig = px.scatter(\n",
    "    perfect_team,\n",
    "    x='Played_Id',\n",
    "    y='CompositeScore',\n",
    "    color='Position',\n",
    "    hover_name='Played_Id',\n",
    "    hover_data={'CompositeScore': True, 'Played_Id': False, 'Position': True},\n",
    "    title='Perfect Team Based on Composite Scores',\n",
    "    labels={'Played_Id': 'Played Id', 'CompositeScore': 'Composite Score'},\n",
    ")\n",
    "\n",
    "fig.update_traces(marker=dict(size=12, line=dict(width=2)))\n",
    "\n",
    "fig.show()\n"
   ]
  },
  {
   "cell_type": "code",
   "execution_count": 134,
   "metadata": {},
   "outputs": [
    {
     "name": "stdout",
     "output_type": "stream",
     "text": [
      "Next Perfect Team Based on Composite Scores:\n",
      "       Played_Id    Position  CompositeScore\n",
      "16509        214  goalkeeper        3.478564\n",
      "985          985    defender        3.619883\n",
      "4868        4868    defender        3.568058\n",
      "12393       2623    defender        3.564428\n",
      "1007        1007    defender        3.446461\n",
      "1797        1797  midfielder        3.338145\n",
      "31            31  midfielder        3.314613\n",
      "15717       1852  midfielder        3.310443\n",
      "7523        2524  midfielder        3.291771\n",
      "1123        1123     forward        3.663677\n",
      "960          960     forward        3.602684\n"
     ]
    },
    {
     "data": {
      "application/vnd.plotly.v1+json": {
       "config": {
        "plotlyServerURL": "https://plot.ly"
       },
       "data": [
        {
         "customdata": [
          [
           "Goalkeeper"
          ]
         ],
         "hovertemplate": "<b>%{hovertext}</b><br><br>Position=%{customdata[0]}<br>Composite Score=%{y}<extra></extra>",
         "hovertext": [
          214
         ],
         "legendgroup": "Goalkeeper",
         "marker": {
          "color": "#636efa",
          "line": {
           "width": 2
          },
          "size": 12,
          "symbol": "circle"
         },
         "mode": "markers",
         "name": "Goalkeeper",
         "orientation": "v",
         "showlegend": true,
         "type": "scatter",
         "x": [
          214
         ],
         "xaxis": "x",
         "y": [
          3.478563778634495
         ],
         "yaxis": "y"
        },
        {
         "customdata": [
          [
           "Defender"
          ],
          [
           "Defender"
          ],
          [
           "Defender"
          ],
          [
           "Defender"
          ]
         ],
         "hovertemplate": "<b>%{hovertext}</b><br><br>Position=%{customdata[0]}<br>Composite Score=%{y}<extra></extra>",
         "hovertext": [
          985,
          4868,
          2623,
          1007
         ],
         "legendgroup": "Defender",
         "marker": {
          "color": "#EF553B",
          "line": {
           "width": 2
          },
          "size": 12,
          "symbol": "circle"
         },
         "mode": "markers",
         "name": "Defender",
         "orientation": "v",
         "showlegend": true,
         "type": "scatter",
         "x": [
          985,
          4868,
          2623,
          1007
         ],
         "xaxis": "x",
         "y": [
          3.6198830409356724,
          3.5680580762250456,
          3.5644283121597096,
          3.4464609800362975
         ],
         "yaxis": "y"
        },
        {
         "customdata": [
          [
           "Midfielder"
          ],
          [
           "Midfielder"
          ],
          [
           "Midfielder"
          ],
          [
           "Midfielder"
          ]
         ],
         "hovertemplate": "<b>%{hovertext}</b><br><br>Position=%{customdata[0]}<br>Composite Score=%{y}<extra></extra>",
         "hovertext": [
          1797,
          31,
          1852,
          2524
         ],
         "legendgroup": "Midfielder",
         "marker": {
          "color": "#00cc96",
          "line": {
           "width": 2
          },
          "size": 12,
          "symbol": "circle"
         },
         "mode": "markers",
         "name": "Midfielder",
         "orientation": "v",
         "showlegend": true,
         "type": "scatter",
         "x": [
          1797,
          31,
          1852,
          2524
         ],
         "xaxis": "x",
         "y": [
          3.3381450306981164,
          3.3146128566814212,
          3.310442563966335,
          3.291771018106443
         ],
         "yaxis": "y"
        },
        {
         "customdata": [
          [
           "Forward"
          ],
          [
           "Forward"
          ]
         ],
         "hovertemplate": "<b>%{hovertext}</b><br><br>Position=%{customdata[0]}<br>Composite Score=%{y}<extra></extra>",
         "hovertext": [
          1123,
          960
         ],
         "legendgroup": "Forward",
         "marker": {
          "color": "#ab63fa",
          "line": {
           "width": 2
          },
          "size": 12,
          "symbol": "circle"
         },
         "mode": "markers",
         "name": "Forward",
         "orientation": "v",
         "showlegend": true,
         "type": "scatter",
         "x": [
          1123,
          960
         ],
         "xaxis": "x",
         "y": [
          3.66367683739926,
          3.6026844651077043
         ],
         "yaxis": "y"
        }
       ],
       "layout": {
        "legend": {
         "title": {
          "text": "Position"
         },
         "tracegroupgap": 0
        },
        "template": {
         "data": {
          "bar": [
           {
            "error_x": {
             "color": "#2a3f5f"
            },
            "error_y": {
             "color": "#2a3f5f"
            },
            "marker": {
             "line": {
              "color": "#E5ECF6",
              "width": 0.5
             },
             "pattern": {
              "fillmode": "overlay",
              "size": 10,
              "solidity": 0.2
             }
            },
            "type": "bar"
           }
          ],
          "barpolar": [
           {
            "marker": {
             "line": {
              "color": "#E5ECF6",
              "width": 0.5
             },
             "pattern": {
              "fillmode": "overlay",
              "size": 10,
              "solidity": 0.2
             }
            },
            "type": "barpolar"
           }
          ],
          "carpet": [
           {
            "aaxis": {
             "endlinecolor": "#2a3f5f",
             "gridcolor": "white",
             "linecolor": "white",
             "minorgridcolor": "white",
             "startlinecolor": "#2a3f5f"
            },
            "baxis": {
             "endlinecolor": "#2a3f5f",
             "gridcolor": "white",
             "linecolor": "white",
             "minorgridcolor": "white",
             "startlinecolor": "#2a3f5f"
            },
            "type": "carpet"
           }
          ],
          "choropleth": [
           {
            "colorbar": {
             "outlinewidth": 0,
             "ticks": ""
            },
            "type": "choropleth"
           }
          ],
          "contour": [
           {
            "colorbar": {
             "outlinewidth": 0,
             "ticks": ""
            },
            "colorscale": [
             [
              0,
              "#0d0887"
             ],
             [
              0.1111111111111111,
              "#46039f"
             ],
             [
              0.2222222222222222,
              "#7201a8"
             ],
             [
              0.3333333333333333,
              "#9c179e"
             ],
             [
              0.4444444444444444,
              "#bd3786"
             ],
             [
              0.5555555555555556,
              "#d8576b"
             ],
             [
              0.6666666666666666,
              "#ed7953"
             ],
             [
              0.7777777777777778,
              "#fb9f3a"
             ],
             [
              0.8888888888888888,
              "#fdca26"
             ],
             [
              1,
              "#f0f921"
             ]
            ],
            "type": "contour"
           }
          ],
          "contourcarpet": [
           {
            "colorbar": {
             "outlinewidth": 0,
             "ticks": ""
            },
            "type": "contourcarpet"
           }
          ],
          "heatmap": [
           {
            "colorbar": {
             "outlinewidth": 0,
             "ticks": ""
            },
            "colorscale": [
             [
              0,
              "#0d0887"
             ],
             [
              0.1111111111111111,
              "#46039f"
             ],
             [
              0.2222222222222222,
              "#7201a8"
             ],
             [
              0.3333333333333333,
              "#9c179e"
             ],
             [
              0.4444444444444444,
              "#bd3786"
             ],
             [
              0.5555555555555556,
              "#d8576b"
             ],
             [
              0.6666666666666666,
              "#ed7953"
             ],
             [
              0.7777777777777778,
              "#fb9f3a"
             ],
             [
              0.8888888888888888,
              "#fdca26"
             ],
             [
              1,
              "#f0f921"
             ]
            ],
            "type": "heatmap"
           }
          ],
          "heatmapgl": [
           {
            "colorbar": {
             "outlinewidth": 0,
             "ticks": ""
            },
            "colorscale": [
             [
              0,
              "#0d0887"
             ],
             [
              0.1111111111111111,
              "#46039f"
             ],
             [
              0.2222222222222222,
              "#7201a8"
             ],
             [
              0.3333333333333333,
              "#9c179e"
             ],
             [
              0.4444444444444444,
              "#bd3786"
             ],
             [
              0.5555555555555556,
              "#d8576b"
             ],
             [
              0.6666666666666666,
              "#ed7953"
             ],
             [
              0.7777777777777778,
              "#fb9f3a"
             ],
             [
              0.8888888888888888,
              "#fdca26"
             ],
             [
              1,
              "#f0f921"
             ]
            ],
            "type": "heatmapgl"
           }
          ],
          "histogram": [
           {
            "marker": {
             "pattern": {
              "fillmode": "overlay",
              "size": 10,
              "solidity": 0.2
             }
            },
            "type": "histogram"
           }
          ],
          "histogram2d": [
           {
            "colorbar": {
             "outlinewidth": 0,
             "ticks": ""
            },
            "colorscale": [
             [
              0,
              "#0d0887"
             ],
             [
              0.1111111111111111,
              "#46039f"
             ],
             [
              0.2222222222222222,
              "#7201a8"
             ],
             [
              0.3333333333333333,
              "#9c179e"
             ],
             [
              0.4444444444444444,
              "#bd3786"
             ],
             [
              0.5555555555555556,
              "#d8576b"
             ],
             [
              0.6666666666666666,
              "#ed7953"
             ],
             [
              0.7777777777777778,
              "#fb9f3a"
             ],
             [
              0.8888888888888888,
              "#fdca26"
             ],
             [
              1,
              "#f0f921"
             ]
            ],
            "type": "histogram2d"
           }
          ],
          "histogram2dcontour": [
           {
            "colorbar": {
             "outlinewidth": 0,
             "ticks": ""
            },
            "colorscale": [
             [
              0,
              "#0d0887"
             ],
             [
              0.1111111111111111,
              "#46039f"
             ],
             [
              0.2222222222222222,
              "#7201a8"
             ],
             [
              0.3333333333333333,
              "#9c179e"
             ],
             [
              0.4444444444444444,
              "#bd3786"
             ],
             [
              0.5555555555555556,
              "#d8576b"
             ],
             [
              0.6666666666666666,
              "#ed7953"
             ],
             [
              0.7777777777777778,
              "#fb9f3a"
             ],
             [
              0.8888888888888888,
              "#fdca26"
             ],
             [
              1,
              "#f0f921"
             ]
            ],
            "type": "histogram2dcontour"
           }
          ],
          "mesh3d": [
           {
            "colorbar": {
             "outlinewidth": 0,
             "ticks": ""
            },
            "type": "mesh3d"
           }
          ],
          "parcoords": [
           {
            "line": {
             "colorbar": {
              "outlinewidth": 0,
              "ticks": ""
             }
            },
            "type": "parcoords"
           }
          ],
          "pie": [
           {
            "automargin": true,
            "type": "pie"
           }
          ],
          "scatter": [
           {
            "fillpattern": {
             "fillmode": "overlay",
             "size": 10,
             "solidity": 0.2
            },
            "type": "scatter"
           }
          ],
          "scatter3d": [
           {
            "line": {
             "colorbar": {
              "outlinewidth": 0,
              "ticks": ""
             }
            },
            "marker": {
             "colorbar": {
              "outlinewidth": 0,
              "ticks": ""
             }
            },
            "type": "scatter3d"
           }
          ],
          "scattercarpet": [
           {
            "marker": {
             "colorbar": {
              "outlinewidth": 0,
              "ticks": ""
             }
            },
            "type": "scattercarpet"
           }
          ],
          "scattergeo": [
           {
            "marker": {
             "colorbar": {
              "outlinewidth": 0,
              "ticks": ""
             }
            },
            "type": "scattergeo"
           }
          ],
          "scattergl": [
           {
            "marker": {
             "colorbar": {
              "outlinewidth": 0,
              "ticks": ""
             }
            },
            "type": "scattergl"
           }
          ],
          "scattermapbox": [
           {
            "marker": {
             "colorbar": {
              "outlinewidth": 0,
              "ticks": ""
             }
            },
            "type": "scattermapbox"
           }
          ],
          "scatterpolar": [
           {
            "marker": {
             "colorbar": {
              "outlinewidth": 0,
              "ticks": ""
             }
            },
            "type": "scatterpolar"
           }
          ],
          "scatterpolargl": [
           {
            "marker": {
             "colorbar": {
              "outlinewidth": 0,
              "ticks": ""
             }
            },
            "type": "scatterpolargl"
           }
          ],
          "scatterternary": [
           {
            "marker": {
             "colorbar": {
              "outlinewidth": 0,
              "ticks": ""
             }
            },
            "type": "scatterternary"
           }
          ],
          "surface": [
           {
            "colorbar": {
             "outlinewidth": 0,
             "ticks": ""
            },
            "colorscale": [
             [
              0,
              "#0d0887"
             ],
             [
              0.1111111111111111,
              "#46039f"
             ],
             [
              0.2222222222222222,
              "#7201a8"
             ],
             [
              0.3333333333333333,
              "#9c179e"
             ],
             [
              0.4444444444444444,
              "#bd3786"
             ],
             [
              0.5555555555555556,
              "#d8576b"
             ],
             [
              0.6666666666666666,
              "#ed7953"
             ],
             [
              0.7777777777777778,
              "#fb9f3a"
             ],
             [
              0.8888888888888888,
              "#fdca26"
             ],
             [
              1,
              "#f0f921"
             ]
            ],
            "type": "surface"
           }
          ],
          "table": [
           {
            "cells": {
             "fill": {
              "color": "#EBF0F8"
             },
             "line": {
              "color": "white"
             }
            },
            "header": {
             "fill": {
              "color": "#C8D4E3"
             },
             "line": {
              "color": "white"
             }
            },
            "type": "table"
           }
          ]
         },
         "layout": {
          "annotationdefaults": {
           "arrowcolor": "#2a3f5f",
           "arrowhead": 0,
           "arrowwidth": 1
          },
          "autotypenumbers": "strict",
          "coloraxis": {
           "colorbar": {
            "outlinewidth": 0,
            "ticks": ""
           }
          },
          "colorscale": {
           "diverging": [
            [
             0,
             "#8e0152"
            ],
            [
             0.1,
             "#c51b7d"
            ],
            [
             0.2,
             "#de77ae"
            ],
            [
             0.3,
             "#f1b6da"
            ],
            [
             0.4,
             "#fde0ef"
            ],
            [
             0.5,
             "#f7f7f7"
            ],
            [
             0.6,
             "#e6f5d0"
            ],
            [
             0.7,
             "#b8e186"
            ],
            [
             0.8,
             "#7fbc41"
            ],
            [
             0.9,
             "#4d9221"
            ],
            [
             1,
             "#276419"
            ]
           ],
           "sequential": [
            [
             0,
             "#0d0887"
            ],
            [
             0.1111111111111111,
             "#46039f"
            ],
            [
             0.2222222222222222,
             "#7201a8"
            ],
            [
             0.3333333333333333,
             "#9c179e"
            ],
            [
             0.4444444444444444,
             "#bd3786"
            ],
            [
             0.5555555555555556,
             "#d8576b"
            ],
            [
             0.6666666666666666,
             "#ed7953"
            ],
            [
             0.7777777777777778,
             "#fb9f3a"
            ],
            [
             0.8888888888888888,
             "#fdca26"
            ],
            [
             1,
             "#f0f921"
            ]
           ],
           "sequentialminus": [
            [
             0,
             "#0d0887"
            ],
            [
             0.1111111111111111,
             "#46039f"
            ],
            [
             0.2222222222222222,
             "#7201a8"
            ],
            [
             0.3333333333333333,
             "#9c179e"
            ],
            [
             0.4444444444444444,
             "#bd3786"
            ],
            [
             0.5555555555555556,
             "#d8576b"
            ],
            [
             0.6666666666666666,
             "#ed7953"
            ],
            [
             0.7777777777777778,
             "#fb9f3a"
            ],
            [
             0.8888888888888888,
             "#fdca26"
            ],
            [
             1,
             "#f0f921"
            ]
           ]
          },
          "colorway": [
           "#636efa",
           "#EF553B",
           "#00cc96",
           "#ab63fa",
           "#FFA15A",
           "#19d3f3",
           "#FF6692",
           "#B6E880",
           "#FF97FF",
           "#FECB52"
          ],
          "font": {
           "color": "#2a3f5f"
          },
          "geo": {
           "bgcolor": "white",
           "lakecolor": "white",
           "landcolor": "#E5ECF6",
           "showlakes": true,
           "showland": true,
           "subunitcolor": "white"
          },
          "hoverlabel": {
           "align": "left"
          },
          "hovermode": "closest",
          "mapbox": {
           "style": "light"
          },
          "paper_bgcolor": "white",
          "plot_bgcolor": "#E5ECF6",
          "polar": {
           "angularaxis": {
            "gridcolor": "white",
            "linecolor": "white",
            "ticks": ""
           },
           "bgcolor": "#E5ECF6",
           "radialaxis": {
            "gridcolor": "white",
            "linecolor": "white",
            "ticks": ""
           }
          },
          "scene": {
           "xaxis": {
            "backgroundcolor": "#E5ECF6",
            "gridcolor": "white",
            "gridwidth": 2,
            "linecolor": "white",
            "showbackground": true,
            "ticks": "",
            "zerolinecolor": "white"
           },
           "yaxis": {
            "backgroundcolor": "#E5ECF6",
            "gridcolor": "white",
            "gridwidth": 2,
            "linecolor": "white",
            "showbackground": true,
            "ticks": "",
            "zerolinecolor": "white"
           },
           "zaxis": {
            "backgroundcolor": "#E5ECF6",
            "gridcolor": "white",
            "gridwidth": 2,
            "linecolor": "white",
            "showbackground": true,
            "ticks": "",
            "zerolinecolor": "white"
           }
          },
          "shapedefaults": {
           "line": {
            "color": "#2a3f5f"
           }
          },
          "ternary": {
           "aaxis": {
            "gridcolor": "white",
            "linecolor": "white",
            "ticks": ""
           },
           "baxis": {
            "gridcolor": "white",
            "linecolor": "white",
            "ticks": ""
           },
           "bgcolor": "#E5ECF6",
           "caxis": {
            "gridcolor": "white",
            "linecolor": "white",
            "ticks": ""
           }
          },
          "title": {
           "x": 0.05
          },
          "xaxis": {
           "automargin": true,
           "gridcolor": "white",
           "linecolor": "white",
           "ticks": "",
           "title": {
            "standoff": 15
           },
           "zerolinecolor": "white",
           "zerolinewidth": 2
          },
          "yaxis": {
           "automargin": true,
           "gridcolor": "white",
           "linecolor": "white",
           "ticks": "",
           "title": {
            "standoff": 15
           },
           "zerolinecolor": "white",
           "zerolinewidth": 2
          }
         }
        },
        "title": {
         "text": "Next Perfect Team Based on Composite Scores"
        },
        "xaxis": {
         "anchor": "y",
         "domain": [
          0,
          1
         ],
         "title": {
          "text": "Played Id"
         }
        },
        "yaxis": {
         "anchor": "x",
         "domain": [
          0,
          1
         ],
         "title": {
          "text": "Composite Score"
         }
        }
       }
      }
     },
     "metadata": {},
     "output_type": "display_data"
    }
   ],
   "source": [
    "# Select next set of top players for each position based on the formation\n",
    "# Goalkeeper\n",
    "next_best_goalkeeper = top_20_goalkeepers.iloc[1:2]\n",
    "\n",
    "# Defenders\n",
    "next_best_defenders = top_20_defenders.iloc[4:8]\n",
    "\n",
    "# Midfielders\n",
    "next_best_midfielders = top_20_midfielders.iloc[4:8]\n",
    "\n",
    "# Forwards\n",
    "next_best_forwards = top_20_forwards.iloc[2:4]\n",
    "\n",
    "# Combine all selected players into a final team DataFrame\n",
    "next_perfect_team = pd.concat([next_best_goalkeeper, next_best_defenders, next_best_midfielders, next_best_forwards])\n",
    "\n",
    "# Display the final team\n",
    "print(\"Next Perfect Team Based on Composite Scores:\")\n",
    "print(next_perfect_team[['Played_Id','Position', 'CompositeScore']])\n",
    "\n",
    "# Visualize the selected team\n",
    "import plotly.express as px\n",
    "\n",
    "# Adding a position column for better visualization\n",
    "positions = ['Goalkeeper'] * len(next_best_goalkeeper) + ['Defender'] * len(next_best_defenders) + ['Midfielder'] * len(next_best_midfielders) + ['Forward'] * len(next_best_forwards)\n",
    "next_perfect_team['Position'] = positions\n",
    "\n",
    "fig = px.scatter(\n",
    "    next_perfect_team,\n",
    "    x='Played_Id',\n",
    "    y='CompositeScore',\n",
    "    color='Position',\n",
    "    hover_name='Played_Id',\n",
    "    hover_data={'CompositeScore': True, 'Played_Id': False, 'Position': True},\n",
    "    title='Next Perfect Team Based on Composite Scores',\n",
    "    labels={'Played_Id': 'Played Id', 'CompositeScore': 'Composite Score'},\n",
    ")\n",
    "\n",
    "fig.update_traces(marker=dict(size=12, line=dict(width=2)))\n",
    "\n",
    "fig.show()\n"
   ]
  },
  {
   "cell_type": "code",
   "execution_count": 135,
   "metadata": {},
   "outputs": [
    {
     "ename": "KeyError",
     "evalue": "'WinningPercentage'",
     "output_type": "error",
     "traceback": [
      "\u001b[1;31m---------------------------------------------------------------------------\u001b[0m",
      "\u001b[1;31mKeyError\u001b[0m                                  Traceback (most recent call last)",
      "File \u001b[1;32mc:\\Users\\madhu\\AppData\\Local\\Programs\\Python\\Python310\\lib\\site-packages\\pandas\\core\\indexes\\base.py:3803\u001b[0m, in \u001b[0;36mIndex.get_loc\u001b[1;34m(self, key, method, tolerance)\u001b[0m\n\u001b[0;32m   3802\u001b[0m \u001b[38;5;28;01mtry\u001b[39;00m:\n\u001b[1;32m-> 3803\u001b[0m     \u001b[38;5;28;01mreturn\u001b[39;00m \u001b[38;5;28;43mself\u001b[39;49m\u001b[38;5;241;43m.\u001b[39;49m\u001b[43m_engine\u001b[49m\u001b[38;5;241;43m.\u001b[39;49m\u001b[43mget_loc\u001b[49m\u001b[43m(\u001b[49m\u001b[43mcasted_key\u001b[49m\u001b[43m)\u001b[49m\n\u001b[0;32m   3804\u001b[0m \u001b[38;5;28;01mexcept\u001b[39;00m \u001b[38;5;167;01mKeyError\u001b[39;00m \u001b[38;5;28;01mas\u001b[39;00m err:\n",
      "File \u001b[1;32mc:\\Users\\madhu\\AppData\\Local\\Programs\\Python\\Python310\\lib\\site-packages\\pandas\\_libs\\index.pyx:138\u001b[0m, in \u001b[0;36mpandas._libs.index.IndexEngine.get_loc\u001b[1;34m()\u001b[0m\n",
      "File \u001b[1;32mc:\\Users\\madhu\\AppData\\Local\\Programs\\Python\\Python310\\lib\\site-packages\\pandas\\_libs\\index.pyx:165\u001b[0m, in \u001b[0;36mpandas._libs.index.IndexEngine.get_loc\u001b[1;34m()\u001b[0m\n",
      "File \u001b[1;32mpandas\\_libs\\hashtable_class_helper.pxi:5745\u001b[0m, in \u001b[0;36mpandas._libs.hashtable.PyObjectHashTable.get_item\u001b[1;34m()\u001b[0m\n",
      "File \u001b[1;32mpandas\\_libs\\hashtable_class_helper.pxi:5753\u001b[0m, in \u001b[0;36mpandas._libs.hashtable.PyObjectHashTable.get_item\u001b[1;34m()\u001b[0m\n",
      "\u001b[1;31mKeyError\u001b[0m: 'WinningPercentage'",
      "\nThe above exception was the direct cause of the following exception:\n",
      "\u001b[1;31mKeyError\u001b[0m                                  Traceback (most recent call last)",
      "Cell \u001b[1;32mIn [135], line 15\u001b[0m\n\u001b[0;32m     12\u001b[0m target \u001b[38;5;241m=\u001b[39m \u001b[38;5;124m'\u001b[39m\u001b[38;5;124mWinningPercentage\u001b[39m\u001b[38;5;124m'\u001b[39m  \u001b[38;5;66;03m# Replace 'WinningPercentage' with the actual target variable name\u001b[39;00m\n\u001b[0;32m     14\u001b[0m \u001b[38;5;66;03m# Split the data into training and testing sets\u001b[39;00m\n\u001b[1;32m---> 15\u001b[0m X_train, X_test, y_train, y_test \u001b[38;5;241m=\u001b[39m train_test_split(data[features], \u001b[43mdata\u001b[49m\u001b[43m[\u001b[49m\u001b[43mtarget\u001b[49m\u001b[43m]\u001b[49m, test_size\u001b[38;5;241m=\u001b[39m\u001b[38;5;241m0.2\u001b[39m, random_state\u001b[38;5;241m=\u001b[39m\u001b[38;5;241m42\u001b[39m)\n\u001b[0;32m     17\u001b[0m \u001b[38;5;66;03m# Initialize the Random Forest Regressor model\u001b[39;00m\n\u001b[0;32m     18\u001b[0m model \u001b[38;5;241m=\u001b[39m RandomForestRegressor(n_estimators\u001b[38;5;241m=\u001b[39m\u001b[38;5;241m100\u001b[39m, random_state\u001b[38;5;241m=\u001b[39m\u001b[38;5;241m42\u001b[39m)\n",
      "File \u001b[1;32mc:\\Users\\madhu\\AppData\\Local\\Programs\\Python\\Python310\\lib\\site-packages\\pandas\\core\\frame.py:3804\u001b[0m, in \u001b[0;36mDataFrame.__getitem__\u001b[1;34m(self, key)\u001b[0m\n\u001b[0;32m   3802\u001b[0m \u001b[38;5;28;01mif\u001b[39;00m \u001b[38;5;28mself\u001b[39m\u001b[38;5;241m.\u001b[39mcolumns\u001b[38;5;241m.\u001b[39mnlevels \u001b[38;5;241m>\u001b[39m \u001b[38;5;241m1\u001b[39m:\n\u001b[0;32m   3803\u001b[0m     \u001b[38;5;28;01mreturn\u001b[39;00m \u001b[38;5;28mself\u001b[39m\u001b[38;5;241m.\u001b[39m_getitem_multilevel(key)\n\u001b[1;32m-> 3804\u001b[0m indexer \u001b[38;5;241m=\u001b[39m \u001b[38;5;28;43mself\u001b[39;49m\u001b[38;5;241;43m.\u001b[39;49m\u001b[43mcolumns\u001b[49m\u001b[38;5;241;43m.\u001b[39;49m\u001b[43mget_loc\u001b[49m\u001b[43m(\u001b[49m\u001b[43mkey\u001b[49m\u001b[43m)\u001b[49m\n\u001b[0;32m   3805\u001b[0m \u001b[38;5;28;01mif\u001b[39;00m is_integer(indexer):\n\u001b[0;32m   3806\u001b[0m     indexer \u001b[38;5;241m=\u001b[39m [indexer]\n",
      "File \u001b[1;32mc:\\Users\\madhu\\AppData\\Local\\Programs\\Python\\Python310\\lib\\site-packages\\pandas\\core\\indexes\\base.py:3805\u001b[0m, in \u001b[0;36mIndex.get_loc\u001b[1;34m(self, key, method, tolerance)\u001b[0m\n\u001b[0;32m   3803\u001b[0m     \u001b[38;5;28;01mreturn\u001b[39;00m \u001b[38;5;28mself\u001b[39m\u001b[38;5;241m.\u001b[39m_engine\u001b[38;5;241m.\u001b[39mget_loc(casted_key)\n\u001b[0;32m   3804\u001b[0m \u001b[38;5;28;01mexcept\u001b[39;00m \u001b[38;5;167;01mKeyError\u001b[39;00m \u001b[38;5;28;01mas\u001b[39;00m err:\n\u001b[1;32m-> 3805\u001b[0m     \u001b[38;5;28;01mraise\u001b[39;00m \u001b[38;5;167;01mKeyError\u001b[39;00m(key) \u001b[38;5;28;01mfrom\u001b[39;00m \u001b[38;5;21;01merr\u001b[39;00m\n\u001b[0;32m   3806\u001b[0m \u001b[38;5;28;01mexcept\u001b[39;00m \u001b[38;5;167;01mTypeError\u001b[39;00m:\n\u001b[0;32m   3807\u001b[0m     \u001b[38;5;66;03m# If we have a listlike key, _check_indexing_error will raise\u001b[39;00m\n\u001b[0;32m   3808\u001b[0m     \u001b[38;5;66;03m#  InvalidIndexError. Otherwise we fall through and re-raise\u001b[39;00m\n\u001b[0;32m   3809\u001b[0m     \u001b[38;5;66;03m#  the TypeError.\u001b[39;00m\n\u001b[0;32m   3810\u001b[0m     \u001b[38;5;28mself\u001b[39m\u001b[38;5;241m.\u001b[39m_check_indexing_error(key)\n",
      "\u001b[1;31mKeyError\u001b[0m: 'WinningPercentage'"
     ]
    }
   ],
   "source": [
    "import pandas as pd\n",
    "from sklearn.model_selection import train_test_split\n",
    "from sklearn.ensemble import RandomForestRegressor\n",
    "from sklearn.metrics import mean_squared_error\n",
    "\n",
    "# Load the data\n",
    "data = pd.read_csv(\"new_dataset.csv\")  # Replace \"your_dataset.csv\" with the filename of your dataset\n",
    "\n",
    "# Select relevant features and target variable\n",
    "features = ['Goals', 'Assists', 'PassCompletionRate', 'ShotsOnTarget', 'TacklesWon', 'CleanSheets', \n",
    "            'PlayerFatigue', 'MatchPressure', 'InjuryHistory', 'TrainingHours', 'EffectiveTraining_winsorized']\n",
    "target = 'WinningPercentage'  # Replace 'WinningPercentage' with the actual target variable name\n",
    "\n",
    "# Split the data into training and testing sets\n",
    "X_train, X_test, y_train, y_test = train_test_split(data[features], data[target], test_size=0.2, random_state=42)\n",
    "\n",
    "# Initialize the Random Forest Regressor model\n",
    "model = RandomForestRegressor(n_estimators=100, random_state=42)\n",
    "\n",
    "# Train the model\n",
    "model.fit(X_train, y_train)\n",
    "\n",
    "# Make predictions on the testing set\n",
    "predictions = model.predict(X_test)\n",
    "\n",
    "# Evaluate the model\n",
    "mse = mean_squared_error(y_test, predictions)\n",
    "print(\"Mean Squared Error:\", mse)\n"
   ]
  },
  {
   "cell_type": "code",
   "execution_count": 136,
   "metadata": {},
   "outputs": [
    {
     "name": "stdout",
     "output_type": "stream",
     "text": [
      "Index(['Played_Id', 'Player', 'Team', 'Age', 'Position', 'Assists',\n",
      "       'YellowCards', 'RedCards', 'PassCompletionRate', 'DistanceCovered',\n",
      "       'Sprints', 'ShotsOnTarget', 'TacklesWon', 'CleanSheets',\n",
      "       'PlayerFatigue', 'MatchPressure', 'InjuryHistory', 'TrainingHours',\n",
      "       'Season', 'Goals_winsorized', 'Height_winsorized', 'Weight_winsorized',\n",
      "       'FatigueInjuryCorrelation_winsorized',\n",
      "       'PressurePerformanceImpact_winsorized', 'EffectiveTraining_winsorized',\n",
      "       'Goals', 'PassCompletionRateQuarter', 'DistanceCoveredBins',\n",
      "       'SprintsBins'],\n",
      "      dtype='object')\n"
     ]
    }
   ],
   "source": [
    "print(df.columns)"
   ]
  },
  {
   "cell_type": "code",
   "execution_count": null,
   "metadata": {},
   "outputs": [],
   "source": []
  },
  {
   "cell_type": "code",
   "execution_count": null,
   "metadata": {},
   "outputs": [],
   "source": []
  }
 ],
 "metadata": {
  "kernelspec": {
   "display_name": "Python 3",
   "language": "python",
   "name": "python3"
  },
  "language_info": {
   "codemirror_mode": {
    "name": "ipython",
    "version": 3
   },
   "file_extension": ".py",
   "mimetype": "text/x-python",
   "name": "python",
   "nbconvert_exporter": "python",
   "pygments_lexer": "ipython3",
   "version": "3.10.7"
  }
 },
 "nbformat": 4,
 "nbformat_minor": 2
}
